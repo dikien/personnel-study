{
 "cells": [
  {
   "cell_type": "code",
   "execution_count": 4,
   "metadata": {
    "collapsed": true
   },
   "outputs": [],
   "source": [
    "from keras.datasets import mnist\n",
    "from keras.models import Sequential\n",
    "from keras.layers.core import Dense, Dropout, Activation\n",
    "from keras.regularizers import l2, l1\n",
    "from keras.constraints import maxnorm\n",
    "from keras.optimizers import SGD, Adam, RMSprop\n",
    "from keras.utils import np_utils\n",
    "import numpy as np\n",
    "from sklearn.datasets import fetch_mldata\n",
    "from sklearn.cross_validation import train_test_split\n",
    "from sklearn.datasets import fetch_mldata\n",
    "from sklearn.metrics import classification_report\n",
    "from sklearn.metrics import accuracy_score\n",
    "from sklearn.metrics import confusion_matrix\n",
    "from time import time"
   ]
  },
  {
   "cell_type": "code",
   "execution_count": 2,
   "metadata": {
    "collapsed": true
   },
   "outputs": [],
   "source": [
    "batch_size = 64\n",
    "nb_classes = 10\n",
    "nb_epoch = 20\n",
    "\n",
    "np.random.seed(1337) # for reproducibility"
   ]
  },
  {
   "cell_type": "code",
   "execution_count": 5,
   "metadata": {
    "collapsed": false
   },
   "outputs": [],
   "source": [
    "mnist = fetch_mldata('mnist-original')\n",
    "X_train, X_test, y_train, y_test = train_test_split(\n",
    "        (mnist.data / 255.0).astype(np.float32),\n",
    "        mnist.target.astype(np.int32),\n",
    "        test_size=0.33, random_state=1234)"
   ]
  },
  {
   "cell_type": "code",
   "execution_count": 7,
   "metadata": {
    "collapsed": true
   },
   "outputs": [],
   "source": [
    "# convert class vectors to binary class matrices\n",
    "y_train = np_utils.to_categorical(y_train, nb_classes)\n",
    "y_test = np_utils.to_categorical(y_test, nb_classes)"
   ]
  },
  {
   "cell_type": "code",
   "execution_count": 8,
   "metadata": {
    "collapsed": false
   },
   "outputs": [
    {
     "name": "stdout",
     "output_type": "stream",
     "text": [
      "Train on 46900 samples, validate on 23100 samples\n",
      "Epoch 0\n",
      "4s - loss: 0.4527 - acc.: 0.8671 - val. loss: 0.2070 - val. acc.: 0.9374\n",
      "Epoch 1\n",
      "4s - loss: 0.1980 - acc.: 0.9414 - val. loss: 0.1413 - val. acc.: 0.9564\n",
      "Epoch 2\n",
      "4s - loss: 0.1446 - acc.: 0.9569 - val. loss: 0.1192 - val. acc.: 0.9638\n",
      "Epoch 3\n",
      "4s - loss: 0.1177 - acc.: 0.9643 - val. loss: 0.1009 - val. acc.: 0.9699\n",
      "Epoch 4\n",
      "4s - loss: 0.1037 - acc.: 0.9677 - val. loss: 0.1042 - val. acc.: 0.9699\n",
      "Epoch 5\n",
      "4s - loss: 0.0903 - acc.: 0.9728 - val. loss: 0.0863 - val. acc.: 0.9745\n",
      "Epoch 6\n",
      "4s - loss: 0.0810 - acc.: 0.9752 - val. loss: 0.0938 - val. acc.: 0.9731\n",
      "Epoch 7\n",
      "4s - loss: 0.0754 - acc.: 0.9763 - val. loss: 0.0856 - val. acc.: 0.9754\n",
      "Epoch 8\n",
      "4s - loss: 0.0694 - acc.: 0.9782 - val. loss: 0.0892 - val. acc.: 0.9756\n",
      "Epoch 9\n",
      "4s - loss: 0.0645 - acc.: 0.9793 - val. loss: 0.0832 - val. acc.: 0.9771\n",
      "Epoch 10\n",
      "4s - loss: 0.0586 - acc.: 0.9812 - val. loss: 0.0834 - val. acc.: 0.9781\n",
      "Epoch 11\n",
      "4s - loss: 0.0557 - acc.: 0.9820 - val. loss: 0.0918 - val. acc.: 0.9759\n",
      "Epoch 12\n",
      "4s - loss: 0.0531 - acc.: 0.9828 - val. loss: 0.0911 - val. acc.: 0.9762\n",
      "Epoch 13\n",
      "4s - loss: 0.0475 - acc.: 0.9851 - val. loss: 0.0913 - val. acc.: 0.9777\n",
      "Epoch 14\n",
      "4s - loss: 0.0491 - acc.: 0.9842 - val. loss: 0.0918 - val. acc.: 0.9766\n",
      "Epoch 15\n",
      "4s - loss: 0.0441 - acc.: 0.9863 - val. loss: 0.0942 - val. acc.: 0.9787\n",
      "Epoch 16\n",
      "4s - loss: 0.0447 - acc.: 0.9858 - val. loss: 0.0927 - val. acc.: 0.9776\n",
      "Epoch 17\n",
      "4s - loss: 0.0416 - acc.: 0.9865 - val. loss: 0.0900 - val. acc.: 0.9788\n",
      "Epoch 18\n",
      "4s - loss: 0.0405 - acc.: 0.9867 - val. loss: 0.0933 - val. acc.: 0.9779\n",
      "Epoch 19\n",
      "4s - loss: 0.0373 - acc.: 0.9884 - val. loss: 0.0949 - val. acc.: 0.9779\n",
      "escape time :  86.6 s\n",
      "Test score : 0.0952238568285\n",
      "Test accuracy : 0.977889042357\n"
     ]
    }
   ],
   "source": [
    "model = Sequential()\n",
    "model.add(Dense(784, 128))\n",
    "model.add(Activation('relu'))\n",
    "model.add(Dropout(0.2))\n",
    "model.add(Dense(128, 128))\n",
    "model.add(Activation('relu'))\n",
    "model.add(Dropout(0.2))\n",
    "model.add(Dense(128, 10))\n",
    "model.add(Activation('softmax'))\n",
    "\n",
    "rms = RMSprop()\n",
    "model.compile(loss='categorical_crossentropy', optimizer=rms)\n",
    "\n",
    "t0 = time()\n",
    "model.fit(X_train, y_train, batch_size=batch_size, nb_epoch=nb_epoch, show_accuracy=True, verbose=2, validation_data=(X_test, y_test))\n",
    "print \"escape time : \", round(time()-t0, 3), \"s\"\n",
    "\n",
    "score = model.evaluate(X_test, y_test, show_accuracy=True, verbose=0)\n",
    "print 'Test score : %s' %score[0]\n",
    "print 'Test accuracy : %s' %score[1]"
   ]
  }
 ],
 "metadata": {
  "kernelspec": {
   "display_name": "Python 2",
   "language": "python",
   "name": "python2"
  },
  "language_info": {
   "codemirror_mode": {
    "name": "ipython",
    "version": 2
   },
   "file_extension": ".py",
   "mimetype": "text/x-python",
   "name": "python",
   "nbconvert_exporter": "python",
   "pygments_lexer": "ipython2",
   "version": "2.7.9"
  }
 },
 "nbformat": 4,
 "nbformat_minor": 0
}
