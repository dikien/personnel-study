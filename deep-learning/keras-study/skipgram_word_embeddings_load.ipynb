{
 "cells": [
  {
   "cell_type": "code",
   "execution_count": 1,
   "metadata": {
    "collapsed": true
   },
   "outputs": [],
   "source": [
    "import numpy as np\n",
    "import theano\n",
    "import six.moves.cPickle\n",
    "import os, re, json\n",
    "\n",
    "from keras.preprocessing import sequence, text\n",
    "from keras.optimizers import SGD, RMSprop, Adagrad\n",
    "from keras.utils import np_utils, generic_utils\n",
    "from keras.models import Sequential\n",
    "from keras.layers.embeddings import WordContextProduct, Embedding\n",
    "from six.moves import range\n",
    "from six.moves import zip"
   ]
  },
  {
   "cell_type": "code",
   "execution_count": 3,
   "metadata": {
    "collapsed": true
   },
   "outputs": [],
   "source": [
    "save_dir = os.path.expanduser(\".\")\n",
    "model_load_fname = \"HN_skipgram_model.pkl\"\n",
    "tokenizer_fname = \"HN_tokenizer.pkl\""
   ]
  },
  {
   "cell_type": "code",
   "execution_count": 4,
   "metadata": {
    "collapsed": false
   },
   "outputs": [
    {
     "name": "stdout",
     "output_type": "stream",
     "text": [
      "Load tokenizer...\n"
     ]
    }
   ],
   "source": [
    "print('Load tokenizer...')\n",
    "tokenizer = six.moves.cPickle.load(open(os.path.join(save_dir, tokenizer_fname), 'rb'))"
   ]
  },
  {
   "cell_type": "code",
   "execution_count": 6,
   "metadata": {
    "collapsed": false
   },
   "outputs": [
    {
     "name": "stdout",
     "output_type": "stream",
     "text": [
      "Load model...\n"
     ]
    },
    {
     "ename": "ImportError",
     "evalue": "(ImportError('Cuda not found. Cannot unpickle CudaNdarray',), <function CudaNdarray_unpickler at 0x107359758>, (array([[-0.02004798, -0.02596619, -0.00862519, ...,  0.02262697,\n         0.03732351,  0.02721451],\n       [ 1.07712495,  1.2389555 ,  0.92546201, ...,  0.80118185,\n        -0.45655599, -0.44933426],\n       [ 1.00690901,  1.17392027,  0.82623017, ...,  0.65599167,\n        -0.36406639, -0.43431112],\n       ..., \n       [-0.09638551, -0.14961819, -0.12817323, ..., -0.07112283,\n         0.0881803 ,  0.0745483 ],\n       [-0.09522938, -0.14020291, -0.06587265, ..., -0.0633176 ,\n         0.09833182,  0.04755498],\n       [-0.09329528, -0.10363635, -0.14598981, ..., -0.11916271,\n         0.01624025,  0.09862944]], dtype=float32),))",
     "output_type": "error",
     "traceback": [
      "\u001b[0;31m---------------------------------------------------------------------------\u001b[0m",
      "\u001b[0;31mImportError\u001b[0m                               Traceback (most recent call last)",
      "\u001b[0;32m<ipython-input-6-c5a4c35b19ac>\u001b[0m in \u001b[0;36m<module>\u001b[0;34m()\u001b[0m\n\u001b[1;32m      1\u001b[0m \u001b[0;32mprint\u001b[0m\u001b[0;34m(\u001b[0m\u001b[0;34m'Load model...'\u001b[0m\u001b[0;34m)\u001b[0m\u001b[0;34m\u001b[0m\u001b[0m\n\u001b[0;32m----> 2\u001b[0;31m \u001b[0mmodel\u001b[0m \u001b[0;34m=\u001b[0m \u001b[0msix\u001b[0m\u001b[0;34m.\u001b[0m\u001b[0mmoves\u001b[0m\u001b[0;34m.\u001b[0m\u001b[0mcPickle\u001b[0m\u001b[0;34m.\u001b[0m\u001b[0mload\u001b[0m\u001b[0;34m(\u001b[0m\u001b[0mopen\u001b[0m\u001b[0;34m(\u001b[0m\u001b[0mos\u001b[0m\u001b[0;34m.\u001b[0m\u001b[0mpath\u001b[0m\u001b[0;34m.\u001b[0m\u001b[0mjoin\u001b[0m\u001b[0;34m(\u001b[0m\u001b[0msave_dir\u001b[0m\u001b[0;34m,\u001b[0m \u001b[0mmodel_load_fname\u001b[0m\u001b[0;34m)\u001b[0m\u001b[0;34m,\u001b[0m \u001b[0;34m'rb'\u001b[0m\u001b[0;34m)\u001b[0m\u001b[0;34m)\u001b[0m\u001b[0;34m\u001b[0m\u001b[0m\n\u001b[0m",
      "\u001b[0;32m/Users/dikien/anaconda/lib/python2.7/site-packages/theano/sandbox/cuda/type.pyc\u001b[0m in \u001b[0;36mCudaNdarray_unpickler\u001b[0;34m(npa)\u001b[0m\n\u001b[1;32m    544\u001b[0m         \u001b[0;32mreturn\u001b[0m \u001b[0mcuda\u001b[0m\u001b[0;34m.\u001b[0m\u001b[0mCudaNdarray\u001b[0m\u001b[0;34m(\u001b[0m\u001b[0mnpa\u001b[0m\u001b[0;34m)\u001b[0m\u001b[0;34m\u001b[0m\u001b[0m\n\u001b[1;32m    545\u001b[0m     \u001b[0;32melse\u001b[0m\u001b[0;34m:\u001b[0m\u001b[0;34m\u001b[0m\u001b[0m\n\u001b[0;32m--> 546\u001b[0;31m         \u001b[0;32mraise\u001b[0m \u001b[0mImportError\u001b[0m\u001b[0;34m(\u001b[0m\u001b[0;34m\"Cuda not found. Cannot unpickle CudaNdarray\"\u001b[0m\u001b[0;34m)\u001b[0m\u001b[0;34m\u001b[0m\u001b[0m\n\u001b[0m\u001b[1;32m    547\u001b[0m \u001b[0;34m\u001b[0m\u001b[0m\n\u001b[1;32m    548\u001b[0m \u001b[0mcopy_reg\u001b[0m\u001b[0;34m.\u001b[0m\u001b[0mconstructor\u001b[0m\u001b[0;34m(\u001b[0m\u001b[0mCudaNdarray_unpickler\u001b[0m\u001b[0;34m)\u001b[0m\u001b[0;34m\u001b[0m\u001b[0m\n",
      "\u001b[0;31mImportError\u001b[0m: (ImportError('Cuda not found. Cannot unpickle CudaNdarray',), <function CudaNdarray_unpickler at 0x107359758>, (array([[-0.02004798, -0.02596619, -0.00862519, ...,  0.02262697,\n         0.03732351,  0.02721451],\n       [ 1.07712495,  1.2389555 ,  0.92546201, ...,  0.80118185,\n        -0.45655599, -0.44933426],\n       [ 1.00690901,  1.17392027,  0.82623017, ...,  0.65599167,\n        -0.36406639, -0.43431112],\n       ..., \n       [-0.09638551, -0.14961819, -0.12817323, ..., -0.07112283,\n         0.0881803 ,  0.0745483 ],\n       [-0.09522938, -0.14020291, -0.06587265, ..., -0.0633176 ,\n         0.09833182,  0.04755498],\n       [-0.09329528, -0.10363635, -0.14598981, ..., -0.11916271,\n         0.01624025,  0.09862944]], dtype=float32),))"
     ]
    }
   ],
   "source": [
    "print('Load model...')\n",
    "model = six.moves.cPickle.load(open(os.path.join(save_dir, model_load_fname), 'rb'))"
   ]
  },
  {
   "cell_type": "code",
   "execution_count": 7,
   "metadata": {
    "collapsed": true
   },
   "outputs": [],
   "source": [
    "# GPU가 없어서 안됨"
   ]
  }
 ],
 "metadata": {
  "kernelspec": {
   "display_name": "Python 2",
   "language": "python",
   "name": "python2"
  },
  "language_info": {
   "codemirror_mode": {
    "name": "ipython",
    "version": 2
   },
   "file_extension": ".py",
   "mimetype": "text/x-python",
   "name": "python",
   "nbconvert_exporter": "python",
   "pygments_lexer": "ipython2",
   "version": "2.7.10"
  }
 },
 "nbformat": 4,
 "nbformat_minor": 0
}
