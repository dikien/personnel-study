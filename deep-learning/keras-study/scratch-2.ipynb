{
 "cells": [
  {
   "cell_type": "code",
   "execution_count": 1,
   "metadata": {
    "collapsed": true
   },
   "outputs": [],
   "source": [
    "from keras.datasets import mnist\n",
    "from keras.models import Sequential\n",
    "from keras.layers.core import Dense, Dropout, Activation\n",
    "from keras.regularizers import l2, l1\n",
    "from keras.constraints import maxnorm\n",
    "from keras.optimizers import SGD, Adam, RMSprop\n",
    "from keras.utils import np_utils\n",
    "import numpy as np\n",
    "import pandas as pd\n",
    "from sklearn.datasets import fetch_mldata\n",
    "from sklearn.cross_validation import train_test_split\n",
    "from sklearn.datasets import fetch_mldata\n",
    "from sklearn.metrics import classification_report\n",
    "from sklearn.metrics import accuracy_score\n",
    "from sklearn.metrics import confusion_matrix\n",
    "from time import time"
   ]
  },
  {
   "cell_type": "code",
   "execution_count": 2,
   "metadata": {
    "collapsed": false
   },
   "outputs": [],
   "source": [
    "batch_size = 100\n",
    "nb_classes = 10\n",
    "nb_epoch = 2\n",
    "np.random.seed(1337) # for reproducibility"
   ]
  },
  {
   "cell_type": "code",
   "execution_count": 3,
   "metadata": {
    "collapsed": false
   },
   "outputs": [],
   "source": [
    "mnist = fetch_mldata('mnist-original')\n",
    "X_train, X_test, y_train, y_test = train_test_split(\n",
    "        (mnist.data / 255.0).astype(np.float32),\n",
    "        mnist.target.astype(np.int32),\n",
    "        test_size=0.33, random_state=1234)"
   ]
  },
  {
   "cell_type": "code",
   "execution_count": 4,
   "metadata": {
    "collapsed": true
   },
   "outputs": [],
   "source": [
    "# convert class vectors to binary class matrices\n",
    "y_train = np_utils.to_categorical(y_train, nb_classes)\n",
    "y_test = np_utils.to_categorical(y_test, nb_classes)"
   ]
  },
  {
   "cell_type": "code",
   "execution_count": 11,
   "metadata": {
    "collapsed": false
   },
   "outputs": [],
   "source": [
    "model = Sequential()\n",
    "model.add(Dense(784, 128))\n",
    "model.add(Activation('relu'))\n",
    "model.add(Dense(128, 128))\n",
    "model.add(Activation('relu'))\n",
    "model.add(Dense(128, 10))\n",
    "model.add(Activation('softmax'))\n",
    "\n",
    "rms = RMSprop()\n",
    "model.compile(loss='categorical_crossentropy', optimizer=rms)"
   ]
  },
  {
   "cell_type": "code",
   "execution_count": 12,
   "metadata": {
    "collapsed": false
   },
   "outputs": [
    {
     "name": "stdout",
     "output_type": "stream",
     "text": [
      "Epoch 0\n",
      "2s - loss: 0.4156 - acc.: 0.8825\n",
      "Epoch 1\n",
      "2s - loss: 0.1750 - acc.: 0.9482\n"
     ]
    },
    {
     "data": {
      "text/plain": [
       "{'acc': [0.88245202558635394, 0.9482089552238806],\n",
       " 'epoch': [0, 1],\n",
       " 'loss': [0.41560721486208752, 0.17501242122249899]}"
      ]
     },
     "execution_count": 12,
     "metadata": {},
     "output_type": "execute_result"
    }
   ],
   "source": [
    "model.fit(X_train, y_train, batch_size=batch_size, nb_epoch=nb_epoch, show_accuracy=True, verbose=2)"
   ]
  },
  {
   "cell_type": "code",
   "execution_count": 41,
   "metadata": {
    "collapsed": false
   },
   "outputs": [],
   "source": [
    "model2 = Sequential()\n",
    "model2.add(Dense(784, 128, weights=model.layers[0].get_weights()))\n",
    "model2.add(Activation('relu'))\n",
    "\n",
    "model2.compile(loss='categorical_crossentropy', optimizer=rms)"
   ]
  },
  {
   "cell_type": "code",
   "execution_count": 43,
   "metadata": {
    "collapsed": false
   },
   "outputs": [
    {
     "name": "stdout",
     "output_type": "stream",
     "text": [
      "23100/23100 [==============================] - 0s     \n"
     ]
    }
   ],
   "source": [
    "a = model2.predict(X_test)"
   ]
  },
  {
   "cell_type": "code",
   "execution_count": 49,
   "metadata": {
    "collapsed": false
   },
   "outputs": [
    {
     "name": "stdout",
     "output_type": "stream",
     "text": [
      "(128,)\n",
      "[ 0.  0.  0.  0.  1.  0.  0.  0.  0.  0.]\n"
     ]
    }
   ],
   "source": [
    "print a[0].shape\n",
    "print y_test[0]"
   ]
  },
  {
   "cell_type": "code",
   "execution_count": 51,
   "metadata": {
    "collapsed": false
   },
   "outputs": [
    {
     "data": {
      "text/plain": [
       "784"
      ]
     },
     "execution_count": 51,
     "metadata": {},
     "output_type": "execute_result"
    }
   ],
   "source": [
    "28*28"
   ]
  },
  {
   "cell_type": "code",
   "execution_count": null,
   "metadata": {
    "collapsed": true
   },
   "outputs": [],
   "source": []
  },
  {
   "cell_type": "code",
   "execution_count": 30,
   "metadata": {
    "collapsed": false
   },
   "outputs": [
    {
     "name": "stdout",
     "output_type": "stream",
     "text": [
      "(784, 128)\n",
      "(128,)\n"
     ]
    }
   ],
   "source": [
    "print model.layers[0].get_weights()[0].shape\n",
    "print model.layers[0].get_weights()[1].shape"
   ]
  },
  {
   "cell_type": "code",
   "execution_count": 38,
   "metadata": {
    "collapsed": false
   },
   "outputs": [
    {
     "name": "stdout",
     "output_type": "stream",
     "text": [
      "23100/23100 [==============================] - 0s     \n"
     ]
    },
    {
     "data": {
      "text/plain": [
       "array([[  1.50312530e-05,   1.76192264e-07,   8.22625685e-05, ...,\n",
       "          1.95412379e-05,   3.72427236e-05,   5.16098000e-04],\n",
       "       [  4.55915244e-06,   8.40894877e-07,   5.37658340e-06, ...,\n",
       "          5.34605132e-04,   4.70654030e-05,   9.79131553e-01],\n",
       "       [  1.09445249e-03,   1.71516844e-05,   1.86267585e-03, ...,\n",
       "          3.49014721e-04,   3.74491535e-05,   1.10402169e-03],\n",
       "       ..., \n",
       "       [  5.06238162e-04,   2.16803142e-05,   9.80179968e-01, ...,\n",
       "          3.22616644e-04,   3.09785075e-03,   1.01201899e-05],\n",
       "       [  5.53817717e-06,   2.19545802e-05,   1.97015418e-05, ...,\n",
       "          3.97852334e-05,   3.03472929e-02,   1.86204362e-02],\n",
       "       [  2.96912506e-05,   4.44483166e-04,   5.09012152e-05, ...,\n",
       "          8.78157401e-05,   4.88553201e-02,   7.53322212e-04]])"
      ]
     },
     "execution_count": 38,
     "metadata": {},
     "output_type": "execute_result"
    }
   ],
   "source": [
    "model.predict_proba(X_test)"
   ]
  },
  {
   "cell_type": "code",
   "execution_count": 39,
   "metadata": {
    "collapsed": false
   },
   "outputs": [
    {
     "name": "stdout",
     "output_type": "stream",
     "text": [
      "23100/23100 [==============================] - 0s     \n"
     ]
    },
    {
     "data": {
      "text/plain": [
       "array([4, 9, 6, ..., 2, 3, 5])"
      ]
     },
     "execution_count": 39,
     "metadata": {},
     "output_type": "execute_result"
    }
   ],
   "source": [
    "model.predict_classes(X_test)"
   ]
  },
  {
   "cell_type": "code",
   "execution_count": 40,
   "metadata": {
    "collapsed": false
   },
   "outputs": [
    {
     "name": "stdout",
     "output_type": "stream",
     "text": [
      "23100/23100 [==============================] - 0s     \n"
     ]
    },
    {
     "data": {
      "text/plain": [
       "array([[  1.50312530e-05,   1.76192264e-07,   8.22625685e-05, ...,\n",
       "          1.95412379e-05,   3.72427236e-05,   5.16098000e-04],\n",
       "       [  4.55915244e-06,   8.40894877e-07,   5.37658340e-06, ...,\n",
       "          5.34605132e-04,   4.70654030e-05,   9.79131553e-01],\n",
       "       [  1.09445249e-03,   1.71516844e-05,   1.86267585e-03, ...,\n",
       "          3.49014721e-04,   3.74491535e-05,   1.10402169e-03],\n",
       "       ..., \n",
       "       [  5.06238162e-04,   2.16803142e-05,   9.80179968e-01, ...,\n",
       "          3.22616644e-04,   3.09785075e-03,   1.01201899e-05],\n",
       "       [  5.53817717e-06,   2.19545802e-05,   1.97015418e-05, ...,\n",
       "          3.97852334e-05,   3.03472929e-02,   1.86204362e-02],\n",
       "       [  2.96912506e-05,   4.44483166e-04,   5.09012152e-05, ...,\n",
       "          8.78157401e-05,   4.88553201e-02,   7.53322212e-04]])"
      ]
     },
     "execution_count": 40,
     "metadata": {},
     "output_type": "execute_result"
    }
   ],
   "source": [
    "model.predict(X_test)"
   ]
  },
  {
   "cell_type": "code",
   "execution_count": 7,
   "metadata": {
    "collapsed": false
   },
   "outputs": [
    {
     "name": "stdout",
     "output_type": "stream",
     "text": [
      "(784, 128)\n",
      "(128,)\n",
      "(128, 128)\n",
      "(128,)\n",
      "(128, 10)\n",
      "(10,)\n"
     ]
    }
   ],
   "source": [
    "print model.get_weights()[0].shape\n",
    "print model.get_weights()[1].shape\n",
    "print model.get_weights()[2].shape\n",
    "print model.get_weights()[3].shape\n",
    "print model.get_weights()[4].shape\n",
    "print model.get_weights()[5].shape"
   ]
  },
  {
   "cell_type": "code",
   "execution_count": 8,
   "metadata": {
    "collapsed": false
   },
   "outputs": [
    {
     "name": "stdout",
     "output_type": "stream",
     "text": [
      "Softmax.0\n"
     ]
    }
   ],
   "source": [
    "print model.get_output()"
   ]
  },
  {
   "cell_type": "code",
   "execution_count": 9,
   "metadata": {
    "collapsed": false
   },
   "outputs": [
    {
     "data": {
      "text/plain": [
       "<bound method Sequential.predict_proba of <keras.models.Sequential object at 0x109ba00d0>>"
      ]
     },
     "execution_count": 9,
     "metadata": {},
     "output_type": "execute_result"
    }
   ],
   "source": [
    "model.predict_proba"
   ]
  },
  {
   "cell_type": "code",
   "execution_count": 10,
   "metadata": {
    "collapsed": false
   },
   "outputs": [
    {
     "name": "stdout",
     "output_type": "stream",
     "text": [
      "<keras.layers.core.Dense object at 0x109ba0090>\n",
      "<keras.layers.core.Activation object at 0x109ba0150>\n"
     ]
    }
   ],
   "source": [
    "print model.layers[0]\n",
    "print model.layers[1]\n",
    "l1 = model.layers[0]\n",
    "l2 = model.layers[1]"
   ]
  },
  {
   "cell_type": "code",
   "execution_count": 11,
   "metadata": {
    "collapsed": false
   },
   "outputs": [
    {
     "name": "stdout",
     "output_type": "stream",
     "text": [
      "(784, 128)\n",
      "(128,)\n",
      "\n",
      "\n",
      "\n",
      "(128, 128)\n",
      "(128,)\n",
      "\n",
      "\n",
      "\n",
      "(128, 10)\n",
      "(10,)\n",
      "\n",
      "\n"
     ]
    }
   ],
   "source": [
    "for l in model.layers:\n",
    "    ww = l.get_weights()\n",
    "    for i in ww:\n",
    "        print i.shape\n",
    "    print "
   ]
  },
  {
   "cell_type": "code",
   "execution_count": 12,
   "metadata": {
    "collapsed": false
   },
   "outputs": [
    {
     "name": "stdout",
     "output_type": "stream",
     "text": [
      "<TensorType(float64, matrix)>\n",
      "<function linear at 0x107206aa0>\n",
      "<TensorType(float64, vector)>\n",
      "<bound method Dense.connect of <keras.layers.core.Dense object at 0x109ba0090>>\n",
      "[None, None]\n",
      "{'output_dim': 128, 'init': 'glorot_uniform', 'activation': 'linear', 'name': 'Dense', 'input_dim': 784}\n",
      "<bound method Dense.get_input of <keras.layers.core.Dense object at 0x109ba0090>>\n",
      "<function glorot_uniform at 0x107206e60>\n",
      "<TensorType(float64, matrix)>\n",
      "[array([[-0.02228843, -0.03196717, -0.02078036, ...,  0.01706213,\n",
      "        -0.00175904,  0.04088276],\n",
      "       [ 0.00762368, -0.02939873, -0.02932186, ..., -0.03431994,\n",
      "         0.02931596,  0.02220792],\n",
      "       [ 0.02288999,  0.03217546,  0.02339208, ..., -0.03766216,\n",
      "        -0.02539823, -0.03341346],\n",
      "       ..., \n",
      "       [ 0.00722906, -0.02683882, -0.02172514, ..., -0.03012692,\n",
      "        -0.00718376, -0.00656352],\n",
      "       [-0.00882501, -0.03115064, -0.01856273, ..., -0.01167483,\n",
      "         0.03620235,  0.03301103],\n",
      "       [ 0.03888712, -0.03137559, -0.0374804 , ..., -0.03370819,\n",
      "         0.03950158, -0.00325403]]), array([-0.04393619, -0.00422617,  0.04508981,  0.01635258,  0.03636349,\n",
      "        0.02634787,  0.03253269, -0.0068647 , -0.06086822,  0.08127944,\n",
      "        0.01407352,  0.07477905,  0.00250433,  0.02977351,  0.01453377,\n",
      "       -0.02660448,  0.02751523, -0.0107354 ,  0.02040303, -0.02865396,\n",
      "        0.06438286,  0.00011104,  0.05717212,  0.05657974, -0.00596116,\n",
      "       -0.08379902,  0.00780386,  0.03357766,  0.04086832, -0.02184547,\n",
      "        0.03747951,  0.01992137,  0.02316762,  0.00906717, -0.07557154,\n",
      "        0.05468904, -0.04335818,  0.04930746, -0.03245607,  0.05579761,\n",
      "       -0.02487587,  0.07829946, -0.07471236,  0.06605285, -0.01115548,\n",
      "       -0.01530014, -0.00527784, -0.04731319,  0.10676087,  0.06106861,\n",
      "       -0.00945507,  0.01844439, -0.0182679 ,  0.04433949,  0.04059699,\n",
      "        0.10093575, -0.00392908,  0.00769327,  0.04665201, -0.0638851 ,\n",
      "       -0.04787099,  0.04686063,  0.02885133,  0.03489821,  0.03662819,\n",
      "        0.00573642,  0.07087084,  0.06800933,  0.05542223,  0.01200268,\n",
      "       -0.01617728,  0.04775283,  0.00684704,  0.06892321, -0.0265125 ,\n",
      "        0.05120812, -0.01531227, -0.04826067, -0.01503271, -0.09236347,\n",
      "       -0.04388734, -0.00299919,  0.05741286,  0.02983764,  0.05269021,\n",
      "       -0.02274182,  0.07784502, -0.01525284,  0.07082865,  0.02331247,\n",
      "        0.05026318, -0.01514979,  0.00384451,  0.05296629,  0.0102998 ,\n",
      "        0.05839575,  0.08244099,  0.05154108, -0.08377316, -0.01328637,\n",
      "        0.09106039, -0.04377876,  0.0089555 ,  0.00844728,  0.00452837,\n",
      "        0.0242163 ,  0.08078732, -0.01311797,  0.07030779,  0.01277792,\n",
      "       -0.07008811,  0.02463853, -0.04300062, -0.03774756,  0.09036096,\n",
      "        0.00775428, -0.00919777,  0.07023773,  0.0331726 ,  0.073409  ,\n",
      "       -0.01337602, -0.01082848,  0.00539046, -0.00897375, -0.02152097,\n",
      "       -0.06372975,  0.05370549,  0.00520219])]\n",
      "784\n",
      "128\n",
      "[<TensorType(float64, matrix)>, <TensorType(float64, vector)>]\n",
      "[None, None]\n",
      "<bound method Dense.set_weights of <keras.layers.core.Dense object at 0x109ba0090>>\n"
     ]
    }
   ],
   "source": [
    "print l1.W\n",
    "print l1.activation\n",
    "print l1.b\n",
    "print l1.connect\n",
    "print l1.constraints\n",
    "print l1.get_config()\n",
    "print l1.get_input\n",
    "print l1.init\n",
    "print l1.input\n",
    "print l1.get_weights()\n",
    "print l1.input_dim\n",
    "print l1.output_dim\n",
    "print l1.params\n",
    "print l1.regularizers\n",
    "print l1.set_weights"
   ]
  },
  {
   "cell_type": "code",
   "execution_count": 13,
   "metadata": {
    "collapsed": false
   },
   "outputs": [
    {
     "name": "stdout",
     "output_type": "stream",
     "text": [
      "<function linear at 0x107206aa0>\n",
      "<function relu at 0x1072068c0>\n",
      "[array([[-0.02228843, -0.03196717, -0.02078036, ...,  0.01706213,\n",
      "        -0.00175904,  0.04088276],\n",
      "       [ 0.00762368, -0.02939873, -0.02932186, ..., -0.03431994,\n",
      "         0.02931596,  0.02220792],\n",
      "       [ 0.02288999,  0.03217546,  0.02339208, ..., -0.03766216,\n",
      "        -0.02539823, -0.03341346],\n",
      "       ..., \n",
      "       [ 0.00722906, -0.02683882, -0.02172514, ..., -0.03012692,\n",
      "        -0.00718376, -0.00656352],\n",
      "       [-0.00882501, -0.03115064, -0.01856273, ..., -0.01167483,\n",
      "         0.03620235,  0.03301103],\n",
      "       [ 0.03888712, -0.03137559, -0.0374804 , ..., -0.03370819,\n",
      "         0.03950158, -0.00325403]]), array([-0.04393619, -0.00422617,  0.04508981,  0.01635258,  0.03636349,\n",
      "        0.02634787,  0.03253269, -0.0068647 , -0.06086822,  0.08127944,\n",
      "        0.01407352,  0.07477905,  0.00250433,  0.02977351,  0.01453377,\n",
      "       -0.02660448,  0.02751523, -0.0107354 ,  0.02040303, -0.02865396,\n",
      "        0.06438286,  0.00011104,  0.05717212,  0.05657974, -0.00596116,\n",
      "       -0.08379902,  0.00780386,  0.03357766,  0.04086832, -0.02184547,\n",
      "        0.03747951,  0.01992137,  0.02316762,  0.00906717, -0.07557154,\n",
      "        0.05468904, -0.04335818,  0.04930746, -0.03245607,  0.05579761,\n",
      "       -0.02487587,  0.07829946, -0.07471236,  0.06605285, -0.01115548,\n",
      "       -0.01530014, -0.00527784, -0.04731319,  0.10676087,  0.06106861,\n",
      "       -0.00945507,  0.01844439, -0.0182679 ,  0.04433949,  0.04059699,\n",
      "        0.10093575, -0.00392908,  0.00769327,  0.04665201, -0.0638851 ,\n",
      "       -0.04787099,  0.04686063,  0.02885133,  0.03489821,  0.03662819,\n",
      "        0.00573642,  0.07087084,  0.06800933,  0.05542223,  0.01200268,\n",
      "       -0.01617728,  0.04775283,  0.00684704,  0.06892321, -0.0265125 ,\n",
      "        0.05120812, -0.01531227, -0.04826067, -0.01503271, -0.09236347,\n",
      "       -0.04388734, -0.00299919,  0.05741286,  0.02983764,  0.05269021,\n",
      "       -0.02274182,  0.07784502, -0.01525284,  0.07082865,  0.02331247,\n",
      "        0.05026318, -0.01514979,  0.00384451,  0.05296629,  0.0102998 ,\n",
      "        0.05839575,  0.08244099,  0.05154108, -0.08377316, -0.01328637,\n",
      "        0.09106039, -0.04377876,  0.0089555 ,  0.00844728,  0.00452837,\n",
      "        0.0242163 ,  0.08078732, -0.01311797,  0.07030779,  0.01277792,\n",
      "       -0.07008811,  0.02463853, -0.04300062, -0.03774756,  0.09036096,\n",
      "        0.00775428, -0.00919777,  0.07023773,  0.0331726 ,  0.073409  ,\n",
      "       -0.01337602, -0.01082848,  0.00539046, -0.00897375, -0.02152097,\n",
      "       -0.06372975,  0.05370549,  0.00520219])]\n",
      "[]\n"
     ]
    }
   ],
   "source": [
    "print l1.activation\n",
    "print l2.activation\n",
    "print l1.get_weights()\n",
    "print l2.get_weights()"
   ]
  },
  {
   "cell_type": "code",
   "execution_count": 14,
   "metadata": {
    "collapsed": false
   },
   "outputs": [],
   "source": [
    "tmp1 = l1.get_input(X_train[0])\n",
    "tmp2 = l1.get_output(X_train[0])"
   ]
  },
  {
   "cell_type": "code",
   "execution_count": 39,
   "metadata": {
    "collapsed": false
   },
   "outputs": [
    {
     "data": {
      "text/plain": [
       "<bound method Dense.get_output of <keras.layers.core.Dense object at 0x109ba0090>>"
      ]
     },
     "execution_count": 39,
     "metadata": {},
     "output_type": "execute_result"
    }
   ],
   "source": [
    "l2.previous.get_output"
   ]
  },
  {
   "cell_type": "code",
   "execution_count": 29,
   "metadata": {
    "collapsed": false
   },
   "outputs": [
    {
     "name": "stdout",
     "output_type": "stream",
     "text": [
      "<TensorType(float64, matrix)>\n"
     ]
    }
   ],
   "source": [
    "print l1.get_input(X_train)"
   ]
  },
  {
   "cell_type": "code",
   "execution_count": 27,
   "metadata": {
    "collapsed": false
   },
   "outputs": [
    {
     "name": "stdout",
     "output_type": "stream",
     "text": [
      "Elemwise{add,no_inplace}.0\n"
     ]
    }
   ],
   "source": [
    "print l1.get_output(l1.get_input(X_train))"
   ]
  },
  {
   "cell_type": "code",
   "execution_count": 40,
   "metadata": {
    "collapsed": false
   },
   "outputs": [
    {
     "data": {
      "text/plain": [
       "(2, 784)"
      ]
     },
     "execution_count": 40,
     "metadata": {},
     "output_type": "execute_result"
    }
   ],
   "source": [
    "X_train[0:2].shape"
   ]
  },
  {
   "cell_type": "code",
   "execution_count": 42,
   "metadata": {
    "collapsed": false
   },
   "outputs": [],
   "source": [
    "a1 = l1.get_input(X_train)"
   ]
  },
  {
   "cell_type": "code",
   "execution_count": 44,
   "metadata": {
    "collapsed": false
   },
   "outputs": [],
   "source": [
    "a2 = l1.get_output(a1)"
   ]
  },
  {
   "cell_type": "code",
   "execution_count": 52,
   "metadata": {
    "collapsed": false
   },
   "outputs": [],
   "source": [
    "a3 = l2.get_input(a2)"
   ]
  },
  {
   "cell_type": "code",
   "execution_count": 62,
   "metadata": {
    "collapsed": false
   },
   "outputs": [
    {
     "name": "stdout",
     "output_type": "stream",
     "text": [
      "<keras.layers.core.Dense object at 0x109ba0090>\n",
      "Elemwise{add,no_inplace}.0\n"
     ]
    }
   ],
   "source": [
    "print l2.previous\n",
    "print l2.get_input(l2.previous)\n",
    "a = l2.get_output(l2.get_input(l2.previous))\n"
   ]
  },
  {
   "cell_type": "code",
   "execution_count": 67,
   "metadata": {
    "collapsed": false
   },
   "outputs": [
    {
     "data": {
      "text/plain": [
       "Shape.0"
      ]
     },
     "execution_count": 67,
     "metadata": {},
     "output_type": "execute_result"
    }
   ],
   "source": [
    "a.shape"
   ]
  }
 ],
 "metadata": {
  "kernelspec": {
   "display_name": "Python 2",
   "language": "python",
   "name": "python2"
  },
  "language_info": {
   "codemirror_mode": {
    "name": "ipython",
    "version": 2
   },
   "file_extension": ".py",
   "mimetype": "text/x-python",
   "name": "python",
   "nbconvert_exporter": "python",
   "pygments_lexer": "ipython2",
   "version": "2.7.9"
  }
 },
 "nbformat": 4,
 "nbformat_minor": 0
}
