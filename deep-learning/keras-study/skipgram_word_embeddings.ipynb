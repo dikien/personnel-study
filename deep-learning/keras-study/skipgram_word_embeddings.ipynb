{
 "cells": [
  {
   "cell_type": "code",
   "execution_count": 2,
   "metadata": {
    "collapsed": true
   },
   "outputs": [],
   "source": [
    "import numpy as np\n",
    "import theano\n",
    "import six.moves.cPickle\n",
    "import os, re, json\n",
    "from keras.preprocessing import sequence, text\n",
    "from keras.optimizers import SGD, RMSprop, Adagrad\n",
    "from keras.utils import np_utils, generic_utils\n",
    "from keras.models import Sequential\n",
    "from keras.layers.embeddings import WordContextProduct, Embedding\n",
    "from six.moves import range\n",
    "from six.moves import zip"
   ]
  },
  {
   "cell_type": "code",
   "execution_count": 3,
   "metadata": {
    "collapsed": true
   },
   "outputs": [],
   "source": [
    "max_features = 50000 # vocabulary size: top 50,000 most common words in data\n",
    "skip_top = 100 # ignore top 100 most common words\n",
    "nb_epoch = 1\n",
    "dim_proj = 256 # embedding space dimension"
   ]
  },
  {
   "cell_type": "code",
   "execution_count": null,
   "metadata": {
    "collapsed": true
   },
   "outputs": [],
   "source": [
    "save = True\n",
    "load_model = False\n",
    "load_tokenizer = False\n",
    "train_model = True\n",
    "save_dir = os.path.expanduser(\"~/.keras/models\")\n",
    "model_load_fname = \"HN_skipgram_model.pkl\"\n",
    "model_save_fname = \"HN_skipgram_model.pkl\"\n",
    "tokenizer_fname = \"HN_tokenizer.pkl\""
   ]
  },
  {
   "cell_type": "code",
   "execution_count": null,
   "metadata": {
    "collapsed": true
   },
   "outputs": [],
   "source": [
    "data_path = os.path.expanduser(\"~/\")+\"HNCommentsAll.1perline.json\""
   ]
  },
  {
   "cell_type": "code",
   "execution_count": null,
   "metadata": {
    "collapsed": true
   },
   "outputs": [],
   "source": [
    "# text preprocessing utils\n",
    "html_tags = re.compile(r'<.*?>')\n",
    "to_replace = [('&#x27;', \"'\")]\n",
    "hex_tags = re.compile(r'&.*?;')\n",
    "\n",
    "def clean_comment(comment):\n",
    "    c = str(comment.encode(\"utf-8\"))\n",
    "    c = html_tags.sub(' ', c)\n",
    "    for tag, char in to_replace:\n",
    "        c = c.replace(tag, char)\n",
    "    c = hex_tags.sub(' ', c)\n",
    "    return c\n",
    "\n",
    "def text_generator(path=data_path):\n",
    "    f = open(path)\n",
    "    for i, l in enumerate(f):\n",
    "        comment_data = json.loads(l)\n",
    "        comment_text = comment_data[\"comment_text\"]\n",
    "        comment_text = clean_comment(comment_text)\n",
    "        if i % 10000 == 0:\n",
    "            print(i)\n",
    "        yield comment_text\n",
    "    f.close()"
   ]
  },
  {
   "cell_type": "code",
   "execution_count": null,
   "metadata": {
    "collapsed": true
   },
   "outputs": [],
   "source": [
    "# model management\n",
    "if load_tokenizer:\n",
    "    print('Load tokenizer...')\n",
    "    tokenizer = six.moves.cPickle.load(open(os.path.join(save_dir, tokenizer_fname), 'rb'))\n",
    "else:\n",
    "    print(\"Fit tokenizer...\")\n",
    "    tokenizer = text.Tokenizer(nb_words=max_features)\n",
    "    tokenizer.fit_on_texts(text_generator())\n",
    "    if save:\n",
    "        print(\"Save tokenizer...\")\n",
    "        if not os.path.exists(save_dir):\n",
    "            os.makedirs(save_dir)\n",
    "        six.moves.cPickle.dump(tokenizer, open(os.path.join(save_dir, tokenizer_fname), \"wb\"))"
   ]
  },
  {
   "cell_type": "code",
   "execution_count": null,
   "metadata": {
    "collapsed": true
   },
   "outputs": [],
   "source": [
    "# training process\n",
    "if train_model:\n",
    "    if load_model:\n",
    "        print('Load model...')\n",
    "        model = six.moves.cPickle.load(open(os.path.join(save_dir, model_load_fname), 'rb'))\n",
    "    else:\n",
    "        print('Build model...')\n",
    "        model = Sequential()\n",
    "        model.add(WordContextProduct(max_features, proj_dim=dim_proj, init=\"uniform\"))\n",
    "        model.compile(loss='mse', optimizer='rmsprop')\n",
    "\n",
    "    sampling_table = sequence.make_sampling_table(max_features)\n",
    "\n",
    "    for e in range(nb_epoch):\n",
    "        print('-'*40)\n",
    "        print('Epoch', e)\n",
    "        print('-'*40)\n",
    "\n",
    "        progbar = generic_utils.Progbar(tokenizer.document_count)\n",
    "        samples_seen = 0\n",
    "        losses = []\n",
    "        \n",
    "        for i, seq in enumerate(tokenizer.texts_to_sequences_generator(text_generator())):\n",
    "            # get skipgram couples for one text in the dataset\n",
    "            couples, labels = sequence.skipgrams(seq, max_features, window_size=4, negative_samples=1., sampling_table=sampling_table)\n",
    "            if couples:\n",
    "                # one gradient update per sentence (one sentence = a few 1000s of word couples)\n",
    "                X = np.array(couples, dtype=\"int32\")\n",
    "                loss = model.train(X, labels)\n",
    "                losses.append(loss)\n",
    "                if len(losses) % 100 == 0:\n",
    "                    progbar.update(i, values=[(\"loss\", np.mean(losses))])\n",
    "                    losses = []\n",
    "                samples_seen += len(labels)\n",
    "        print('Samples seen:', samples_seen)\n",
    "    print(\"Training completed!\")\n",
    "\n",
    "    if save:\n",
    "        print(\"Saving model...\")\n",
    "        if not os.path.exists(save_dir):\n",
    "            os.makedirs(save_dir)\n",
    "        six.moves.cPickle.dump(model, open(os.path.join(save_dir, model_save_fname), \"wb\"))"
   ]
  },
  {
   "cell_type": "code",
   "execution_count": null,
   "metadata": {
    "collapsed": true
   },
   "outputs": [],
   "source": [
    "print(\"It's test time!\")\n",
    "\n",
    "# recover the embedding weights trained with skipgram:\n",
    "weights = model.layers[0].get_weights()[0]\n",
    "\n",
    "# we no longer need this\n",
    "del model\n",
    "\n",
    "weights[:skip_top] = np.zeros((skip_top, dim_proj))\n",
    "norm_weights = np_utils.normalize(weights)\n",
    "\n",
    "word_index = tokenizer.word_index\n",
    "reverse_word_index = dict([(v, k) for k, v in list(word_index.items())])\n",
    "word_index = tokenizer.word_index\n",
    "\n",
    "def embed_word(w):\n",
    "    i = word_index.get(w)\n",
    "    if (not i) or (i<skip_top) or (i>=max_features):\n",
    "        return None\n",
    "    return norm_weights[i]\n",
    "\n",
    "def closest_to_point(point, nb_closest=10):\n",
    "    proximities = np.dot(norm_weights, point)\n",
    "    tups = list(zip(list(range(len(proximities))), proximities))\n",
    "    tups.sort(key=lambda x: x[1], reverse=True)\n",
    "    return [(reverse_word_index.get(t[0]), t[1]) for t in tups[:nb_closest]]  \n",
    "\n",
    "def closest_to_word(w, nb_closest=10):\n",
    "    i = word_index.get(w)\n",
    "    if (not i) or (i<skip_top) or (i>=max_features):\n",
    "        return []\n",
    "    return closest_to_point(norm_weights[i].T, nb_closest)"
   ]
  },
  {
   "cell_type": "code",
   "execution_count": null,
   "metadata": {
    "collapsed": true
   },
   "outputs": [],
   "source": [
    "words = [\"article\", # post, story, hn, read, comments\n",
    "\"3\", # 6, 4, 5, 2\n",
    "\"two\", # three, few, several, each\n",
    "\"great\", # love, nice, working, looking\n",
    "\"data\", # information, memory, database\n",
    "\"money\", # company, pay, customers, spend\n",
    "\"years\", # ago, year, months, hours, week, days\n",
    "\"android\", # ios, release, os, mobile, beta\n",
    "\"javascript\", # js, css, compiler, library, jquery, ruby\n",
    "\"look\", # looks, looking\n",
    "\"business\", # industry, professional, customers\n",
    "\"company\", # companies, startup, founders, startups\n",
    "\"after\", # before, once, until\n",
    "\"own\", # personal, our, having\n",
    "\"us\", # united, country, american, tech, diversity, usa, china, sv\n",
    "\"using\", # javascript, js, tools (lol)\n",
    "\"here\", # hn, post, comments\n",
    "]"
   ]
  },
  {
   "cell_type": "code",
   "execution_count": null,
   "metadata": {
    "collapsed": true
   },
   "outputs": [],
   "source": [
    "for w in words:\n",
    "    res = closest_to_word(w)\n",
    "    print('====', w)\n",
    "    for r in res:\n",
    "        print(r)"
   ]
  }
 ],
 "metadata": {
  "kernelspec": {
   "display_name": "Python 2",
   "language": "python",
   "name": "python2"
  },
  "language_info": {
   "codemirror_mode": {
    "name": "ipython",
    "version": 2
   },
   "file_extension": ".py",
   "mimetype": "text/x-python",
   "name": "python",
   "nbconvert_exporter": "python",
   "pygments_lexer": "ipython2",
   "version": "2.7.9"
  }
 },
 "nbformat": 4,
 "nbformat_minor": 0
}
