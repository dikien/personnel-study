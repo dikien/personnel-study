{
 "cells": [
  {
   "cell_type": "code",
   "execution_count": 1,
   "metadata": {
    "collapsed": true
   },
   "outputs": [],
   "source": [
    "from theano import tensor\n",
    "x = tensor.matrix('features')"
   ]
  },
  {
   "cell_type": "code",
   "execution_count": 2,
   "metadata": {
    "collapsed": true
   },
   "outputs": [],
   "source": [
    "from blocks.bricks import Linear, Rectifier, Softmax\n",
    "\n",
    "input_to_hidden = Linear(name='input_to_hidden', input_dim=784, output_dim=100)\n",
    "h = Rectifier().apply(input_to_hidden.apply(x))\n",
    "\n",
    "hidden_to_output = Linear(name='hidden_to_output', input_dim=100, output_dim=10)\n",
    "y_hat = Softmax().apply(hidden_to_output.apply(h))"
   ]
  },
  {
   "cell_type": "code",
   "execution_count": 3,
   "metadata": {
    "collapsed": true
   },
   "outputs": [],
   "source": [
    "y = tensor.lmatrix('targets')\n",
    "from blocks.bricks.cost import CategoricalCrossEntropy\n",
    "cost = CategoricalCrossEntropy().apply(y.flatten(), y_hat)"
   ]
  },
  {
   "cell_type": "code",
   "execution_count": 4,
   "metadata": {
    "collapsed": true
   },
   "outputs": [],
   "source": [
    "from blocks.bricks import WEIGHT\n",
    "from blocks.graph import ComputationGraph\n",
    "from blocks.filter import VariableFilter\n",
    "\n",
    "cg = ComputationGraph(cost)\n",
    "W1, W2 = VariableFilter(roles=[WEIGHT])(cg.variables)\n",
    "cost = cost + 0.005 * (W1 ** 2).sum() + 0.005 * (W2 ** 2).sum()\n",
    "cost.name = 'cost_with_regularization'"
   ]
  },
  {
   "cell_type": "code",
   "execution_count": 5,
   "metadata": {
    "collapsed": true
   },
   "outputs": [],
   "source": [
    "from blocks.bricks import MLP\n",
    "mlp = MLP(activations=[Rectifier(), Softmax()], dims=[784, 100, 10]).apply(x)"
   ]
  },
  {
   "cell_type": "code",
   "execution_count": 6,
   "metadata": {
    "collapsed": true
   },
   "outputs": [],
   "source": [
    "from blocks.initialization import IsotropicGaussian, Constant\n",
    "input_to_hidden.weights_init = hidden_to_output.weights_init = IsotropicGaussian(0.01)\n",
    "input_to_hidden.biases_init = hidden_to_output.biases_init = Constant(0)\n",
    "input_to_hidden.initialize()\n",
    "hidden_to_output.initialize()"
   ]
  },
  {
   "cell_type": "code",
   "execution_count": 7,
   "metadata": {
    "collapsed": false
   },
   "outputs": [],
   "source": [
    "from pprint import PrettyPrinter\n",
    "pp = PrettyPrinter(depth=6)"
   ]
  },
  {
   "cell_type": "code",
   "execution_count": 8,
   "metadata": {
    "collapsed": false
   },
   "outputs": [
    {
     "name": "stdout",
     "output_type": "stream",
     "text": [
      "{'_bound_applications': {'Linear.apply': <blocks.bricks.base.BoundApplication object at 0x107b22590>},\n",
      " '_children': [],\n",
      " '_params': [W, b],\n",
      " '_rng': <mtrand.RandomState object at 0x107cac310>,\n",
      " '_seed': 1791095845,\n",
      " 'allocated': True,\n",
      " 'allocation_args': ['input_dim', 'output_dim'],\n",
      " 'allocation_config_pushed': True,\n",
      " 'auxiliary_variables': [W_norm, b_norm],\n",
      " 'biases_init': <blocks.initialization.Constant object at 0x107c79e50>,\n",
      " 'initialization_args': [],\n",
      " 'initialization_config_pushed': True,\n",
      " 'initialized': True,\n",
      " 'input_dim': 784,\n",
      " 'name': 'input_to_hidden',\n",
      " 'output_dim': 100,\n",
      " 'parents': [],\n",
      " 'updates': OrderedDict(),\n",
      " 'use_bias': True,\n",
      " 'weights_init': <blocks.initialization.IsotropicGaussian object at 0x107c798d0>}\n"
     ]
    }
   ],
   "source": [
    "pp.pprint(input_to_hidden.__dict__)"
   ]
  },
  {
   "cell_type": "code",
   "execution_count": 9,
   "metadata": {
    "collapsed": false
   },
   "outputs": [
    {
     "name": "stdout",
     "output_type": "stream",
     "text": [
      "{'_mean': 0, '_std': 0.01}\n",
      "{'_constant': array(0)}\n",
      "{'_mean': 0, '_std': 0.01}\n",
      "{'_constant': array(0)}\n"
     ]
    }
   ],
   "source": [
    "pp.pprint(input_to_hidden.weights_init.__dict__)\n",
    "pp.pprint(input_to_hidden.biases_init.__dict__)\n",
    "pp.pprint(hidden_to_output.weights_init.__dict__)\n",
    "pp.pprint(hidden_to_output.biases_init.__dict__)"
   ]
  },
  {
   "cell_type": "code",
   "execution_count": 10,
   "metadata": {
    "collapsed": false
   },
   "outputs": [
    {
     "data": {
      "text/plain": [
       "array([[ 0.00764556, -0.01124291, -0.00137316, ...,  0.00715281,\n",
       "        -0.00843766,  0.00726915],\n",
       "       [-0.00300742, -0.00752019,  0.00470734, ...,  0.01553072,\n",
       "         0.00510337, -0.00332438],\n",
       "       [-0.00816994, -0.00480912, -0.00021066, ..., -0.01991693,\n",
       "        -0.00769432, -0.00765804],\n",
       "       ..., \n",
       "       [ 0.00511479,  0.00822329, -0.02027499, ..., -0.01535202,\n",
       "        -0.00611927,  0.00228889],\n",
       "       [ 0.00611224,  0.01116154,  0.00436344, ...,  0.00152842,\n",
       "         0.00196134,  0.00373074],\n",
       "       [ 0.01813583,  0.00565259,  0.00071371, ...,  0.00566098,\n",
       "        -0.01152798,  0.01192834]])"
      ]
     },
     "execution_count": 10,
     "metadata": {},
     "output_type": "execute_result"
    }
   ],
   "source": [
    "W1.get_value()"
   ]
  },
  {
   "cell_type": "code",
   "execution_count": 12,
   "metadata": {
    "collapsed": false
   },
   "outputs": [],
   "source": [
    "from fuel.datasets import MNIST\n",
    "mnist = MNIST(\"train\")"
   ]
  },
  {
   "cell_type": "code",
   "execution_count": 15,
   "metadata": {
    "collapsed": false
   },
   "outputs": [],
   "source": [
    "from fuel.streams import DataStream\n",
    "from fuel.schemes import SequentialScheme\n",
    "from fuel.transformers import Flatten\n",
    "data_stream = Flatten(DataStream.default_stream(\n",
    "    mnist,\n",
    "    iteration_scheme=SequentialScheme(mnist.num_examples, batch_size=256)))"
   ]
  },
  {
   "cell_type": "code",
   "execution_count": 16,
   "metadata": {
    "collapsed": true
   },
   "outputs": [],
   "source": [
    "from blocks.algorithms import GradientDescent, Scale\n",
    "algorithm = GradientDescent(cost=cost, params=cg.parameters,\n",
    "                            step_rule=Scale(learning_rate=0.1))"
   ]
  },
  {
   "cell_type": "code",
   "execution_count": 17,
   "metadata": {
    "collapsed": true
   },
   "outputs": [],
   "source": [
    "mnist_test = MNIST(\"test\")\n",
    "data_stream_test = Flatten(DataStream.default_stream(\n",
    "    mnist_test,\n",
    "    iteration_scheme=SequentialScheme(\n",
    "        mnist_test.num_examples, batch_size=1024)))"
   ]
  },
  {
   "cell_type": "code",
   "execution_count": 18,
   "metadata": {
    "collapsed": true
   },
   "outputs": [],
   "source": [
    "from blocks.extensions.monitoring import DataStreamMonitoring\n",
    "monitor = DataStreamMonitoring(\n",
    "    variables=[cost], data_stream=data_stream_test, prefix=\"test\")"
   ]
  },
  {
   "cell_type": "code",
   "execution_count": 19,
   "metadata": {
    "collapsed": false
   },
   "outputs": [
    {
     "name": "stdout",
     "output_type": "stream",
     "text": [
      "\n",
      "-------------------------------------------------------------------------------\n",
      "BEFORE FIRST EPOCH\n",
      "-------------------------------------------------------------------------------\n",
      "Training status:\n",
      "\t batch_interrupt_received: False\n",
      "\t epoch_interrupt_received: False\n",
      "\t epoch_started: True\n",
      "\t epochs_done: 0\n",
      "\t iterations_done: 0\n",
      "\t received_first_batch: False\n",
      "\t training_started: True\n",
      "Log records from the iteration 0:\n",
      "\t test_cost_with_regularization: 2.34190669218\n",
      "\n",
      "\n",
      "-------------------------------------------------------------------------------\n",
      "AFTER ANOTHER EPOCH\n",
      "-------------------------------------------------------------------------------\n",
      "Training status:\n",
      "\t batch_interrupt_received: False\n",
      "\t epoch_interrupt_received: False\n",
      "\t epoch_started: False\n",
      "\t epochs_done: 1\n",
      "\t iterations_done: 235\n",
      "\t received_first_batch: True\n",
      "\t training_started: True\n",
      "Log records from the iteration 235:\n",
      "\t test_cost_with_regularization: 0.657896590087\n",
      "\n",
      "\n",
      "-------------------------------------------------------------------------------\n",
      "AFTER ANOTHER EPOCH\n",
      "-------------------------------------------------------------------------------\n",
      "Training status:\n",
      "\t batch_interrupt_received: False\n",
      "\t epoch_interrupt_received: False\n",
      "\t epoch_started: False\n",
      "\t epochs_done: 2\n",
      "\t iterations_done: 470\n",
      "\t received_first_batch: True\n",
      "\t training_started: True\n",
      "Log records from the iteration 470:\n",
      "\t test_cost_with_regularization: 0.572149991875\n",
      "\t training_finish_requested: True\n",
      "\n",
      "\n",
      "-------------------------------------------------------------------------------\n",
      "TRAINING HAS BEEN FINISHED:\n",
      "-------------------------------------------------------------------------------\n",
      "Training status:\n",
      "\t batch_interrupt_received: False\n",
      "\t epoch_interrupt_received: False\n",
      "\t epoch_started: False\n",
      "\t epochs_done: 2\n",
      "\t iterations_done: 470\n",
      "\t received_first_batch: True\n",
      "\t training_started: True\n",
      "Log records from the iteration 470:\n",
      "\t test_cost_with_regularization: 0.572149991875\n",
      "\t training_finish_requested: True\n",
      "\t training_finished: True\n",
      "\n"
     ]
    }
   ],
   "source": [
    "from blocks.main_loop import MainLoop\n",
    "from blocks.extensions import FinishAfter, Printing\n",
    "main_loop = MainLoop(data_stream=data_stream, algorithm=algorithm,\n",
    "                     extensions=[monitor, FinishAfter(after_n_epochs=2), Printing()])\n",
    "main_loop.run() "
   ]
  },
  {
   "cell_type": "code",
   "execution_count": 23,
   "metadata": {
    "collapsed": false
   },
   "outputs": [
    {
     "name": "stdout",
     "output_type": "stream",
     "text": [
      "tanh_apply_output\n",
      "True\n"
     ]
    }
   ],
   "source": [
    "import theano\n",
    "from theano import tensor\n",
    "from blocks.bricks import Tanh\n",
    "x = tensor.vector('x')\n",
    "y = Tanh().apply(x)\n",
    "print y\n",
    "print isinstance(y, theano.Variable)"
   ]
  },
  {
   "cell_type": "code",
   "execution_count": 24,
   "metadata": {
    "collapsed": true
   },
   "outputs": [],
   "source": [
    "from blocks.bricks import Linear\n",
    "from blocks.initialization import IsotropicGaussian, Constant\n",
    "linear = Linear(input_dim=10, output_dim=5,\n",
    "                weights_init=IsotropicGaussian(),\n",
    "                biases_init=Constant(0.01))\n",
    "y = linear.apply(x)"
   ]
  },
  {
   "cell_type": "code",
   "execution_count": 26,
   "metadata": {
    "collapsed": false
   },
   "outputs": [
    {
     "name": "stdout",
     "output_type": "stream",
     "text": [
      "[W, b]\n",
      "[ nan  nan  nan  nan  nan]\n"
     ]
    }
   ],
   "source": [
    "print linear.params\n",
    "print linear.params[1].get_value()"
   ]
  },
  {
   "cell_type": "code",
   "execution_count": 28,
   "metadata": {
    "collapsed": false
   },
   "outputs": [
    {
     "name": "stdout",
     "output_type": "stream",
     "text": [
      "None\n",
      "[ 0.01  0.01  0.01  0.01  0.01]\n"
     ]
    }
   ],
   "source": [
    "print linear.initialize()\n",
    "print linear.params[1].get_value()"
   ]
  },
  {
   "cell_type": "code",
   "execution_count": 29,
   "metadata": {
    "collapsed": true
   },
   "outputs": [],
   "source": [
    "z = tensor.max(y + 4)"
   ]
  },
  {
   "cell_type": "code",
   "execution_count": 32,
   "metadata": {
    "collapsed": false
   },
   "outputs": [
    {
     "name": "stdout",
     "output_type": "stream",
     "text": [
      "NoneAllocation\n"
     ]
    }
   ],
   "source": [
    "linear2 = Linear(output_dim=10)\n",
    "print linear2.input_dim"
   ]
  },
  {
   "cell_type": "code",
   "execution_count": 33,
   "metadata": {
    "collapsed": false
   },
   "outputs": [
    {
     "data": {
      "text/plain": [
       "linear_apply_output"
      ]
     },
     "execution_count": 33,
     "metadata": {},
     "output_type": "execute_result"
    }
   ],
   "source": [
    "linear2.input_dim = linear.output_dim\n",
    "linear2.apply(x)"
   ]
  },
  {
   "cell_type": "code",
   "execution_count": 35,
   "metadata": {
    "collapsed": false
   },
   "outputs": [
    {
     "ename": "AttributeError",
     "evalue": "'Linear' object does not have an attribute 'params'",
     "output_type": "error",
     "traceback": [
      "\u001b[0;31m---------------------------------------------------------------------------\u001b[0m",
      "\u001b[0;31mAttributeError\u001b[0m                            Traceback (most recent call last)",
      "\u001b[0;32m<ipython-input-35-76520455977a>\u001b[0m in \u001b[0;36m<module>\u001b[0;34m()\u001b[0m\n\u001b[1;32m      1\u001b[0m \u001b[0mlinear3\u001b[0m \u001b[0;34m=\u001b[0m \u001b[0mLinear\u001b[0m\u001b[0;34m(\u001b[0m\u001b[0minput_dim\u001b[0m\u001b[0;34m=\u001b[0m\u001b[0;36m10\u001b[0m\u001b[0;34m,\u001b[0m \u001b[0moutput_dim\u001b[0m\u001b[0;34m=\u001b[0m\u001b[0;36m5\u001b[0m\u001b[0;34m)\u001b[0m\u001b[0;34m\u001b[0m\u001b[0m\n\u001b[0;32m----> 2\u001b[0;31m \u001b[0;32mprint\u001b[0m \u001b[0mlinear3\u001b[0m\u001b[0;34m.\u001b[0m\u001b[0mparams\u001b[0m\u001b[0;34m\u001b[0m\u001b[0m\n\u001b[0m",
      "\u001b[0;32m/Users/dikien/anaconda/lib/python2.7/site-packages/blocks-0.0.1-py2.7.egg/blocks/bricks/__init__.pyc\u001b[0m in \u001b[0;36m__getattr__\u001b[0;34m(self, name)\u001b[0m\n\u001b[1;32m    176\u001b[0m             message += (\" (which is a part of 'Feedforward' interface it\"\n\u001b[1;32m    177\u001b[0m                         \" claims to support)\")\n\u001b[0;32m--> 178\u001b[0;31m         \u001b[0;32mraise\u001b[0m \u001b[0mAttributeError\u001b[0m\u001b[0;34m(\u001b[0m\u001b[0mmessage\u001b[0m\u001b[0;34m)\u001b[0m\u001b[0;34m\u001b[0m\u001b[0m\n\u001b[0m\u001b[1;32m    179\u001b[0m \u001b[0;34m\u001b[0m\u001b[0m\n\u001b[1;32m    180\u001b[0m \u001b[0;34m\u001b[0m\u001b[0m\n",
      "\u001b[0;31mAttributeError\u001b[0m: 'Linear' object does not have an attribute 'params'"
     ]
    }
   ],
   "source": [
    "linear3 = Linear(input_dim=10, output_dim=5)\n",
    "print linear3.params"
   ]
  },
  {
   "cell_type": "code",
   "execution_count": 36,
   "metadata": {
    "collapsed": false
   },
   "outputs": [
    {
     "name": "stdout",
     "output_type": "stream",
     "text": [
      "None\n",
      "[W, b]\n"
     ]
    }
   ],
   "source": [
    "print linear3.allocate()\n",
    "print linear3.params"
   ]
  },
  {
   "cell_type": "code",
   "execution_count": 37,
   "metadata": {
    "collapsed": true
   },
   "outputs": [],
   "source": [
    "from blocks.bricks import MLP, Logistic\n",
    "mlp = MLP(activations=[Logistic(name='sigmoid_0'),\n",
    "          Logistic(name='sigmoid_1')], dims=[16, 8, 4],\n",
    "          weights_init=IsotropicGaussian(), biases_init=Constant(0.01))"
   ]
  },
  {
   "cell_type": "code",
   "execution_count": 38,
   "metadata": {
    "collapsed": false
   },
   "outputs": [
    {
     "data": {
      "text/plain": [
       "['linear_0', 'sigmoid_0', 'linear_1', 'sigmoid_1']"
      ]
     },
     "execution_count": 38,
     "metadata": {},
     "output_type": "execute_result"
    }
   ],
   "source": [
    "[child.name for child in mlp.children]"
   ]
  },
  {
   "cell_type": "code",
   "execution_count": 39,
   "metadata": {
    "collapsed": false
   },
   "outputs": [
    {
     "name": "stdout",
     "output_type": "stream",
     "text": [
      "16\n"
     ]
    }
   ],
   "source": [
    "y = mlp.apply(x)\n",
    "print mlp.children[0].input_dim"
   ]
  },
  {
   "cell_type": "code",
   "execution_count": 41,
   "metadata": {
    "collapsed": false
   },
   "outputs": [
    {
     "data": {
      "text/plain": [
       "array([[-1.35058998, -0.15197637,  0.53502738, -0.47966629,  0.92966459,\n",
       "        -1.22113506,  0.96468899,  0.73510008],\n",
       "       [-0.45670381,  0.19266354, -0.07672695,  0.28511651, -0.06442363,\n",
       "        -1.41937145, -0.04914698,  2.33591523],\n",
       "       [ 1.16478325, -0.34623004,  0.5345563 , -1.71769844, -0.42011699,\n",
       "         0.47864268,  0.73424183,  2.0425785 ],\n",
       "       [-0.0125837 ,  0.83327666, -0.94332879, -0.72426034, -1.1723934 ,\n",
       "         0.3113583 ,  1.59868435,  0.3198274 ],\n",
       "       [-1.15886087, -0.44906055, -3.79311256,  0.9768675 , -1.27585145,\n",
       "        -0.92906794,  0.53590255,  1.24693625],\n",
       "       [-1.06661713,  0.61910394, -1.07465622, -1.03195817, -1.11904791,\n",
       "        -0.04534472, -0.1913915 ,  0.10530464],\n",
       "       [ 0.14946873, -0.51227525,  0.02485354,  0.4446007 ,  0.07820676,\n",
       "         1.12570614,  0.18953891, -1.11370218],\n",
       "       [ 0.12264441,  0.42791051,  0.18152155,  2.65083586, -0.56622578,\n",
       "         1.90305533,  1.01967496, -0.12577045],\n",
       "       [ 0.84206732, -1.38335095, -1.11673754, -0.69418529, -0.6821722 ,\n",
       "        -0.41538969,  1.07936735, -0.16090952],\n",
       "       [ 0.94302499,  0.08017168,  1.13333723, -0.22460097,  0.27759994,\n",
       "        -0.74203216, -0.9304304 , -0.11058776],\n",
       "       [ 0.69545019, -1.40431261, -0.52496591, -0.69136644, -1.00345628,\n",
       "         1.32085419, -0.23084864,  0.61464397],\n",
       "       [ 0.99973141,  1.02931605,  2.26670998, -0.85315681, -0.47203316,\n",
       "        -0.43730791,  0.01376218, -0.37159365],\n",
       "       [ 1.94926501,  0.33525743, -0.16447811, -0.88453705, -1.24470596,\n",
       "        -0.35060332, -0.89134472,  0.03600519],\n",
       "       [ 0.04438801, -0.68683602, -0.04441493,  0.29935948,  1.17864468,\n",
       "         2.36255129,  0.4550282 , -0.78141993],\n",
       "       [-1.49097226, -1.07247194,  1.57032937,  1.61931369, -0.04771239,\n",
       "        -0.35347446,  1.31771297,  0.24390814],\n",
       "       [-1.23620203,  0.37014498, -0.68229067, -1.53530658,  1.13191786,\n",
       "        -1.75742619, -0.37807416, -0.13312945]])"
      ]
     },
     "execution_count": 41,
     "metadata": {},
     "output_type": "execute_result"
    }
   ],
   "source": [
    "mlp.initialize()\n",
    "mlp.children[0].params[0].get_value() "
   ]
  },
  {
   "cell_type": "code",
   "execution_count": 45,
   "metadata": {
    "collapsed": false
   },
   "outputs": [],
   "source": [
    "mlp = MLP(activations=[Logistic(name='sigmoid_0'),\n",
    "          Logistic(name='sigmoid_1')], dims=[16, 8, 4],\n",
    "          weights_init=IsotropicGaussian(), biases_init=Constant(0.01))\n",
    "y = mlp.apply(x)\n",
    "mlp.push_initialization_config()\n",
    "mlp.children[0].weights_init = Constant(0.01)"
   ]
  },
  {
   "cell_type": "code",
   "execution_count": 46,
   "metadata": {
    "collapsed": false
   },
   "outputs": [
    {
     "name": "stdout",
     "output_type": "stream",
     "text": [
      "[[ 0.01  0.01  0.01  0.01  0.01  0.01  0.01  0.01]\n",
      " [ 0.01  0.01  0.01  0.01  0.01  0.01  0.01  0.01]\n",
      " [ 0.01  0.01  0.01  0.01  0.01  0.01  0.01  0.01]\n",
      " [ 0.01  0.01  0.01  0.01  0.01  0.01  0.01  0.01]\n",
      " [ 0.01  0.01  0.01  0.01  0.01  0.01  0.01  0.01]\n",
      " [ 0.01  0.01  0.01  0.01  0.01  0.01  0.01  0.01]\n",
      " [ 0.01  0.01  0.01  0.01  0.01  0.01  0.01  0.01]\n",
      " [ 0.01  0.01  0.01  0.01  0.01  0.01  0.01  0.01]\n",
      " [ 0.01  0.01  0.01  0.01  0.01  0.01  0.01  0.01]\n",
      " [ 0.01  0.01  0.01  0.01  0.01  0.01  0.01  0.01]\n",
      " [ 0.01  0.01  0.01  0.01  0.01  0.01  0.01  0.01]\n",
      " [ 0.01  0.01  0.01  0.01  0.01  0.01  0.01  0.01]\n",
      " [ 0.01  0.01  0.01  0.01  0.01  0.01  0.01  0.01]\n",
      " [ 0.01  0.01  0.01  0.01  0.01  0.01  0.01  0.01]\n",
      " [ 0.01  0.01  0.01  0.01  0.01  0.01  0.01  0.01]\n",
      " [ 0.01  0.01  0.01  0.01  0.01  0.01  0.01  0.01]]\n"
     ]
    }
   ],
   "source": [
    "mlp.initialize()\n",
    "print mlp.children[0].params[0].get_value() "
   ]
  },
  {
   "cell_type": "code",
   "execution_count": 47,
   "metadata": {
    "collapsed": true
   },
   "outputs": [],
   "source": [
    "import theano\n",
    "a = theano.shared(3.)\n",
    "a.name = 'a'\n",
    "x = theano.tensor.scalar('data')\n",
    "cost = abs(x ** 2 - x ** a)\n",
    "cost.name = 'cost'"
   ]
  },
  {
   "cell_type": "code",
   "execution_count": 48,
   "metadata": {
    "collapsed": true
   },
   "outputs": [],
   "source": [
    "import numpy\n",
    "from fuel.streams import DataStream\n",
    "from fuel.datasets import IterableDataset\n",
    "data_stream = DataStream(IterableDataset(\n",
    "    numpy.random.rand(150).astype(theano.config.floatX)))"
   ]
  },
  {
   "cell_type": "code",
   "execution_count": 49,
   "metadata": {
    "collapsed": false
   },
   "outputs": [
    {
     "ename": "ImportError",
     "evalue": "No module named extras.extensions.plot",
     "output_type": "error",
     "traceback": [
      "\u001b[0;31m---------------------------------------------------------------------------\u001b[0m",
      "\u001b[0;31mImportError\u001b[0m                               Traceback (most recent call last)",
      "\u001b[0;32m<ipython-input-49-c9da6271c58c>\u001b[0m in \u001b[0;36m<module>\u001b[0;34m()\u001b[0m\n\u001b[1;32m      3\u001b[0m \u001b[0;32mfrom\u001b[0m \u001b[0mblocks\u001b[0m\u001b[0;34m.\u001b[0m\u001b[0mextensions\u001b[0m \u001b[0;32mimport\u001b[0m \u001b[0mFinishAfter\u001b[0m\u001b[0;34m\u001b[0m\u001b[0m\n\u001b[1;32m      4\u001b[0m \u001b[0;32mfrom\u001b[0m \u001b[0mblocks\u001b[0m\u001b[0;34m.\u001b[0m\u001b[0mextensions\u001b[0m\u001b[0;34m.\u001b[0m\u001b[0mmonitoring\u001b[0m \u001b[0;32mimport\u001b[0m \u001b[0mTrainingDataMonitoring\u001b[0m\u001b[0;34m\u001b[0m\u001b[0m\n\u001b[0;32m----> 5\u001b[0;31m \u001b[0;32mfrom\u001b[0m \u001b[0mblocks\u001b[0m\u001b[0;34m.\u001b[0m\u001b[0mextras\u001b[0m\u001b[0;34m.\u001b[0m\u001b[0mextensions\u001b[0m\u001b[0;34m.\u001b[0m\u001b[0mplot\u001b[0m \u001b[0;32mimport\u001b[0m \u001b[0mPlot\u001b[0m\u001b[0;34m\u001b[0m\u001b[0m\n\u001b[0m\u001b[1;32m      6\u001b[0m main_loop = MainLoop(\n\u001b[1;32m      7\u001b[0m     \u001b[0mmodel\u001b[0m\u001b[0;34m=\u001b[0m\u001b[0mNone\u001b[0m\u001b[0;34m,\u001b[0m \u001b[0mdata_stream\u001b[0m\u001b[0;34m=\u001b[0m\u001b[0mdata_stream\u001b[0m\u001b[0;34m,\u001b[0m\u001b[0;34m\u001b[0m\u001b[0m\n",
      "\u001b[0;31mImportError\u001b[0m: No module named extras.extensions.plot"
     ]
    }
   ],
   "source": [
    "from blocks.main_loop import MainLoop\n",
    "from blocks.algorithms import GradientDescent, Scale\n",
    "from blocks.extensions import FinishAfter\n",
    "from blocks.extensions.monitoring import TrainingDataMonitoring\n",
    "from blocks.extras.extensions.plot import Plot  \n",
    "main_loop = MainLoop(\n",
    "    model=None, data_stream=data_stream,\n",
    "    algorithm=GradientDescent(cost=cost,\n",
    "                              params=[a],\n",
    "                              step_rule=Scale(learning_rate=0.1)),\n",
    "    extensions=[FinishAfter(after_n_epochs=1),\n",
    "                TrainingDataMonitoring([cost, a], after_batch=True),\n",
    "                Plot('Plotting example', channels=[['cost'], ['a']],\n",
    "                     after_batch=True)])  \n",
    "main_loop.run() "
   ]
  },
  {
   "cell_type": "code",
   "execution_count": null,
   "metadata": {
    "collapsed": true
   },
   "outputs": [],
   "source": []
  }
 ],
 "metadata": {
  "kernelspec": {
   "display_name": "Python 2",
   "language": "python",
   "name": "python2"
  },
  "language_info": {
   "codemirror_mode": {
    "name": "ipython",
    "version": 2
   },
   "file_extension": ".py",
   "mimetype": "text/x-python",
   "name": "python",
   "nbconvert_exporter": "python",
   "pygments_lexer": "ipython2",
   "version": "2.7.9"
  }
 },
 "nbformat": 4,
 "nbformat_minor": 0
}
