{
 "cells": [
  {
   "cell_type": "code",
   "execution_count": 1,
   "metadata": {
    "collapsed": true
   },
   "outputs": [],
   "source": [
    "import theano\n",
    "from pylearn2.models import mlp\n",
    "from pylearn2.train_extensions import best_params\n",
    "from pylearn2.training_algorithms import sgd, learning_rule\n",
    "from pylearn2.utils import serial\n",
    "from pylearn2.termination_criteria import MonitorBased\n",
    "from pylearn2.datasets.dense_design_matrix import DenseDesignMatrix\n",
    "from sklearn.preprocessing import StandardScaler\n",
    "from pylearn2.termination_criteria import EpochCounter\n",
    "import numpy as np\n",
    "from random import randint\n",
    "import itertools\n",
    "import os"
   ]
  },
  {
   "cell_type": "code",
   "execution_count": 2,
   "metadata": {
    "collapsed": false
   },
   "outputs": [
    {
     "name": "stdout",
     "output_type": "stream",
     "text": [
      "Parameter and initial learning rate summary:\n",
      "\thidden_W: 0.05\n",
      "\thidden_b: 0.05\n",
      "\ty_W: 0.05\n",
      "\ty_b: 0.05\n",
      "Compiling sgd_update...\n",
      "Compiling sgd_update done. Time elapsed: 1.110401 seconds\n",
      "compiling begin_record_entry...\n",
      "compiling begin_record_entry done. Time elapsed: 0.023136 seconds\n",
      "Monitored channels: \n",
      "Compiling accum...\n",
      "Compiling accum done. Time elapsed: 0.000758 seconds\n",
      "Monitoring step:\n",
      "\tEpochs seen: 1\n",
      "\tBatches seen: 20\n",
      "\tExamples seen: 200\n",
      "Monitoring step:\n",
      "\tEpochs seen: 2\n",
      "\tBatches seen: 40\n",
      "\tExamples seen: 400\n",
      "Monitoring step:\n",
      "\tEpochs seen: 3\n",
      "\tBatches seen: 60\n",
      "\tExamples seen: 600\n",
      "Monitoring step:\n",
      "\tEpochs seen: 4\n",
      "\tBatches seen: 80\n",
      "\tExamples seen: 800\n",
      "Monitoring step:\n",
      "\tEpochs seen: 5\n",
      "\tBatches seen: 100\n",
      "\tExamples seen: 1000\n",
      "Monitoring step:\n",
      "\tEpochs seen: 6\n",
      "\tBatches seen: 120\n",
      "\tExamples seen: 1200\n",
      "Monitoring step:\n",
      "\tEpochs seen: 7\n",
      "\tBatches seen: 140\n",
      "\tExamples seen: 1400\n",
      "Monitoring step:\n",
      "\tEpochs seen: 8\n",
      "\tBatches seen: 160\n",
      "\tExamples seen: 1600\n",
      "Monitoring step:\n",
      "\tEpochs seen: 9\n",
      "\tBatches seen: 180\n",
      "\tExamples seen: 1800\n",
      "Monitoring step:\n",
      "\tEpochs seen: 10\n",
      "\tBatches seen: 200\n",
      "\tExamples seen: 2000\n",
      "Monitoring step:\n",
      "\tEpochs seen: 11\n",
      "\tBatches seen: 220\n",
      "\tExamples seen: 2200\n"
     ]
    }
   ],
   "source": [
    "n = 200\n",
    "p = 2\n",
    "X = np.random.normal(0, 1, (n, p))\n",
    "y = X[:,0]* X[:, 1] + np.random.normal(0, .1, n)\n",
    "y.shape = (n, 1)\n",
    "\n",
    "ds = DenseDesignMatrix(X=X, y=y)\n",
    "\n",
    "\n",
    "hidden_layer = mlp.Sigmoid(layer_name='hidden', dim=10, irange=.1, init_bias=1.)\n",
    "output_layer = mlp.Linear(dim=1, layer_name='y', irange=.1)\n",
    "trainer = sgd.SGD(learning_rate=.05, batch_size=10, \n",
    "                  termination_criterion=EpochCounter(10))\n",
    "layers = [hidden_layer, output_layer]\n",
    "ann = mlp.MLP(layers, nvis=2)\n",
    "trainer.setup(ann, ds)\n",
    "\n",
    "while True:\n",
    "    trainer.train(dataset=ds)\n",
    "    ann.monitor.report_epoch()\n",
    "    ann.monitor()\n",
    "    if not trainer.continue_learning(ann):\n",
    "        break\n",
    "\n",
    "inputs = X \n",
    "y_est = ann.fprop(theano.shared(inputs, name='inputs')).eval()"
   ]
  },
  {
   "cell_type": "code",
   "execution_count": 3,
   "metadata": {
    "collapsed": false
   },
   "outputs": [
    {
     "name": "stdout",
     "output_type": "stream",
     "text": [
      "(200, 2)\n",
      "(200, 1)\n",
      "[-3.12277756]\n"
     ]
    }
   ],
   "source": [
    "print X.shape\n",
    "print y.shape\n",
    "print y[0]"
   ]
  }
 ],
 "metadata": {
  "kernelspec": {
   "display_name": "Python 2",
   "language": "python",
   "name": "python2"
  },
  "language_info": {
   "codemirror_mode": {
    "name": "ipython",
    "version": 2
   },
   "file_extension": ".py",
   "mimetype": "text/x-python",
   "name": "python",
   "nbconvert_exporter": "python",
   "pygments_lexer": "ipython2",
   "version": "2.7.9"
  }
 },
 "nbformat": 4,
 "nbformat_minor": 0
}
