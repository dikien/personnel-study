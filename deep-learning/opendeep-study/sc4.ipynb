{
 "cells": [
  {
   "cell_type": "code",
   "execution_count": 1,
   "metadata": {
    "collapsed": false
   },
   "outputs": [],
   "source": [
    "from opendeep.models.container import Prototype\n",
    "from opendeep.models.single_layer.basic import BasicLayer, SoftmaxLayer\n",
    "from opendeep.optimization.adadelta import AdaDelta\n",
    "from opendeep.data.standard_datasets.image.mnist import MNIST\n",
    "from opendeep.data.dataset import TEST"
   ]
  },
  {
   "cell_type": "code",
   "execution_count": 2,
   "metadata": {
    "collapsed": false
   },
   "outputs": [
    {
     "name": "stderr",
     "output_type": "stream",
     "text": [
      "WARNING:opendeep.models.model:No input_size or inputs_hook! Make sure this is done in a Container. Setting input_size=1 for the Container now...\n",
      "WARNING:opendeep.models.model:No output_size given! Make sure this is from a generative model (where output_size is thesame as input_size. Setting output_size=input_size now...\n"
     ]
    }
   ],
   "source": [
    "# define the model layers\n",
    "relu_layer1 = BasicLayer(input_size=784, output_size=1000, activation='rectifier')\n",
    "relu_layer2 = BasicLayer(inputs_hook=(1000, relu_layer1.get_outputs()), output_size=1000, activation='rectifier')\n",
    "class_layer3 = SoftmaxLayer(inputs_hook=(1000, relu_layer2.get_outputs()), output_size=10, out_as_probs=False)\n",
    "# add the layers as a Prototype\n",
    "mlp = Prototype(layers=[relu_layer1, relu_layer2, class_layer3])\n",
    "\n",
    "mnist = MNIST()\n",
    "\n",
    "optimizer = AdaDelta(model=mlp, dataset=mnist, n_epoch=2)\n",
    "optimizer.train()\n",
    "\n",
    "test_data, test_labels = mnist.getSubset(TEST)\n",
    "test_data = test_data[:25].eval()\n",
    "test_labels = test_labels[:25].eval()\n",
    "\n",
    "# use the run function!\n",
    "preds = mlp.run(test_data)"
   ]
  },
  {
   "cell_type": "code",
   "execution_count": 3,
   "metadata": {
    "collapsed": false
   },
   "outputs": [
    {
     "data": {
      "text/plain": [
       "array([7, 2, 1, 0, 4, 1, 4, 9, 6, 9, 0, 6, 9, 0, 1, 5, 9, 7, 3, 4, 9, 6, 6,\n",
       "       5, 4])"
      ]
     },
     "execution_count": 3,
     "metadata": {},
     "output_type": "execute_result"
    }
   ],
   "source": [
    "preds"
   ]
  },
  {
   "cell_type": "code",
   "execution_count": null,
   "metadata": {
    "collapsed": true
   },
   "outputs": [],
   "source": []
  }
 ],
 "metadata": {
  "kernelspec": {
   "display_name": "Python 2",
   "language": "python",
   "name": "python2"
  },
  "language_info": {
   "codemirror_mode": {
    "name": "ipython",
    "version": 2
   },
   "file_extension": ".py",
   "mimetype": "text/x-python",
   "name": "python",
   "nbconvert_exporter": "python",
   "pygments_lexer": "ipython2",
   "version": "2.7.9"
  }
 },
 "nbformat": 4,
 "nbformat_minor": 0
}
