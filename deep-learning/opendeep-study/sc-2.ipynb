{
 "cells": [
  {
   "cell_type": "code",
   "execution_count": 1,
   "metadata": {
    "collapsed": true
   },
   "outputs": [],
   "source": [
    "from opendeep.data.dataset import MemoryDataset\n",
    "import numpy"
   ]
  },
  {
   "cell_type": "code",
   "execution_count": 2,
   "metadata": {
    "collapsed": true
   },
   "outputs": [],
   "source": [
    "# create some fake random data to demonstrate creating a MemoryDataset\n",
    "# train set\n",
    "fake_train_X = numpy.random.uniform(0, 1, size=(100, 5))\n",
    "fake_train_Y = numpy.random.binomial(n=1, p=0.5, size=100)\n",
    "# valid set\n",
    "fake_valid_X = numpy.random.uniform(0, 1, size=(30, 5))\n",
    "fake_valid_Y = numpy.random.binomial(n=1, p=0.5, size=30)\n",
    "# test set (showing you can mix and match the types of inputs - as long as they can be cast to numpy arrays\n",
    "fake_test_X = [[0.1, 0.2, 0.3, 0.4, 0.5],\n",
    "               [0.9, 0.8, 0.7, 0.6, 0.5]]\n",
    "fake_test_Y = [0, 1]\n",
    "\n",
    "# create the dataset!\n",
    "# note that everything except for train_X is optional. that would be bare-minimum for an unsupervised model.\n",
    "data = MemoryDataset(train_X=fake_train_X, train_Y=fake_train_Y,\n",
    "                     valid_X=fake_valid_X, valid_Y=fake_valid_Y,\n",
    "                     test_X=fake_test_X, test_Y=fake_test_Y)"
   ]
  },
  {
   "cell_type": "code",
   "execution_count": 12,
   "metadata": {
    "collapsed": false
   },
   "outputs": [
    {
     "data": {
      "text/plain": [
       "{'_test_shape': (2, 5),\n",
       " '_train_shape': (100, 5),\n",
       " '_valid_shape': (30, 5),\n",
       " 'test_X': memory_test_x,\n",
       " 'test_Y': memory_test_y,\n",
       " 'train_X': memory_train_x,\n",
       " 'train_Y': memory_train_y,\n",
       " 'valid_X': memory_valid_x,\n",
       " 'valid_Y': memory_valid_y}"
      ]
     },
     "execution_count": 12,
     "metadata": {},
     "output_type": "execute_result"
    }
   ],
   "source": [
    "data.__dict__"
   ]
  },
  {
   "cell_type": "code",
   "execution_count": 13,
   "metadata": {
    "collapsed": true
   },
   "outputs": [],
   "source": [
    "n_examples = 100"
   ]
  },
  {
   "cell_type": "code",
   "execution_count": 28,
   "metadata": {
    "collapsed": false
   },
   "outputs": [
    {
     "data": {
      "text/plain": [
       "(100, 5)"
      ]
     },
     "execution_count": 28,
     "metadata": {},
     "output_type": "execute_result"
    }
   ],
   "source": [
    "data.train_X.get_value()\n",
    "# data.test_Y.get_value()"
   ]
  }
 ],
 "metadata": {
  "kernelspec": {
   "display_name": "Python 2",
   "language": "python",
   "name": "python2"
  },
  "language_info": {
   "codemirror_mode": {
    "name": "ipython",
    "version": 2
   },
   "file_extension": ".py",
   "mimetype": "text/x-python",
   "name": "python",
   "nbconvert_exporter": "python",
   "pygments_lexer": "ipython2",
   "version": "2.7.9"
  }
 },
 "nbformat": 4,
 "nbformat_minor": 0
}
