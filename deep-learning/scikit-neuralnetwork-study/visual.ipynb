{
 "cells": [
  {
   "cell_type": "code",
   "execution_count": 1,
   "metadata": {
    "collapsed": true
   },
   "outputs": [],
   "source": [
    "from time import time\n",
    "import numpy as np\n",
    "from sklearn.cross_validation import train_test_split\n",
    "from sklearn.datasets import fetch_mldata\n",
    "from sklearn.metrics import classification_report\n",
    "from sklearn.metrics import accuracy_score\n",
    "from sklearn.metrics import confusion_matrix\n",
    "from sknn.mlp import Classifier, Layer"
   ]
  },
  {
   "cell_type": "code",
   "execution_count": 2,
   "metadata": {
    "collapsed": true
   },
   "outputs": [],
   "source": [
    "np.set_printoptions(precision=4)\n",
    "np.set_printoptions(suppress=True)"
   ]
  },
  {
   "cell_type": "code",
   "execution_count": 3,
   "metadata": {
    "collapsed": true
   },
   "outputs": [],
   "source": [
    "mnist = fetch_mldata('mnist-original')\n",
    "X_train, X_test, y_train, y_test = train_test_split(\n",
    "        (mnist.data / 255.0).astype(np.float32),\n",
    "        mnist.target.astype(np.int32),\n",
    "        test_size=0.33, random_state=1234)"
   ]
  },
  {
   "cell_type": "code",
   "execution_count": 4,
   "metadata": {
    "collapsed": false
   },
   "outputs": [
    {
     "name": "stdout",
     "output_type": "stream",
     "text": [
      "test data :  46900 rows  784 columns\n",
      "test data :  23100 rows  784 columns\n"
     ]
    }
   ],
   "source": [
    "print \"test data :  %s rows  %s columns\" %(X_train.shape[0], X_train.shape[1])\n",
    "print \"test data :  %s rows  %s columns\" %(X_test.shape[0], X_test.shape[1])"
   ]
  },
  {
   "cell_type": "code",
   "execution_count": 5,
   "metadata": {
    "collapsed": false
   },
   "outputs": [
    {
     "name": "stdout",
     "output_type": "stream",
     "text": [
      "escape time :  7.446 s\n"
     ]
    }
   ],
   "source": [
    "clf = Classifier(\n",
    "        layers=[Layer(\"Rectifier\", units=300), Layer(\"Softmax\")],\n",
    "        learning_rate=0.02,\n",
    "        batch_size=100,\n",
    "        n_iter=2,\n",
    "        verbose=1,\n",
    ")\n",
    "\n",
    "t0 = time()\n",
    "\n",
    "clf.fit(X_train, y_train)\n",
    "print \"escape time : \", round(time()-t0, 3), \"s\""
   ]
  },
  {
   "cell_type": "code",
   "execution_count": 13,
   "metadata": {
    "collapsed": false
   },
   "outputs": [],
   "source": [
    "lay = clf.layers[0]"
   ]
  },
  {
   "cell_type": "code",
   "execution_count": 29,
   "metadata": {
    "collapsed": false
   },
   "outputs": [
    {
     "name": "stdout",
     "output_type": "stream",
     "text": [
      "None\n",
      "hidden0\n",
      "None\n",
      "<bound method Layer.set_params of <sknn.nn.Layer `Rectifier`: name=u'hidden0', units=300>>\n",
      "Rectifier\n",
      "300\n",
      "None\n",
      "<bound method Classifier.get_params of Classifier(batch_size=100, debug=False, dropout_rate=None, f_stable=0.001,\n",
      "      hidden0=<sknn.nn.Layer `Rectifier`: name=u'hidden0', units=300>,\n",
      "      layers=[<sknn.nn.Layer `Rectifier`: name=u'hidden0', units=300>, <sknn.nn.Layer `Softmax`: name=u'output', units=10>],\n",
      "      learning_momentum=0.9, learning_rate=0.02, learning_rule=u'sgd',\n",
      "      loss_type=u'mse', n_iter=2, n_stable=50,\n",
      "      output=<sknn.nn.Layer `Softmax`: name=u'output', units=10>,\n",
      "      random_state=None, regularize=None, valid_set=None, valid_size=0.0,\n",
      "      verbose=1, weight_decay=None)>\n"
     ]
    }
   ],
   "source": [
    "print lay.dropout\n",
    "print lay.name\n",
    "print lay.pieces\n",
    "print lay.set_params\n",
    "print lay.type\n",
    "print lay.units\n",
    "print lay.weight_decay\n",
    "print clf.get_params"
   ]
  },
  {
   "cell_type": "code",
   "execution_count": 8,
   "metadata": {
    "collapsed": false
   },
   "outputs": [
    {
     "name": "stdout",
     "output_type": "stream",
     "text": [
      "escape time :  45.685 s\n",
      "accuracy score : 0.981298701299\n",
      "classification report : \n",
      "             precision    recall  f1-score   support\n",
      "\n",
      "          0       0.99      0.99      0.99      2312\n",
      "          1       0.99      0.99      0.99      2589\n",
      "          2       0.98      0.98      0.98      2241\n",
      "          3       0.98      0.97      0.98      2430\n",
      "          4       0.98      0.99      0.99      2253\n",
      "          5       0.97      0.98      0.98      2051\n",
      "          6       0.98      0.99      0.98      2246\n",
      "          7       0.98      0.98      0.98      2374\n",
      "          8       0.98      0.97      0.97      2230\n",
      "          9       0.98      0.98      0.98      2374\n",
      "\n",
      "avg / total       0.98      0.98      0.98     23100\n",
      "\n",
      "confusion matrix : \n",
      "[[2289    0    0    1    0    2   12    2    6    0]\n",
      " [   0 2562    9    5    1    0    3    2    6    1]\n",
      " [   4    5 2197   10    6    1    2    6    9    1]\n",
      " [   3    1   10 2363    2   19    0   14   10    8]\n",
      " [   2    4    0    1 2227    0    6    3    0   10]\n",
      " [   4    2    1   12    0 2012   10    0    6    4]\n",
      " [   3    5    2    1    3   12 2220    0    0    0]\n",
      " [   4    5   18    3    5    1    1 2320    3   14]\n",
      " [   6    9    8   10    4   11   10    0 2161   11]\n",
      " [   7    5    0    7   15    6    1   12    4 2317]]\n"
     ]
    }
   ],
   "source": [
    "\n",
    "\n",
    "y_pred = clf.predict(X_test)\n",
    "\n",
    "print \"accuracy score : %s\" %(accuracy_score(y_test, y_pred))\n",
    "print \"classification report : \"\n",
    "print classification_report(y_test, y_pred)\n",
    "print \"confusion matrix : \"\n",
    "print confusion_matrix(y_test, y_pred)"
   ]
  },
  {
   "cell_type": "code",
   "execution_count": null,
   "metadata": {
    "collapsed": true
   },
   "outputs": [],
   "source": [
    "\n"
   ]
  }
 ],
 "metadata": {
  "kernelspec": {
   "display_name": "Python 2",
   "language": "python",
   "name": "python2"
  },
  "language_info": {
   "codemirror_mode": {
    "name": "ipython",
    "version": 2
   },
   "file_extension": ".py",
   "mimetype": "text/x-python",
   "name": "python",
   "nbconvert_exporter": "python",
   "pygments_lexer": "ipython2",
   "version": "2.7.9"
  }
 },
 "nbformat": 4,
 "nbformat_minor": 0
}
