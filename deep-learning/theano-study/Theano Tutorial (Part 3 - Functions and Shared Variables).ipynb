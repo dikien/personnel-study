{
 "cells": [
  {
   "cell_type": "code",
   "execution_count": 5,
   "metadata": {
    "collapsed": true
   },
   "outputs": [],
   "source": [
    "from theano import tensor as T\n",
    "from theano import function, shared\n",
    "from theano import Param"
   ]
  },
  {
   "cell_type": "code",
   "execution_count": 2,
   "metadata": {
    "collapsed": false
   },
   "outputs": [
    {
     "name": "stdout",
     "output_type": "stream",
     "text": [
      "[array([[ 1.,  0.],\n",
      "       [-1., -2.]]), array([[ 1.,  0.],\n",
      "       [ 1.,  2.]]), array([[ 1.,  0.],\n",
      "       [ 1.,  4.]])]\n"
     ]
    }
   ],
   "source": [
    "a, b = T.dmatrices('a', 'b')\n",
    "diff = a - b\n",
    "abs_diff = abs(diff)\n",
    "diff_squared = diff ** 2\n",
    "\n",
    "f = function([a, b], [diff, abs_diff, diff_squared])\n",
    "\n",
    "print f([[1, 1], [1, 1]], [[0, 1], [2, 3]])"
   ]
  },
  {
   "cell_type": "code",
   "execution_count": 6,
   "metadata": {
    "collapsed": false
   },
   "outputs": [
    {
     "name": "stdout",
     "output_type": "stream",
     "text": [
      "34.0\n",
      "35.0\n",
      "35.0\n"
     ]
    }
   ],
   "source": [
    "# -- Theano version of lambda x, y=1: x + y\n",
    "x, y = T.dscalars('x', 'y')\n",
    "z = x + y\n",
    "f = function([x, Param(y, default=1)], z)\n",
    "\n",
    "print f(33)\n",
    "print f(33, 2)\n",
    "print f(34)"
   ]
  },
  {
   "cell_type": "code",
   "execution_count": 7,
   "metadata": {
    "collapsed": false
   },
   "outputs": [
    {
     "name": "stdout",
     "output_type": "stream",
     "text": [
      "68.0\n",
      "70.0\n",
      "33.0\n",
      "34.0\n",
      "33.0\n"
     ]
    }
   ],
   "source": [
    "# -- Theano version of lambda x, y=1, w_by_name=2: (x + y) * w\n",
    "x, y, w = T.dscalars('x', 'y', 'w')\n",
    "z = (x + y) * w\n",
    "g = function([x, Param(y, default=1), Param(w, default=2, name='w_by_name')], z)\n",
    "print g(33)\n",
    "print g(33, 2)\n",
    "print g(33, 0, 1)\n",
    "print g(33, w_by_name=1)\n",
    "print g(33, w_by_name=1, y=0)"
   ]
  },
  {
   "cell_type": "code",
   "execution_count": 17,
   "metadata": {
    "collapsed": true
   },
   "outputs": [],
   "source": [
    "state = shared(0)\n",
    "inc = T.iscalar('inc')\n",
    "accumulator = function([inc], state, updates=[(state, state+inc)])"
   ]
  },
  {
   "cell_type": "code",
   "execution_count": 19,
   "metadata": {
    "collapsed": false
   },
   "outputs": [
    {
     "name": "stdout",
     "output_type": "stream",
     "text": [
      "before - state: 0\n",
      "after - state: 2\n"
     ]
    }
   ],
   "source": [
    "print \"before - state: {}\".format(state.get_value())\n",
    "accumulator(2)\n",
    "print \"after - state: {}\".format(state.get_value())"
   ]
  },
  {
   "cell_type": "code",
   "execution_count": 20,
   "metadata": {
    "collapsed": false
   },
   "outputs": [
    {
     "name": "stdout",
     "output_type": "stream",
     "text": [
      "before - state: 2\n",
      "after - state: 4\n"
     ]
    }
   ],
   "source": [
    "print \"before - state: {}\".format(state.get_value())\n",
    "accumulator(2)\n",
    "print \"after - state: {}\".format(state.get_value())"
   ]
  },
  {
   "cell_type": "code",
   "execution_count": 21,
   "metadata": {
    "collapsed": false
   },
   "outputs": [
    {
     "name": "stdout",
     "output_type": "stream",
     "text": [
      "before - state: 4\n",
      "after - state: 6\n"
     ]
    }
   ],
   "source": [
    "print \"before - state: {}\".format(state.get_value())\n",
    "accumulator(2)\n",
    "print \"after - state: {}\".format(state.get_value())"
   ]
  },
  {
   "cell_type": "code",
   "execution_count": 22,
   "metadata": {
    "collapsed": false
   },
   "outputs": [
    {
     "name": "stdout",
     "output_type": "stream",
     "text": [
      "7\n",
      "6\n"
     ]
    }
   ],
   "source": [
    "fn_of_state = state * 2 + inc\n",
    "foo = T.lscalar()        # the type (lscalar) must match the shared variable we\n",
    "                         # are replacing with the ``givens`` list\n",
    "skip_shared = function([inc, foo], fn_of_state, givens=[(state, foo)])\n",
    "print skip_shared(1, 3)  # we're using 3 for the state, not state.value\n",
    "print state.get_value()  # old state still there, we didn't use it"
   ]
  },
  {
   "cell_type": "code",
   "execution_count": null,
   "metadata": {
    "collapsed": true
   },
   "outputs": [],
   "source": []
  }
 ],
 "metadata": {
  "kernelspec": {
   "display_name": "Python 2",
   "language": "python",
   "name": "python2"
  },
  "language_info": {
   "codemirror_mode": {
    "name": "ipython",
    "version": 2
   },
   "file_extension": ".py",
   "mimetype": "text/x-python",
   "name": "python",
   "nbconvert_exporter": "python",
   "pygments_lexer": "ipython2",
   "version": "2.7.9"
  }
 },
 "nbformat": 4,
 "nbformat_minor": 0
}
