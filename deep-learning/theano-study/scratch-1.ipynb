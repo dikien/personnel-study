{
 "cells": [
  {
   "cell_type": "code",
   "execution_count": 40,
   "metadata": {
    "collapsed": true
   },
   "outputs": [],
   "source": [
    "%matplotlib inline\n",
    "import numpy as np\n",
    "import matplotlib.pyplot as plt\n",
    "import theano\n",
    "import theano.tensor as T\n",
    "from theano.sandbox.rng_mrg import MRG_RandomStreams as RandomStreams"
   ]
  },
  {
   "cell_type": "code",
   "execution_count": 2,
   "metadata": {
    "collapsed": false
   },
   "outputs": [],
   "source": [
    "x = T.scalar()\n",
    "y = T.scalar()\n",
    "z = x + y"
   ]
  },
  {
   "cell_type": "code",
   "execution_count": 3,
   "metadata": {
    "collapsed": false
   },
   "outputs": [],
   "source": [
    "fntSum = theano.function(inputs=[x, y], outputs=z)"
   ]
  },
  {
   "cell_type": "code",
   "execution_count": 4,
   "metadata": {
    "collapsed": false
   },
   "outputs": [
    {
     "name": "stdout",
     "output_type": "stream",
     "text": [
      "5.0\n"
     ]
    }
   ],
   "source": [
    "r1 = fntSum(2, 3)\n",
    "print r1"
   ]
  },
  {
   "cell_type": "code",
   "execution_count": 5,
   "metadata": {
    "collapsed": false
   },
   "outputs": [],
   "source": [
    "# data type\n",
    "x = T.scalar() # default\n",
    "x = T.iscalar() # int32\n",
    "x = T.dscalar() # float64\n",
    "\n",
    "x = T.vector() # 1-D\n",
    "x = T.matrix() # 2-D\n",
    "x = T.tensor3() # 3-D\n",
    "x = T.tensor4() # 4-D"
   ]
  },
  {
   "cell_type": "code",
   "execution_count": 6,
   "metadata": {
    "collapsed": false
   },
   "outputs": [
    {
     "name": "stdout",
     "output_type": "stream",
     "text": [
      "cpu\n",
      "float64\n"
     ]
    }
   ],
   "source": [
    "# default datatype\n",
    "print theano.config.device\n",
    "print theano.config.floatX"
   ]
  },
  {
   "cell_type": "code",
   "execution_count": 7,
   "metadata": {
    "collapsed": true
   },
   "outputs": [],
   "source": [
    "x = T.matrix()\n",
    "y = T.matrix()\n",
    "z = T.dot(x, y)\n",
    "fntSumMat = theano.function([x, y], z)"
   ]
  },
  {
   "cell_type": "code",
   "execution_count": 8,
   "metadata": {
    "collapsed": false
   },
   "outputs": [
    {
     "name": "stdout",
     "output_type": "stream",
     "text": [
      "[[ 0.89720252  0.96093883  1.19207892]\n",
      " [ 0.65795941  0.72528811  0.91326167]\n",
      " [ 1.02690925  1.07333755  1.31240306]]\n"
     ]
    }
   ],
   "source": [
    "x = np.random.random((3,3))\n",
    "y = np.random.random((3,3))\n",
    "\n",
    "x = np.array(x, dtype=theano.config.floatX)\n",
    "y = np.array(y, dtype=theano.config.floatX)\n",
    "\n",
    "print fntSumMat(x, y)"
   ]
  },
  {
   "cell_type": "code",
   "execution_count": 9,
   "metadata": {
    "collapsed": false
   },
   "outputs": [
    {
     "name": "stdout",
     "output_type": "stream",
     "text": [
      "<TensorType(float64, matrix)>\n",
      "[[ 1.  2.]\n",
      " [ 3.  4.]]\n",
      "[[ 2.  3.]\n",
      " [ 4.  5.]]\n"
     ]
    }
   ],
   "source": [
    "# shared variable\n",
    "# shared variable can't be input or output\n",
    "t = np.array([[1,2], [3,4]], dtype=theano.config.floatX)\n",
    "t = theano.shared(t)\n",
    "# t = theano.shared(t, borrow=True) # default : false \n",
    "print t\n",
    "print t.get_value()\n",
    "t.set_value(t.get_value() + 1)\n",
    "print t.get_value()"
   ]
  },
  {
   "cell_type": "code",
   "execution_count": 11,
   "metadata": {
    "collapsed": false
   },
   "outputs": [
    {
     "name": "stdout",
     "output_type": "stream",
     "text": [
      "input : 0, output : [array(0.0)]\n",
      "input : 1, output : [array(2.0)]\n",
      "input : 2, output : [array(4.0)]\n",
      "input : 3, output : [array(6.0)]\n",
      "input : 4, output : [array(8.0)]\n"
     ]
    }
   ],
   "source": [
    "# differentiation\n",
    "x = T.scalar()\n",
    "y = x ** 2\n",
    "diff = theano.function([x], T.grad(y, [x]))\n",
    "for i in range(5):\n",
    "    print \"input : %s, output : %s\" %(i, diff(i))"
   ]
  },
  {
   "cell_type": "code",
   "execution_count": 12,
   "metadata": {
    "collapsed": false
   },
   "outputs": [
    {
     "name": "stdout",
     "output_type": "stream",
     "text": [
      "input : 0, output : 0.0\n",
      "input : 1, output : 2.0\n",
      "input : 2, output : 4.0\n",
      "input : 3, output : 6.0\n",
      "input : 4, output : 8.0\n"
     ]
    }
   ],
   "source": [
    "# differentiation\n",
    "x = T.scalar()\n",
    "y = x ** 2\n",
    "diff = theano.function([x], T.grad(y, [x])[0])\n",
    "for i in range(5):\n",
    "    print \"input : %s, output : %s\" %(i, diff(i))"
   ]
  },
  {
   "cell_type": "code",
   "execution_count": 13,
   "metadata": {
    "collapsed": false
   },
   "outputs": [
    {
     "name": "stdout",
     "output_type": "stream",
     "text": [
      "input : 0, w : 3.0, output : 1.0\n",
      "input : 1, w : 3.0, output : 4.0\n",
      "input : 2, w : 2.6, output : 17.64\n",
      "input : 3, w : 0.92, output : 3.0976\n",
      "input : 4, w : -0.136, output : 2.383936\n",
      "input : 5, w : 1.0992, output : 20.214016\n",
      "input : 6, w : -3.3968, output : 457.13860864\n",
      "input : 7, w : 22.26016, output : 23969.5791981\n",
      "input : 8, w : -194.489408, output : 2423985.13928\n",
      "input : 9, w : 2296.5750144, output : 427173463.188\n"
     ]
    }
   ],
   "source": [
    "# evaluate & update\n",
    "x = T.scalar()\n",
    "w = theano.shared(np.array(3, dtype=theano.config.floatX), borrow=True)\n",
    "obj = (1 -x*w)**2\n",
    "\n",
    "# 0.1 is learning rate\n",
    "learn_w = (w, w-0.1*T.grad(obj, w))\n",
    "learn = theano.function([x], obj, updates=[learn_w])\n",
    "\n",
    "for i in range(10):\n",
    "    print \"input : %s, w : %s, output : %s\" %(i, w.get_value(), learn(i))"
   ]
  },
  {
   "cell_type": "code",
   "execution_count": 25,
   "metadata": {
    "collapsed": false
   },
   "outputs": [
    {
     "data": {
      "text/plain": [
       "array([[ 0.82764089, -2.00598699],\n",
       "       [ 1.01048744, -1.46717392]])"
      ]
     },
     "execution_count": 25,
     "metadata": {},
     "output_type": "execute_result"
    }
   ],
   "source": [
    "np.random.randn(*(2,2))"
   ]
  },
  {
   "cell_type": "code",
   "execution_count": 30,
   "metadata": {
    "collapsed": false
   },
   "outputs": [
    {
     "name": "stdout",
     "output_type": "stream",
     "text": [
      "[[ 2.  2.]\n",
      " [ 2.  2.]]\n"
     ]
    }
   ],
   "source": [
    "x = T.matrix() # 2-D\n",
    "y = T.matrix() # 2-D\n",
    "\n",
    "f_dot = theano.function([x, y], T.dot(x, y))\n",
    "\n",
    "x = np.array([[1, 1], [1, 1]], dtype=theano.config.floatX)\n",
    "y = np.array([[1, 1], [1, 1]], dtype=theano.config.floatX)\n",
    "\n",
    "print f_dot(x, y)"
   ]
  },
  {
   "cell_type": "code",
   "execution_count": 32,
   "metadata": {
    "collapsed": false
   },
   "outputs": [
    {
     "name": "stdout",
     "output_type": "stream",
     "text": [
      "[[ 0.88079708  0.88079708]\n",
      " [ 0.88079708  0.88079708]]\n"
     ]
    }
   ],
   "source": [
    "x = T.matrix() # 2-D\n",
    "y = T.matrix() # 2-D\n",
    "\n",
    "f_sigmoid = theano.function([x, y], T.nnet.sigmoid(T.dot(x, y)))\n",
    "\n",
    "x = np.array([[1, 1], [1, 1]], dtype=theano.config.floatX)\n",
    "y = np.array([[1, 1], [1, 1]], dtype=theano.config.floatX)\n",
    "\n",
    "print f_sigmoid(x, y)"
   ]
  },
  {
   "cell_type": "code",
   "execution_count": 41,
   "metadata": {
    "collapsed": false
   },
   "outputs": [
    {
     "name": "stdout",
     "output_type": "stream",
     "text": [
      "[[  7.80134161e-05   2.12062451e-04   5.76445508e-04   1.56694135e-03\n",
      "    4.25938820e-03   1.15782175e-02   3.14728583e-02   8.55520989e-02\n",
      "    2.32554716e-01   6.32149258e-01]]\n"
     ]
    }
   ],
   "source": [
    "x = T.vector()\n",
    "\n",
    "f_softmax = theano.function([x], T.nnet.softmax(x))\n",
    "\n",
    "x = range(10)\n",
    "\n",
    "print f_softmax(x)"
   ]
  },
  {
   "cell_type": "code",
   "execution_count": 42,
   "metadata": {
    "collapsed": true
   },
   "outputs": [],
   "source": [
    "srng = RandomStreams()"
   ]
  },
  {
   "cell_type": "code",
   "execution_count": 70,
   "metadata": {
    "collapsed": true
   },
   "outputs": [],
   "source": [
    "x = T.matrix()\n",
    "\n",
    "p = 0.5\n",
    "retain_prob = 1 - p\n",
    "\n",
    "f_binomia = theano.function([x], srng.binomial(x.shape, p=retain_prob, dtype=theano.config.floatX))"
   ]
  },
  {
   "cell_type": "code",
   "execution_count": 72,
   "metadata": {
    "collapsed": false
   },
   "outputs": [
    {
     "name": "stdout",
     "output_type": "stream",
     "text": [
      "(array([ 0.,  1.]), array([ 7, 93]))\n"
     ]
    }
   ],
   "source": [
    "x = np.array(np.random.random((10, 10)), dtype=theano.config.floatX)\n",
    "\n",
    "r = f_binomia(x)\n",
    "print np.unique(r, return_counts=True)"
   ]
  },
  {
   "cell_type": "code",
   "execution_count": 68,
   "metadata": {
    "collapsed": false
   },
   "outputs": [
    {
     "name": "stdout",
     "output_type": "stream",
     "text": [
      "(array([ 0.,  1.]), array([11, 14]))\n"
     ]
    }
   ],
   "source": []
  }
 ],
 "metadata": {
  "kernelspec": {
   "display_name": "Python 2",
   "language": "python",
   "name": "python2"
  },
  "language_info": {
   "codemirror_mode": {
    "name": "ipython",
    "version": 2
   },
   "file_extension": ".py",
   "mimetype": "text/x-python",
   "name": "python",
   "nbconvert_exporter": "python",
   "pygments_lexer": "ipython2",
   "version": "2.7.9"
  }
 },
 "nbformat": 4,
 "nbformat_minor": 0
}
