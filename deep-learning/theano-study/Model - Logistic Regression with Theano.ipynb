{
 "cells": [
  {
   "cell_type": "code",
   "execution_count": 1,
   "metadata": {
    "collapsed": true
   },
   "outputs": [],
   "source": [
    "import numpy as np\n",
    "import theano.tensor as T\n",
    "from theano import shared, function\n",
    "rng = np.random.RandomState(123)"
   ]
  },
  {
   "cell_type": "code",
   "execution_count": 2,
   "metadata": {
    "collapsed": true
   },
   "outputs": [],
   "source": [
    "# Create a sample logistic regression problem.\n",
    "true_w = rng.randn(100)\n",
    "true_b = rng.randn()\n",
    "xdata = rng.randn(50, 100)\n",
    "ydata = (np.dot(xdata, true_w) + true_b) > 0.0"
   ]
  },
  {
   "cell_type": "code",
   "execution_count": 7,
   "metadata": {
    "collapsed": false
   },
   "outputs": [
    {
     "name": "stdout",
     "output_type": "stream",
     "text": [
      "(50, 100)\n",
      "(50,)\n"
     ]
    }
   ],
   "source": [
    "print xdata.shape\n",
    "print ydata.shape"
   ]
  },
  {
   "cell_type": "code",
   "execution_count": 9,
   "metadata": {
    "collapsed": false
   },
   "outputs": [
    {
     "name": "stdout",
     "output_type": "stream",
     "text": [
      "Initial model\n",
      "[  6.61059266e-01   8.80420889e-01  -3.67921474e-01   1.20765018e+00\n",
      "  -2.14610529e-01  -1.19636732e+00   1.18865883e-01   7.33034960e-01\n",
      "  -6.98609914e-01  -1.36392378e+00   1.16824539e-03  -1.03206682e-01\n",
      "  -7.87036977e-01   1.33362070e+00   8.17370853e-01   1.00688984e+00\n",
      "  -1.28817580e+00  -2.83361054e-01  -4.83204073e-01  -3.75577195e-01\n",
      "   1.02197703e+00  -5.67505190e-01  -6.41691769e-01   1.03204580e+00\n",
      "   1.79862507e+00   1.30371339e+00  -9.02156610e-01  -2.03707648e+00\n",
      "  -7.72719144e-01  -1.29461239e-01   3.22318779e-01  -5.05242963e-01\n",
      "   1.14594573e+00   5.76318198e-01   1.22296878e-02  -1.41357054e+00\n",
      "   1.15908539e+00  -4.40720242e-02  -1.77498582e+00   1.22743304e+00\n",
      "   1.89512652e+00  -2.24029939e-01  -1.02021225e+00   1.11353251e+00\n",
      "   1.43122637e+00   7.08663795e-01  -2.06833658e+00  -6.41221430e-01\n",
      "  -9.05293785e-01   5.65369342e-01   1.47212572e+00   1.13207895e-02\n",
      "  -1.54788945e-01  -1.47914598e+00  -1.33069579e+00   4.35851675e-03\n",
      "   1.43251885e+00  -4.92613717e-01  -5.81063848e-01  -1.09153678e+00\n",
      "  -1.27317059e+00   9.55086031e-01  -2.53030805e-01   8.21210582e-01\n",
      "  -1.84118581e+00  -3.58702745e-01   1.50412867e+00  -1.16200496e+00\n",
      "  -1.02486821e+00  -1.26812652e-01  -8.66453050e-03   2.88198454e-01\n",
      "  -1.18904933e-01   5.77063623e-02   7.95361677e-03  -9.18402661e-01\n",
      "  -4.45241436e-01  -1.34150481e+00   1.87076505e-01  -8.86069228e-01\n",
      "   5.39031181e-01   5.23505059e-01  -2.10460840e+00   8.34642948e-01\n",
      "   6.79722952e-01   1.07699547e-01  -2.19304814e+00  -1.87515483e+00\n",
      "   7.94940943e-01  -5.14104275e-01   2.91403153e-01  -2.82796468e+00\n",
      "   4.78010635e-01  -7.36536398e-01  -7.67162750e-01   9.75267569e-01\n",
      "  -3.62772390e-01   3.54360101e-01  -8.55132332e-01   1.94588392e+00]\n",
      "0.0\n"
     ]
    }
   ],
   "source": [
    "# Step 1. Declare Theano variables\n",
    "x = T.dmatrix()\n",
    "y = T.dvector()\n",
    "w = shared(rng.randn(100))\n",
    "b = shared(np.zeros(()))\n",
    "print \"Initial model\"\n",
    "print w.get_value()\n",
    "print b.get_value()"
   ]
  },
  {
   "cell_type": "code",
   "execution_count": 10,
   "metadata": {
    "collapsed": true
   },
   "outputs": [],
   "source": [
    "# Step 2. Construct Theano expression graph\n",
    "p_1 = 1 / (1 + T.exp(-T.dot(x, w) - b))\n",
    "xent = -y * T.log(p_1) - (1 - y) * T.log(1 - p_1)\n",
    "prediction = p_1 > 0.5\n",
    "cost = xent.mean() + 0.01 * (w ** 2).sum()\n",
    "gw, gb = T.grad(cost, [w, b])"
   ]
  },
  {
   "cell_type": "code",
   "execution_count": 11,
   "metadata": {
    "collapsed": false
   },
   "outputs": [
    {
     "name": "stderr",
     "output_type": "stream",
     "text": [
      "/Users/dikien/anaconda/lib/python2.7/site-packages/IPython/kernel/__main__.py:5: UserWarning: The parameter 'updates' of theano.function() expects an OrderedDict, got <type 'dict'>. Using a standard dictionary here results in non-deterministic behavior. You should use an OrderedDict if you are using Python 2.7 (theano.compat.python2x.OrderedDict for older python), or use a list of (shared, update) pairs. Do not just convert your dictionary to this type before the call as the conversion will still be non-deterministic.\n"
     ]
    }
   ],
   "source": [
    "# Step 3. Compile expressions to functions\n",
    "train = function(inputs=[x, y],\n",
    "                 outputs=[prediction, xent],\n",
    "                 updates={w:w - 0.1 * gw,\n",
    "                          b:b - 0.1 * gb})"
   ]
  },
  {
   "cell_type": "code",
   "execution_count": 12,
   "metadata": {
    "collapsed": false
   },
   "outputs": [
    {
     "name": "stdout",
     "output_type": "stream",
     "text": [
      "3.56002568818\n",
      "3.45421095955\n",
      "3.3502921538\n",
      "3.24825434089\n",
      "3.14810517968\n",
      "3.04986922862\n",
      "2.95358263204\n",
      "2.85928854187\n",
      "2.76703339608\n",
      "2.67686394499\n",
      "2.58882477064\n",
      "2.50295596218\n",
      "2.41929058046\n",
      "2.33785168081\n",
      "2.25864911398\n",
      "2.18167698303\n",
      "2.10691298547\n",
      "2.03432038932\n",
      "1.96385219392\n",
      "1.89545593769\n",
      "1.82907741597\n",
      "1.76466230259\n",
      "1.70215573756\n",
      "1.6415007364\n",
      "1.58263652986\n",
      "1.52549773193\n",
      "1.47001478408\n",
      "1.41611563667\n",
      "1.36372833056\n",
      "1.31278390263\n",
      "1.26321911555\n",
      "1.21497858834\n",
      "1.16801609445\n",
      "1.12229497951\n",
      "1.07778781896\n",
      "1.03447556326\n",
      "0.992346485795\n",
      "0.951395238177\n",
      "0.911622224404\n",
      "0.873033351425\n",
      "0.835640045626\n",
      "0.799459296496\n",
      "0.764513437272\n",
      "0.730829403771\n",
      "0.698437308016\n",
      "0.667368293676\n",
      "0.637651779303\n",
      "0.609312321721\n",
      "0.582366427491\n",
      "0.55681968859\n",
      "0.532664607464\n",
      "0.509879403351\n",
      "0.488427963664\n",
      "0.468260940256\n",
      "0.449317820898\n",
      "0.431529669144\n",
      "0.414822154808\n",
      "0.399118507231\n",
      "0.384342102934\n",
      "0.370418515951\n",
      "0.357276976755\n",
      "0.344851277368\n",
      "0.333080215306\n",
      "0.321907689952\n",
      "0.311282561533\n",
      "0.301158365789\n",
      "0.291492955489\n",
      "0.28224811851\n",
      "0.273389204169\n",
      "0.264884775692\n",
      "0.256706296983\n",
      "0.248827855617\n",
      "0.241225920327\n",
      "0.233879129528\n",
      "0.226768106899\n",
      "0.219875300263\n",
      "0.213184840586\n",
      "0.206682418618\n",
      "0.200355177368\n",
      "0.19419161918\n",
      "0.188181526617\n",
      "0.182315896617\n",
      "0.17658688757\n",
      "0.170987778937\n",
      "0.165512942915\n",
      "0.160157827346\n",
      "0.154918948597\n",
      "0.14979389245\n",
      "0.144781320108\n",
      "0.139880975268\n",
      "0.135093686737\n",
      "0.130421359546\n",
      "0.1258669459\n",
      "0.121434386026\n",
      "0.117128508477\n",
      "0.112954880135\n",
      "0.108919598834\n",
      "0.105029026426\n",
      "0.101289467478\n",
      "0.0977068079676\n"
     ]
    }
   ],
   "source": [
    "# Step 4. Perform computation\n",
    "for loop in range(100):\n",
    "    pval, xval = train(xdata, ydata)\n",
    "    print xval.mean()"
   ]
  }
 ],
 "metadata": {
  "kernelspec": {
   "display_name": "Python 2",
   "language": "python",
   "name": "python2"
  },
  "language_info": {
   "codemirror_mode": {
    "name": "ipython",
    "version": 2
   },
   "file_extension": ".py",
   "mimetype": "text/x-python",
   "name": "python",
   "nbconvert_exporter": "python",
   "pygments_lexer": "ipython2",
   "version": "2.7.9"
  }
 },
 "nbformat": 4,
 "nbformat_minor": 0
}
