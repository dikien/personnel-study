{
 "cells": [
  {
   "cell_type": "code",
   "execution_count": 5,
   "metadata": {
    "collapsed": false
   },
   "outputs": [],
   "source": [
    "# https://gist.github.com/kiyukuta/6170759\n",
    "import numpy\n",
    "import cPickle as pickle \n",
    "import gzip\n",
    "import image"
   ]
  },
  {
   "cell_type": "code",
   "execution_count": 10,
   "metadata": {
    "collapsed": true
   },
   "outputs": [],
   "source": [
    "def load_data():\n",
    "    with gzip.open('lasagne-study/mnist.pkl.gz', 'rb') as f:\n",
    "        tr,te,vl = pickle.load(f)\n",
    "    return tr, te, vl"
   ]
  },
  {
   "cell_type": "code",
   "execution_count": 7,
   "metadata": {
    "collapsed": true
   },
   "outputs": [],
   "source": [
    "def visualize_weights(weights, panel_shape, tile_size):\n",
    " \n",
    "    def scale(x):\n",
    "        eps = 1e-8\n",
    "        x = x.copy()\n",
    "        x -= x.min()\n",
    "        x *= 1.0 / (x.max() + eps)\n",
    "        return 255.0*x\n",
    " \n",
    "    margin_y = numpy.zeros(tile_size[1])\n",
    "    margin_x = numpy.zeros((tile_size[0] + 1) * panel_shape[0])\n",
    "    image = margin_x.copy()\n",
    " \n",
    "    for y in range(panel_shape[1]):\n",
    "        tmp = numpy.hstack( [ numpy.c_[ scale( x.reshape(tile_size) ), margin_y ] \n",
    "            for x in weights[y*panel_shape[0]:(y+1)*panel_shape[0]]])\n",
    "        tmp = numpy.vstack([tmp, margin_x])\n",
    " \n",
    "        image = numpy.vstack([image, tmp])\n",
    " \n",
    "    img = Image.fromarray(image)\n",
    "    img = img.convert('RGB')\n",
    "    return img"
   ]
  },
  {
   "cell_type": "code",
   "execution_count": 29,
   "metadata": {
    "collapsed": true
   },
   "outputs": [],
   "source": [
    "class Autoencoder(object):\n",
    "    def __init__(self, n_visible = 784, n_hidden = 784, \\\n",
    "        W1 = None, W2 = None, b1 =None, b2 = None, \n",
    "        noise = 0.0, untied = False):\n",
    " \n",
    "        self.rng = numpy.random.RandomState(1)\n",
    " \n",
    "        r = numpy.sqrt(6. / (n_hidden + n_visible + 1))\n",
    " \n",
    "        if W1 == None:\n",
    "            self.W1 = self.random_init(r, (n_hidden, n_visible))\n",
    " \n",
    "        if W2 == None:\n",
    "            if untied:\n",
    "                W2 = self.random_init(r, (n_visible, n_hidden))\n",
    "            else:\n",
    "                W2 = self.W1.T\n",
    " \n",
    " \n",
    "        self.W2 = W2\n",
    " \n",
    "        if b1 == None:\n",
    "            self.b1 = numpy.zeros(n_hidden)\n",
    "        if b2 == None:\n",
    "            self.b2 = numpy.zeros(n_visible)\n",
    " \n",
    "        self.n_visible = n_visible\n",
    "        self.n_hidden = n_hidden\n",
    "        self.alpha = 0.1\n",
    "        self.noise = noise\n",
    "        self.untied = untied\n",
    " \n",
    " \n",
    "    def random_init(self, r, size):\n",
    "        return numpy.array(self.rng.uniform(low = -r, high = r, size=size))\n",
    " \n",
    "    def sigmoid(self, x):\n",
    "        return 1. / (1. + numpy.exp(-x))\n",
    " \n",
    "    def sigmoid_prime(self, x):\n",
    "        return x * (1. - x)\n",
    " \n",
    "    def corrupt(self, x, noise):\n",
    "        return self.rng.binomial(size = x.shape, n = 1, p = 1.0 - noise) * x\n",
    " \n",
    "    def encode(self, x):\n",
    "        return self.sigmoid(numpy.dot(self.W1, x) + self.b1)\n",
    " \n",
    "    def decode(self, y):\n",
    "        return self.sigmoid(numpy.dot(self.W2, y) + self.b2)\n",
    " \n",
    "    def get_cost(self, x, z):\n",
    "        eps = 1e-10\n",
    "        return - numpy.sum((x * numpy.log(z + eps) + (1.-x) * numpy.log(1.-z + eps)))\n",
    " \n",
    "    def get_cost_and_grad(self, x_batch, dnum):\n",
    " \n",
    "        cost = 0.\n",
    "        grad_W1 = numpy.zeros(self.W1.shape)\n",
    "        grad_W2 = numpy.zeros(self.W2.shape)\n",
    "        grad_b1 = numpy.zeros(self.b1.shape)\n",
    "        grad_b2 = numpy.zeros(self.b2.shape)\n",
    " \n",
    "        for x in x_batch:\n",
    "            tilde_x = self.corrupt(x, self.noise)\n",
    "            p = self.encode(tilde_x)\n",
    "            y = self.decode(p)\n",
    " \n",
    "            cost += self.get_cost(x,y)\n",
    " \n",
    "            delta1 = - (x - y)\n",
    " \n",
    "            if self.untied:\n",
    " \n",
    "                grad_W2 += numpy.outer(delta1, p)\n",
    "            else:\n",
    "                grad_W1 += numpy.outer(delta1, p).T\n",
    " \n",
    "            grad_b2 += delta1\n",
    " \n",
    "            delta2 = numpy.dot(self.W2.T, delta1) * self.sigmoid_prime(p)\n",
    "            grad_W1 += numpy.outer(delta2, tilde_x)\n",
    "            grad_b1 += delta2\n",
    " \n",
    "            \n",
    " \n",
    "        cost /= len(x_batch)\n",
    "        grad_W1 /= len(x_batch)\n",
    "        grad_W2 /= len(x_batch)\n",
    "        grad_b1 /= len(x_batch)\n",
    "        grad_b2 /= len(x_batch)\n",
    " \n",
    "        return cost, grad_W1, grad_W2, grad_b1, grad_b2\n",
    " \n",
    " \n",
    "    def train(self, X, epochs = 15, batch_size = 20):\n",
    "        batch_num = len(X) / batch_size\n",
    "    \n",
    "        for epoch in range(epochs): \n",
    "            total_cost = 0.0\n",
    "            for i in range(batch_num):\n",
    "                batch = X[i*batch_size : (i+1)*batch_size]\n",
    " \n",
    "                cost, gradW1, gradW2, gradb1, gradb2 = \\\n",
    "                    self.get_cost_and_grad(batch, len(X))\n",
    " \n",
    "                total_cost += cost\n",
    "                self.W1 -= self.alpha * gradW1\n",
    "                self.W2 -= self.alpha * gradW2\n",
    "                self.b1 -= self.alpha * gradb1\n",
    "                self.b2 -= self.alpha * gradb2\n",
    " \n",
    "                grad_sum = gradW1.sum() + gradW2.sum() + gradb1.sum() + gradb2.sum()\n",
    " \n",
    "            print epoch,\n",
    "            print (1. / batch_num) * total_cost\n",
    "              \n",
    " \n",
    "    def dump_weights(self, save_path):\n",
    "        with open(save_path, 'w') as f:\n",
    "            d = {\n",
    "                \"W1\" : self.W1,\n",
    "                \"W2\" : self.W2,\n",
    "                \"b1\" : self.b1,\n",
    "                \"b2\" : self.b2,\n",
    "                }\n",
    " \n",
    "            pickle.dump(d, f)\n",
    " \n",
    "    def visualize_weights(self):\n",
    "        tile_size = (int(numpy.sqrt(self.W1[0].size)), int(numpy.sqrt(self.W1[0].size)))\n",
    " \n",
    "        panel_shape = (10, 10)\n",
    "        return visualize_weights(self.W1, panel_shape, tile_size)\n",
    "        #panel_shape = (int(numpy.sqrt(self.W1.shape[0])), int(numpy.sqrt(self.W1.shape[0])))\n",
    "        #return utils.visualize_weights(self.W1, panel_shape, tile_size)"
   ]
  },
  {
   "cell_type": "code",
   "execution_count": 11,
   "metadata": {
    "collapsed": false
   },
   "outputs": [],
   "source": [
    "tr, te, vl = load_data()\n",
    "ae = Autoencoder(n_hidden = 50)"
   ]
  },
  {
   "cell_type": "code",
   "execution_count": 20,
   "metadata": {
    "collapsed": false
   },
   "outputs": [
    {
     "name": "stdout",
     "output_type": "stream",
     "text": [
      "50\n",
      "784\n",
      "0.0\n"
     ]
    }
   ],
   "source": [
    "print ae.n_hidden\n",
    "print ae.n_visible\n",
    "print ae.noise"
   ]
  },
  {
   "cell_type": "code",
   "execution_count": 21,
   "metadata": {
    "collapsed": false
   },
   "outputs": [
    {
     "name": "stdout",
     "output_type": "stream",
     "text": [
      "544.015167655\n"
     ]
    }
   ],
   "source": [
    "x = [tr[0][0]]\n",
    "noise = 0.0\n",
    "tilde_x = [ae.corrupt(x[0], noise)]\n",
    "c, gW1, gW2, gb1, gb2 = ae.get_cost_and_grad(tilde_x, len(tr[0]))\n",
    "print c"
   ]
  },
  {
   "cell_type": "code",
   "execution_count": 22,
   "metadata": {
    "collapsed": false
   },
   "outputs": [
    {
     "name": "stdout",
     "output_type": "stream",
     "text": [
      "W1\n"
     ]
    }
   ],
   "source": [
    "epsilon = 1e-4\n",
    "print \"W1\""
   ]
  },
  {
   "cell_type": "code",
   "execution_count": 23,
   "metadata": {
    "collapsed": true
   },
   "outputs": [],
   "source": [
    "for i in range(len(ae.W1)):\n",
    "    for j in range(len(ae.W1[i])):\n",
    "        ae.W1[i][j] += epsilon\n",
    " \n",
    "        y = ae.decode(ae.encode(tilde_x[0]))\n",
    "        e_p = ae.get_cost(x[0], y)\n",
    "        \n",
    "        ae.W1[i][j] -= 2. * epsilon\n",
    "        y = ae.decode(ae.encode(tilde_x[0]))\n",
    "        e_m = ae.get_cost(x[0], y)\n",
    "        \n",
    "        g = ( e_p - e_m ) / (2. * epsilon)\n",
    "        \n",
    "        ae.W1[i][j] += epsilon\n",
    "        \n",
    "        diff = gW1[i][j] - g\n",
    " \n",
    "        if numpy.absolute(diff) >= epsilon**2:\n",
    "            print i,j, gW1[i][j],  g, diff"
   ]
  },
  {
   "cell_type": "code",
   "execution_count": 24,
   "metadata": {
    "collapsed": false
   },
   "outputs": [
    {
     "name": "stdout",
     "output_type": "stream",
     "text": [
      "W2\n"
     ]
    }
   ],
   "source": [
    "print \"W2\"\n",
    "for i in range(len(ae.W2)):\n",
    "    for j in range(len(ae.W2[i])):\n",
    "        ae.W2[i][j] += epsilon\n",
    "        e_p = ae.get_cost(tilde_x[0], x[0])\n",
    "        \n",
    "        ae.W2[i][j] -= 2 * epsilon\n",
    "        e_m = ae.get_cost(tilde_x[0], x[0])\n",
    "        \n",
    "        g = ( e_p - e_m ) / (2 * epsilon)\n",
    "        \n",
    "        ae.W2[i][j] += epsilon\n",
    " \n",
    "        diff = gW2[i][j] - g\n",
    "        if numpy.absolute(diff) >= epsilon**2:\n",
    "            print i,j, gW2[i][j],  g, diff"
   ]
  },
  {
   "cell_type": "code",
   "execution_count": 25,
   "metadata": {
    "collapsed": true
   },
   "outputs": [],
   "source": [
    "train_data, test_data, valid_data = load_data()"
   ]
  },
  {
   "cell_type": "code",
   "execution_count": 31,
   "metadata": {
    "collapsed": true
   },
   "outputs": [],
   "source": [
    "ae = Autoencoder(n_hidden = 50)"
   ]
  },
  {
   "cell_type": "code",
   "execution_count": 32,
   "metadata": {
    "collapsed": false
   },
   "outputs": [
    {
     "name": "stdout",
     "output_type": "stream",
     "text": [
      "0 221.972526694\n",
      "1 158.667426564\n"
     ]
    }
   ],
   "source": [
    "ae.train(train_data[0], epochs = 2, batch_size = 1000)"
   ]
  },
  {
   "cell_type": "code",
   "execution_count": 33,
   "metadata": {
    "collapsed": false
   },
   "outputs": [
    {
     "ename": "IndexError",
     "evalue": "list index out of range",
     "output_type": "error",
     "traceback": [
      "\u001b[0;31m---------------------------------------------------------------------------\u001b[0m",
      "\u001b[0;31mIndexError\u001b[0m                                Traceback (most recent call last)",
      "\u001b[0;32m<ipython-input-33-1649b5fa5048>\u001b[0m in \u001b[0;36m<module>\u001b[0;34m()\u001b[0m\n\u001b[0;32m----> 1\u001b[0;31m \u001b[0mimg\u001b[0m \u001b[0;34m=\u001b[0m \u001b[0mae\u001b[0m\u001b[0;34m.\u001b[0m\u001b[0mvisualize_weights\u001b[0m\u001b[0;34m(\u001b[0m\u001b[0;34m)\u001b[0m\u001b[0;34m\u001b[0m\u001b[0m\n\u001b[0m",
      "\u001b[0;32m<ipython-input-29-3dcee2f6d4f2>\u001b[0m in \u001b[0;36mvisualize_weights\u001b[0;34m(self)\u001b[0m\n\u001b[1;32m    130\u001b[0m \u001b[0;34m\u001b[0m\u001b[0m\n\u001b[1;32m    131\u001b[0m         \u001b[0mpanel_shape\u001b[0m \u001b[0;34m=\u001b[0m \u001b[0;34m(\u001b[0m\u001b[0;36m10\u001b[0m\u001b[0;34m,\u001b[0m \u001b[0;36m10\u001b[0m\u001b[0;34m)\u001b[0m\u001b[0;34m\u001b[0m\u001b[0m\n\u001b[0;32m--> 132\u001b[0;31m         \u001b[0;32mreturn\u001b[0m \u001b[0mvisualize_weights\u001b[0m\u001b[0;34m(\u001b[0m\u001b[0mself\u001b[0m\u001b[0;34m.\u001b[0m\u001b[0mW1\u001b[0m\u001b[0;34m,\u001b[0m \u001b[0mpanel_shape\u001b[0m\u001b[0;34m,\u001b[0m \u001b[0mtile_size\u001b[0m\u001b[0;34m)\u001b[0m\u001b[0;34m\u001b[0m\u001b[0m\n\u001b[0m\u001b[1;32m    133\u001b[0m         \u001b[0;31m#panel_shape = (int(numpy.sqrt(self.W1.shape[0])), int(numpy.sqrt(self.W1.shape[0])))\u001b[0m\u001b[0;34m\u001b[0m\u001b[0;34m\u001b[0m\u001b[0m\n\u001b[1;32m    134\u001b[0m         \u001b[0;31m#return utils.visualize_weights(self.W1, panel_shape, tile_size)\u001b[0m\u001b[0;34m\u001b[0m\u001b[0;34m\u001b[0m\u001b[0m\n",
      "\u001b[0;32m<ipython-input-7-249dc81cd1d3>\u001b[0m in \u001b[0;36mvisualize_weights\u001b[0;34m(weights, panel_shape, tile_size)\u001b[0m\n\u001b[1;32m     14\u001b[0m     \u001b[0;32mfor\u001b[0m \u001b[0my\u001b[0m \u001b[0;32min\u001b[0m \u001b[0mrange\u001b[0m\u001b[0;34m(\u001b[0m\u001b[0mpanel_shape\u001b[0m\u001b[0;34m[\u001b[0m\u001b[0;36m1\u001b[0m\u001b[0;34m]\u001b[0m\u001b[0;34m)\u001b[0m\u001b[0;34m:\u001b[0m\u001b[0;34m\u001b[0m\u001b[0m\n\u001b[1;32m     15\u001b[0m         tmp = numpy.hstack( [ numpy.c_[ scale( x.reshape(tile_size) ), margin_y ] \n\u001b[0;32m---> 16\u001b[0;31m             for x in weights[y*panel_shape[0]:(y+1)*panel_shape[0]]])\n\u001b[0m\u001b[1;32m     17\u001b[0m         \u001b[0mtmp\u001b[0m \u001b[0;34m=\u001b[0m \u001b[0mnumpy\u001b[0m\u001b[0;34m.\u001b[0m\u001b[0mvstack\u001b[0m\u001b[0;34m(\u001b[0m\u001b[0;34m[\u001b[0m\u001b[0mtmp\u001b[0m\u001b[0;34m,\u001b[0m \u001b[0mmargin_x\u001b[0m\u001b[0;34m]\u001b[0m\u001b[0;34m)\u001b[0m\u001b[0;34m\u001b[0m\u001b[0m\n\u001b[1;32m     18\u001b[0m \u001b[0;34m\u001b[0m\u001b[0m\n",
      "\u001b[0;32m/Users/dikien/anaconda/lib/python2.7/site-packages/numpy/core/shape_base.pyc\u001b[0m in \u001b[0;36mhstack\u001b[0;34m(tup)\u001b[0m\n\u001b[1;32m    272\u001b[0m     \u001b[0marrs\u001b[0m \u001b[0;34m=\u001b[0m \u001b[0;34m[\u001b[0m\u001b[0matleast_1d\u001b[0m\u001b[0;34m(\u001b[0m\u001b[0m_m\u001b[0m\u001b[0;34m)\u001b[0m \u001b[0;32mfor\u001b[0m \u001b[0m_m\u001b[0m \u001b[0;32min\u001b[0m \u001b[0mtup\u001b[0m\u001b[0;34m]\u001b[0m\u001b[0;34m\u001b[0m\u001b[0m\n\u001b[1;32m    273\u001b[0m     \u001b[0;31m# As a special case, dimension 0 of 1-dimensional arrays is \"horizontal\"\u001b[0m\u001b[0;34m\u001b[0m\u001b[0;34m\u001b[0m\u001b[0m\n\u001b[0;32m--> 274\u001b[0;31m     \u001b[0;32mif\u001b[0m \u001b[0marrs\u001b[0m\u001b[0;34m[\u001b[0m\u001b[0;36m0\u001b[0m\u001b[0;34m]\u001b[0m\u001b[0;34m.\u001b[0m\u001b[0mndim\u001b[0m \u001b[0;34m==\u001b[0m \u001b[0;36m1\u001b[0m\u001b[0;34m:\u001b[0m\u001b[0;34m\u001b[0m\u001b[0m\n\u001b[0m\u001b[1;32m    275\u001b[0m         \u001b[0;32mreturn\u001b[0m \u001b[0m_nx\u001b[0m\u001b[0;34m.\u001b[0m\u001b[0mconcatenate\u001b[0m\u001b[0;34m(\u001b[0m\u001b[0marrs\u001b[0m\u001b[0;34m,\u001b[0m \u001b[0;36m0\u001b[0m\u001b[0;34m)\u001b[0m\u001b[0;34m\u001b[0m\u001b[0m\n\u001b[1;32m    276\u001b[0m     \u001b[0;32melse\u001b[0m\u001b[0;34m:\u001b[0m\u001b[0;34m\u001b[0m\u001b[0m\n",
      "\u001b[0;31mIndexError\u001b[0m: list index out of range"
     ]
    }
   ],
   "source": [
    "img = ae.visualize_weights()"
   ]
  },
  {
   "cell_type": "code",
   "execution_count": 34,
   "metadata": {
    "collapsed": true
   },
   "outputs": [],
   "source": [
    "from PIL import Image"
   ]
  }
 ],
 "metadata": {
  "kernelspec": {
   "display_name": "Python 2",
   "language": "python",
   "name": "python2"
  },
  "language_info": {
   "codemirror_mode": {
    "name": "ipython",
    "version": 2
   },
   "file_extension": ".py",
   "mimetype": "text/x-python",
   "name": "python",
   "nbconvert_exporter": "python",
   "pygments_lexer": "ipython2",
   "version": "2.7.9"
  }
 },
 "nbformat": 4,
 "nbformat_minor": 0
}
