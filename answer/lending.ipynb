{
 "cells": [
  {
   "cell_type": "code",
   "execution_count": 71,
   "metadata": {
    "collapsed": false
   },
   "outputs": [
    {
     "data": {
      "text/plain": [
       "1.002"
      ]
     },
     "execution_count": 71,
     "metadata": {},
     "output_type": "execute_result"
    }
   ],
   "source": [
    "def fee(x):\n",
    "    return x + x * 0.002\n",
    "fee(1)"
   ]
  },
  {
   "cell_type": "code",
   "execution_count": 70,
   "metadata": {
    "collapsed": false
   },
   "outputs": [
    {
     "name": "stdout",
     "output_type": "stream",
     "text": [
      "고객이 빌린 BTC : 1\n",
      "고객에게 받아야 할 BTC : 1.002\n",
      "고객의 수수료 : %s0.002\n"
     ]
    }
   ],
   "source": [
    "# ex. 1 BTC를 빌림\n",
    "x = 1\n",
    "print \"고객이 빌린 BTC : \" + str(x)\n",
    "print \"고객에게 받아야 할 BTC : \" + str(fee(x))\n",
    "print \"고객의 수수료 : %s\" + str(float(fee(x)) - float(x))"
   ]
  },
  {
   "cell_type": "code",
   "execution_count": 69,
   "metadata": {
    "collapsed": false
   },
   "outputs": [
    {
     "name": "stdout",
     "output_type": "stream",
     "text": [
      "고객이 빌린 BTC : 11\n",
      "고객에게 받아야 할 BTC : 11.022\n",
      "수수료 : 0.022\n"
     ]
    }
   ],
   "source": [
    "# ex. 11 BTC를 빌림\n",
    "x = 11\n",
    "print \"고객이 빌린 BTC : \" + str(x)\n",
    "print \"고객에게 받아야 할 BTC : \" + str(fee(x))\n",
    "print \"수수료 : %s\" %(float(fee(x)) - float(x))"
   ]
  },
  {
   "cell_type": "code",
   "execution_count": 66,
   "metadata": {
    "collapsed": false
   },
   "outputs": [
    {
     "name": "stdout",
     "output_type": "stream",
     "text": [
      "고객이 빌린 BTC : 111.123123\n",
      "고객에게 받아야 할 BTC : 111.345369246\n",
      "수수료 : 0.222246246\n"
     ]
    }
   ],
   "source": [
    "# ex. 111.123123 BTC를 빌림\n",
    "# 9자리에서 round up\n",
    "x = 111.123123\n",
    "print \"고객이 빌린 BTC : \" + str(x)\n",
    "print \"고객에게 받아야 할 BTC : \" + str(fee(x))\n",
    "print \"수수료 : %s\" %(float(fee(x)) - float(x))"
   ]
  }
 ],
 "metadata": {
  "kernelspec": {
   "display_name": "Python 2",
   "language": "python",
   "name": "python2"
  },
  "language_info": {
   "codemirror_mode": {
    "name": "ipython",
    "version": 2
   },
   "file_extension": ".py",
   "mimetype": "text/x-python",
   "name": "python",
   "nbconvert_exporter": "python",
   "pygments_lexer": "ipython2",
   "version": "2.7.10"
  }
 },
 "nbformat": 4,
 "nbformat_minor": 0
}
