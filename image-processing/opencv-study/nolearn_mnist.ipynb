{
 "cells": [
  {
   "cell_type": "code",
   "execution_count": 1,
   "metadata": {
    "collapsed": false
   },
   "outputs": [
    {
     "name": "stdout",
     "output_type": "stream",
     "text": [
      "gnumpy: failed to import cudamat. Using npmat instead. No GPU will be used.\n"
     ]
    }
   ],
   "source": [
    "from sklearn.cross_validation import train_test_split\n",
    "from sklearn.metrics import classification_report\n",
    "from sklearn import datasets\n",
    "from nolearn.dbn import DBN\n",
    "import numpy as np\n",
    "import cv2"
   ]
  },
  {
   "cell_type": "code",
   "execution_count": 2,
   "metadata": {
    "collapsed": true
   },
   "outputs": [],
   "source": [
    "dataset = datasets.fetch_mldata(\"MNIST Original\")"
   ]
  },
  {
   "cell_type": "code",
   "execution_count": 3,
   "metadata": {
    "collapsed": true
   },
   "outputs": [],
   "source": [
    "# scale the data to the range [0, 1] and then construct the training\n",
    "# and testing splits\n",
    "(trainX, testX, trainY, testY) = train_test_split(dataset.data / 255.0, dataset.target.astype(\"int0\"), test_size = 0.33)"
   ]
  },
  {
   "cell_type": "code",
   "execution_count": 4,
   "metadata": {
    "collapsed": false,
    "scrolled": false
   },
   "outputs": [
    {
     "name": "stdout",
     "output_type": "stream",
     "text": [
      "[DBN] fitting X.shape=(46900, 784)\n",
      "[DBN] layers [784, 300, 10]\n",
      "[DBN] Fine-tune..."
     ]
    },
    {
     "name": "stderr",
     "output_type": "stream",
     "text": [
      "100%\n"
     ]
    },
    {
     "name": "stdout",
     "output_type": "stream",
     "text": [
      "\n",
      "Epoch 1:"
     ]
    },
    {
     "name": "stderr",
     "output_type": "stream",
     "text": [
      "100%\n"
     ]
    },
    {
     "name": "stdout",
     "output_type": "stream",
     "text": [
      "\n",
      "  loss 0.281380938839\n",
      "  err  0.0848702185792\n",
      "  (0:00:07)\n",
      "Epoch 2:"
     ]
    },
    {
     "name": "stderr",
     "output_type": "stream",
     "text": [
      "100%\n"
     ]
    },
    {
     "name": "stdout",
     "output_type": "stream",
     "text": [
      "\n",
      "  loss 0.17249368979\n",
      "  err  0.0496712773224\n",
      "  (0:00:07)\n",
      "Epoch 3:"
     ]
    },
    {
     "name": "stderr",
     "output_type": "stream",
     "text": [
      "100%\n"
     ]
    },
    {
     "name": "stdout",
     "output_type": "stream",
     "text": [
      "\n",
      "  loss 0.125732793689\n",
      "  err  0.0350281762295\n",
      "  (0:00:07)\n",
      "Epoch 4:"
     ]
    },
    {
     "name": "stderr",
     "output_type": "stream",
     "text": [
      "100%\n"
     ]
    },
    {
     "name": "stdout",
     "output_type": "stream",
     "text": [
      "\n",
      "  loss 0.0903794974387\n",
      "  err  0.0261057035519\n",
      "  (0:00:07)\n",
      "Epoch 5:"
     ]
    },
    {
     "name": "stderr",
     "output_type": "stream",
     "text": [
      "100%\n"
     ]
    },
    {
     "name": "stdout",
     "output_type": "stream",
     "text": [
      "\n",
      "  loss 0.0708371902667\n",
      "  err  0.0212389002732\n",
      "  (0:00:07)\n",
      "Epoch 6:"
     ]
    },
    {
     "name": "stderr",
     "output_type": "stream",
     "text": [
      "100%\n"
     ]
    },
    {
     "name": "stdout",
     "output_type": "stream",
     "text": [
      "\n",
      "  loss 0.0496749311719\n",
      "  err  0.0148779030055\n",
      "  (0:00:06)\n",
      "Epoch 7:"
     ]
    },
    {
     "name": "stderr",
     "output_type": "stream",
     "text": [
      "100%\n"
     ]
    },
    {
     "name": "stdout",
     "output_type": "stream",
     "text": [
      "\n",
      "  loss 0.0370386198311\n",
      "  err  0.0116547131148\n",
      "  (0:00:06)\n",
      "Epoch 8:"
     ]
    },
    {
     "name": "stderr",
     "output_type": "stream",
     "text": [
      "100%\n"
     ]
    },
    {
     "name": "stdout",
     "output_type": "stream",
     "text": [
      "\n",
      "  loss 0.0273948178272\n",
      "  err  0.00817537568306\n",
      "  (0:00:06)\n",
      "Epoch 9:"
     ]
    },
    {
     "name": "stderr",
     "output_type": "stream",
     "text": [
      "100%\n"
     ]
    },
    {
     "name": "stdout",
     "output_type": "stream",
     "text": [
      "\n",
      "  loss 0.0206042011946\n",
      "  err  0.00601946721311\n",
      "  (0:00:07)\n",
      "Epoch 10:\n",
      "  loss 0.0173045642584\n",
      "  err  0.00505891393443\n",
      "  (0:00:07)\n"
     ]
    }
   ],
   "source": [
    "# train the Deep Belief Network with 784 input units (the flattened,\n",
    "# 28x28 grayscale image), 300 hidden units, 10 output units (one for\n",
    "# each possible output classification, which are the digits 1-10)\n",
    "dbn = DBN(\n",
    "    [trainX.shape[1], 300, 10],\n",
    "    learn_rates = 0.3,\n",
    "    learn_rate_decays = 0.9,\n",
    "    epochs = 10,\n",
    "    verbose = 1)\n",
    "dbn.fit(trainX, trainY)"
   ]
  },
  {
   "cell_type": "code",
   "execution_count": 5,
   "metadata": {
    "collapsed": false
   },
   "outputs": [
    {
     "name": "stdout",
     "output_type": "stream",
     "text": [
      "             precision    recall  f1-score   support\n",
      "\n",
      "          0       0.98      0.98      0.98      2265\n",
      "          1       0.99      0.99      0.99      2588\n",
      "          2       0.98      0.98      0.98      2312\n",
      "          3       0.99      0.96      0.97      2345\n",
      "          4       0.99      0.97      0.98      2286\n",
      "          5       0.96      0.98      0.97      2073\n",
      "          6       0.99      0.98      0.99      2261\n",
      "          7       0.98      0.98      0.98      2384\n",
      "          8       0.95      0.98      0.97      2260\n",
      "          9       0.97      0.97      0.97      2326\n",
      "\n",
      "avg / total       0.98      0.98      0.98     23100\n",
      "\n"
     ]
    }
   ],
   "source": [
    "# compute the predictions for the test data and show a classification\n",
    "# report\n",
    "preds = dbn.predict(testX)\n",
    "print classification_report(testY, preds)"
   ]
  },
  {
   "cell_type": "code",
   "execution_count": null,
   "metadata": {
    "collapsed": true
   },
   "outputs": [],
   "source": [
    "# randomly select a few of the test instances\n",
    "for i in np.random.choice(np.arange(0, len(testY)), size = (10,)):\n",
    "    # classify the digit\n",
    "    pred = dbn.predict(np.atleast_2d(testX[i]))\n",
    " \n",
    "    # reshape the feature vector to be a 28x28 pixel image, then change\n",
    "    # the data type to be an unsigned 8-bit integer\n",
    "    image = (testX[i] * 255).reshape((28, 28)).astype(\"uint8\")\n",
    " \n",
    "    # show the image and prediction\n",
    "    print \"Actual digit is {0}, predicted {1}\".format(testY[i], pred[0])\n",
    "#     cv2.imshow(\"Digit\", image)\n",
    "#     cv2.waitKey(0)"
   ]
  }
 ],
 "metadata": {
  "kernelspec": {
   "display_name": "Python 2",
   "language": "python",
   "name": "python2"
  },
  "language_info": {
   "codemirror_mode": {
    "name": "ipython",
    "version": 2
   },
   "file_extension": ".py",
   "mimetype": "text/x-python",
   "name": "python",
   "nbconvert_exporter": "python",
   "pygments_lexer": "ipython2",
   "version": "2.7.9"
  }
 },
 "nbformat": 4,
 "nbformat_minor": 0
}
