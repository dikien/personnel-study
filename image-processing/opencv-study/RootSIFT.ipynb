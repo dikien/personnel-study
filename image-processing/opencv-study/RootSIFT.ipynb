{
 "cells": [
  {
   "cell_type": "code",
   "execution_count": 1,
   "metadata": {
    "collapsed": true
   },
   "outputs": [],
   "source": [
    "%matplotlib inline\n",
    "from matplotlib import pyplot as plt, cm\n",
    "import cv2\n",
    "import numpy as np"
   ]
  },
  {
   "cell_type": "code",
   "execution_count": 2,
   "metadata": {
    "collapsed": true
   },
   "outputs": [],
   "source": [
    "# Here is the simple algorithm to extend SIFT to RootSIFT:\n",
    "\n",
    "# Step 1: Compute SIFT descriptors using your favorite SIFT library.\n",
    "# Step 2: L1-normalize each SIFT vector.\n",
    "# Step 3: Take the square-root of each element in the SIFT vector.\n",
    "# Step 4: L2-normalize the resulting vector.\n",
    "\n",
    "# this little modification can dramatically improve results, whether you’re matching keypoints, \n",
    "# clustering SIFT descriptors, of quantizing to form a bag of visual words, Arandjelovic et al"
   ]
  },
  {
   "cell_type": "code",
   "execution_count": 8,
   "metadata": {
    "collapsed": true
   },
   "outputs": [],
   "source": [
    "class RootSIFT:\n",
    "\tdef __init__(self):\n",
    "\t\t# initialize the SIFT feature extractor\n",
    "\t\tself.extractor = cv2.DescriptorExtractor_create(\"SIFT\")\n",
    "\n",
    "\tdef compute(self, image, kps, eps=1e-7):\n",
    "\t\t# compute SIFT descriptors\n",
    "\t\t(kps, descs) = self.extractor.compute(image, kps)\n",
    "\n",
    "\t\t# if there are no keypoints or descriptors, return an empty tuple\n",
    "\t\tif len(kps) == 0:\n",
    "\t\t\treturn ([], None)\n",
    "\n",
    "\t\t# apply the Hellinger kernel by first L1-normalizing and taking the\n",
    "\t\t# square-root\n",
    "\t\tdescs /= (descs.sum(axis=1, keepdims=True) + eps)\n",
    "\t\tdescs = np.sqrt(descs)\n",
    "\t\t#descs /= (np.linalg.norm(descs, axis=1, ord=2) + eps)\n",
    "\n",
    "\t\t# return a tuple of the keypoints and descriptors\n",
    "\t\treturn (kps, descs)"
   ]
  },
  {
   "cell_type": "code",
   "execution_count": 9,
   "metadata": {
    "collapsed": false
   },
   "outputs": [
    {
     "name": "stdout",
     "output_type": "stream",
     "text": [
      "SIFT: kps=4929, descriptors=(4929, 128) \n",
      "RootSIFT: kps=4929, descriptors=(4929, 128) \n"
     ]
    }
   ],
   "source": [
    "# load the image we are going to extract descriptors from and convert\n",
    "# it to grayscale\n",
    "image = cv2.imread(\"./data/thumb_IMG_4181_1024.jpg\")\n",
    "gray = cv2.cvtColor(image, cv2.COLOR_BGR2GRAY)\n",
    " \n",
    "# detect Difference of Gaussian keypoints in the image\n",
    "detector = cv2.FeatureDetector_create(\"SIFT\")\n",
    "kps = detector.detect(image)\n",
    " \n",
    "# extract normal SIFT descriptors\n",
    "extractor = cv2.DescriptorExtractor_create(\"SIFT\")\n",
    "(kps, descs) = extractor.compute(image, kps)\n",
    "print \"SIFT: kps=%d, descriptors=%s \" % (len(kps), descs.shape)\n",
    " \n",
    "# extract RootSIFT descriptors\n",
    "rs = RootSIFT()\n",
    "(kps, descs) = rs.compute(image, kps)\n",
    "print \"RootSIFT: kps=%d, descriptors=%s \" % (len(kps), descs.shape)"
   ]
  }
 ],
 "metadata": {
  "kernelspec": {
   "display_name": "Python 2",
   "language": "python",
   "name": "python2"
  },
  "language_info": {
   "codemirror_mode": {
    "name": "ipython",
    "version": 2
   },
   "file_extension": ".py",
   "mimetype": "text/x-python",
   "name": "python",
   "nbconvert_exporter": "python",
   "pygments_lexer": "ipython2",
   "version": "2.7.9"
  }
 },
 "nbformat": 4,
 "nbformat_minor": 0
}
