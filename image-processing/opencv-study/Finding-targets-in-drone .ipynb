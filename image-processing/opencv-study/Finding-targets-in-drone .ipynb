{
 "cells": [
  {
   "cell_type": "code",
   "execution_count": 1,
   "metadata": {
    "collapsed": true
   },
   "outputs": [],
   "source": [
    "import cv2"
   ]
  },
  {
   "cell_type": "code",
   "execution_count": 2,
   "metadata": {
    "collapsed": false
   },
   "outputs": [],
   "source": [
    "# load the video\n",
    "camera = cv2.VideoCapture(0)\n",
    " \n",
    "# keep looping\n",
    "while True:\n",
    "    # grab the current frame and initialize the status text\n",
    "    (grabbed, frame) = camera.read()\n",
    "    status = \"No Targets\"\n",
    "    \n",
    "    # check to see if we have reached the end of the\n",
    "    # video\n",
    "    if not grabbed:\n",
    "        break\n",
    "    \n",
    "    # convert the frame to grayscale, blur it, and detect edges\n",
    "    gray = cv2.cvtColor(frame, cv2.COLOR_BGR2GRAY)\n",
    "    blurred = cv2.GaussianBlur(gray, (7, 7), 0)\n",
    "    edged = cv2.Canny(blurred, 50, 150)\n",
    "    \n",
    "    # find contours in the edge map\n",
    "    (cnts, _) = cv2.findContours(edged.copy(), cv2.RETR_EXTERNAL,\n",
    "        cv2.CHAIN_APPROX_SIMPLE)\n",
    "    \n",
    "    # loop over the contours\n",
    "    for c in cnts:\n",
    "        # approximate the contour\n",
    "        peri = cv2.arcLength(c, True)\n",
    "        approx = cv2.approxPolyDP(c, 0.01 * peri, True)\n",
    "    \n",
    "        # ensure that the approximated contour is \"roughly\" rectangular\n",
    "        if len(approx) >= 4 and len(approx) <= 6:\n",
    "            # compute the bounding box of the approximated contour and\n",
    "            # use the bounding box to compute the aspect ratio\n",
    "            (x, y, w, h) = cv2.boundingRect(approx)\n",
    "            aspectRatio = w / float(h)\n",
    "    \n",
    "            # compute the solidity of the original contour\n",
    "            area = cv2.contourArea(c)\n",
    "            hullArea = cv2.contourArea(cv2.convexHull(c))\n",
    "            solidity = area / float(hullArea)\n",
    "    \n",
    "            # compute whether or not the width and height, solidity, and\n",
    "            # aspect ratio of the contour falls within appropriate bounds\n",
    "            keepDims = w > 25 and h > 25\n",
    "            keepSolidity = solidity > 0.9\n",
    "            keepAspectRatio = aspectRatio >= 0.8 and aspectRatio <= 1.2\n",
    "    \n",
    "            # ensure that the contour passes all our tests\n",
    "            if keepDims and keepSolidity and keepAspectRatio:\n",
    "                # draw an outline around the target and update the status\n",
    "                # text\n",
    "                cv2.drawContours(frame, [approx], -1, (0, 0, 255), 4)\n",
    "                status = \"Target(s) Acquired\"\n",
    "    \n",
    "                # compute the center of the contour region and draw the\n",
    "                # crosshairs\n",
    "                M = cv2.moments(approx)\n",
    "                (cX, cY) = (int(M[\"m10\"] / M[\"m00\"]), int(M[\"m01\"] / M[\"m00\"]))\n",
    "                (startX, endX) = (int(cX - (w * 0.15)), int(cX + (w * 0.15)))\n",
    "                (startY, endY) = (int(cY - (h * 0.15)), int(cY + (h * 0.15)))\n",
    "                cv2.line(frame, (startX, cY), (endX, cY), (0, 0, 255), 3)\n",
    "                cv2.line(frame, (cX, startY), (cX, endY), (0, 0, 255), 3)\n",
    "                \n",
    "\n",
    "    # draw the status text on the frame\n",
    "    cv2.putText(frame, status, (20, 30), cv2.FONT_HERSHEY_SIMPLEX, 0.5,\n",
    "        (0, 0, 255), 2)\n",
    "    \n",
    "    # show the frame and record if a key is pressed\n",
    "    cv2.imshow(\"Frame\", frame)\n",
    "    key = cv2.waitKey(1) & 0xFF\n",
    "    \n",
    "    # if the 'q' key is pressed, stop the loop\n",
    "    if key == ord(\"q\"):\n",
    "        break\n",
    " \n",
    "# cleanup the camera and close any open windows\n",
    "camera.release()\n",
    "cv2.destroyAllWindows()"
   ]
  }
 ],
 "metadata": {
  "kernelspec": {
   "display_name": "Python 2",
   "language": "python",
   "name": "python2"
  },
  "language_info": {
   "codemirror_mode": {
    "name": "ipython",
    "version": 2
   },
   "file_extension": ".py",
   "mimetype": "text/x-python",
   "name": "python",
   "nbconvert_exporter": "python",
   "pygments_lexer": "ipython2",
   "version": "2.7.9"
  }
 },
 "nbformat": 4,
 "nbformat_minor": 0
}
