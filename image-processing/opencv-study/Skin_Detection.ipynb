{
 "cells": [
  {
   "cell_type": "code",
   "execution_count": 1,
   "metadata": {
    "collapsed": true
   },
   "outputs": [],
   "source": [
    "# http://www.pyimagesearch.com/2014/08/18/skin-detection-step-step-example-using-python-opencv/?__s=sgiodc9fdbcs7csewpiy\n",
    "from pyimagesearch import imutils\n",
    "import numpy as np\n",
    "import cv2"
   ]
  },
  {
   "cell_type": "code",
   "execution_count": 2,
   "metadata": {
    "collapsed": true
   },
   "outputs": [],
   "source": [
    "# define the upper and lower boundaries of the HSV pixel\n",
    "# intensities to be considered 'skin'\n",
    "lower = np.array([0, 48, 80], dtype = \"uint8\")\n",
    "upper = np.array([20, 255, 255], dtype = \"uint8\")"
   ]
  },
  {
   "cell_type": "code",
   "execution_count": 3,
   "metadata": {
    "collapsed": true
   },
   "outputs": [],
   "source": [
    "camera = cv2.VideoCapture(0)"
   ]
  },
  {
   "cell_type": "code",
   "execution_count": 4,
   "metadata": {
    "collapsed": true
   },
   "outputs": [],
   "source": [
    "# keep looping over the frames in the video\n",
    "while True:\n",
    "\t# grab the current frame\n",
    "\t(grabbed, frame) = camera.read()\n",
    "\n",
    "\t# resize the frame, convert it to the HSV color space,\n",
    "\t# and determine the HSV pixel intensities that fall into\n",
    "\t# the speicifed upper and lower boundaries\n",
    "\tframe = imutils.resize(frame, width = 400)\n",
    "\tconverted = cv2.cvtColor(frame, cv2.COLOR_BGR2HSV)\n",
    "\tskinMask = cv2.inRange(converted, lower, upper)\n",
    " \n",
    "\t# apply a series of erosions and dilations to the mask\n",
    "\t# using an elliptical kernel\n",
    "\tkernel = cv2.getStructuringElement(cv2.MORPH_ELLIPSE, (11, 11))\n",
    "\tskinMask = cv2.erode(skinMask, kernel, iterations = 2)\n",
    "\tskinMask = cv2.dilate(skinMask, kernel, iterations = 2)\n",
    " \n",
    "\t# blur the mask to help remove noise, then apply the\n",
    "\t# mask to the frame\n",
    "\tskinMask = cv2.GaussianBlur(skinMask, (3, 3), 0)\n",
    "\tskin = cv2.bitwise_and(frame, frame, mask = skinMask)\n",
    " \n",
    "\t# show the skin in the image along with the mask\n",
    "\tcv2.imshow(\"images\", np.hstack([frame, skin]))\n",
    " \n",
    "\t# if the 'q' key is pressed, stop the loop\n",
    "\tif cv2.waitKey(1) & 0xFF == ord(\"q\"):\n",
    "\t\tbreak\n",
    " \n",
    "# cleanup the camera and close any open windows\n",
    "camera.release()\n",
    "cv2.destroyAllWindows()"
   ]
  }
 ],
 "metadata": {
  "kernelspec": {
   "display_name": "Python 2",
   "language": "python",
   "name": "python2"
  },
  "language_info": {
   "codemirror_mode": {
    "name": "ipython",
    "version": 2
   },
   "file_extension": ".py",
   "mimetype": "text/x-python",
   "name": "python",
   "nbconvert_exporter": "python",
   "pygments_lexer": "ipython2",
   "version": "2.7.9"
  }
 },
 "nbformat": 4,
 "nbformat_minor": 0
}
