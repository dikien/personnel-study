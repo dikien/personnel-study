{
 "cells": [
  {
   "cell_type": "code",
   "execution_count": 1,
   "metadata": {
    "collapsed": true
   },
   "outputs": [],
   "source": [
    "%matplotlib inline\n",
    "from matplotlib import pyplot as plt, cm\n",
    "import numpy as np\n",
    "import cv2"
   ]
  },
  {
   "cell_type": "code",
   "execution_count": 2,
   "metadata": {
    "collapsed": true
   },
   "outputs": [],
   "source": [
    "def detect(image):\n",
    "\t# convert the image to grayscale\n",
    "\tgray = cv2.cvtColor(image, cv2.COLOR_BGR2GRAY)\n",
    " \n",
    "\t# compute the Scharr gradient magnitude representation of the images\n",
    "\t# in both the x and y direction\n",
    "\tgradX = cv2.Sobel(gray, ddepth = cv2.cv.CV_32F, dx = 1, dy = 0, ksize = -1)\n",
    "\tgradY = cv2.Sobel(gray, ddepth = cv2.cv.CV_32F, dx = 0, dy = 1, ksize = -1)\n",
    " \n",
    "\t# subtract the y-gradient from the x-gradient\n",
    "\tgradient = cv2.subtract(gradX, gradY)\n",
    "\tgradient = cv2.convertScaleAbs(gradient)\n",
    " \n",
    "\t# blur and threshold the image\n",
    "\tblurred = cv2.blur(gradient, (9, 9))\n",
    "\t(_, thresh) = cv2.threshold(blurred, 225, 255, cv2.THRESH_BINARY)\n",
    " \n",
    "\t# construct a closing kernel and apply it to the thresholded image\n",
    "\tkernel = cv2.getStructuringElement(cv2.MORPH_RECT, (21, 7))\n",
    "\tclosed = cv2.morphologyEx(thresh, cv2.MORPH_CLOSE, kernel)\n",
    " \n",
    "\t# perform a series of erosions and dilations\n",
    "\tclosed = cv2.erode(closed, None, iterations = 4)\n",
    "\tclosed = cv2.dilate(closed, None, iterations = 4)\n",
    " \n",
    "\t# find the contours in the thresholded image\n",
    "\t(cnts, _) = cv2.findContours(closed.copy(), cv2.RETR_EXTERNAL,\n",
    "\t\tcv2.CHAIN_APPROX_SIMPLE)\n",
    " \n",
    "\t# if no contours were found, return None\n",
    "\tif len(cnts) == 0:\n",
    "\t\treturn None\n",
    " \n",
    "\t# otherwise, sort the contours by area and compute the rotated\n",
    "\t# bounding box of the largest contour\n",
    "\tc = sorted(cnts, key = cv2.contourArea, reverse = True)[0]\n",
    "\trect = cv2.minAreaRect(c)\n",
    "\tbox = np.int0(cv2.cv.BoxPoints(rect))\n",
    " \n",
    "\t# return the bounding box of the barcode\n",
    "\treturn box\n"
   ]
  },
  {
   "cell_type": "code",
   "execution_count": null,
   "metadata": {
    "collapsed": false
   },
   "outputs": [],
   "source": [
    "camera = cv2.VideoCapture(0)\n",
    "# keep looping over the frames\n",
    "while True:\n",
    "\t# grab the current frame\n",
    "\t(grabbed, frame) = camera.read()\n",
    " \n",
    "\t# check to see if we have reached the end of the\n",
    "\t# video\n",
    "\tif not grabbed:\n",
    "\t\tbreak\n",
    " \n",
    "\t# detect the barcode in the image\n",
    "\tbox = detect(frame)\n",
    " \n",
    "\t# if a barcode was found, draw a bounding box on the frame\n",
    "\tcv2.drawContours(frame, [box], -1, (0, 255, 0), 2)\n",
    " \n",
    "\t# show the frame and record if the user presses a key\n",
    "\tcv2.imshow(\"Frame\", frame)\n",
    "\tkey = cv2.waitKey(1) & 0xFF\n",
    " \n",
    "\t# if the 'q' key is pressed, stop the loop\n",
    "\tif key == ord(\"q\"):\n",
    "\t\tbreak\n",
    " \n",
    "# cleanup the camera and close any open windows\n",
    "camera.release()\n",
    "cv2.destroyAllWindows()"
   ]
  }
 ],
 "metadata": {
  "kernelspec": {
   "display_name": "Python 2",
   "language": "python",
   "name": "python2"
  },
  "language_info": {
   "codemirror_mode": {
    "name": "ipython",
    "version": 2
   },
   "file_extension": ".py",
   "mimetype": "text/x-python",
   "name": "python",
   "nbconvert_exporter": "python",
   "pygments_lexer": "ipython2",
   "version": "2.7.9"
  }
 },
 "nbformat": 4,
 "nbformat_minor": 0
}
