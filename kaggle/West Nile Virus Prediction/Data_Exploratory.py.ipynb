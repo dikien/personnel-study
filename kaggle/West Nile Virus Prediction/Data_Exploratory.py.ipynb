{
 "cells": [
  {
   "cell_type": "code",
   "execution_count": 1,
   "metadata": {
    "collapsed": false
   },
   "outputs": [],
   "source": [
    "import numpy as np\n",
    "import pandas as pd\n",
    "from sklearn.utils import shuffle"
   ]
  },
  {
   "cell_type": "code",
   "execution_count": 4,
   "metadata": {
    "collapsed": false
   },
   "outputs": [],
   "source": [
    "# Feature: Month, Week, Latitude, Longitude, NumMosq in Nearest Area, Near Dis, TMax, Tmin, \n",
    "# date = get(\"Date\") -> weather\n",
    "# month = float(date.split('-')[1]) -> weather\n",
    "# week = int(date.split('-')[1]) * 4 + int(date.split('-')[2]) / 7 -> weather\n",
    "# latitude = float(get(\"Latitude\"))\n",
    "# longitude = float(get(\"Longitude\"))\n",
    "# tmax = float(weather_dic[date][weather_indexes[\"Tmax\"]]) -> weather\n",
    "# tmin = float(weather_dic[date][weather_indexes[\"Tmin\"]]) -> weather\n",
    "# tavg = float(weather_dic[date][weather_indexes[\"Tavg\"]]) -> weather\n",
    "# dewpoint = float(weather_dic[date][weather_indexes[\"DewPoint\"]]) -> weather\n",
    "# wetbulb = float(weather_dic[date][weather_indexes[\"WetBulb\"]]) -> weather\n",
    "# pressure = float(weather_dic[date][weather_indexes[\"StnPressure\"]])-> weather"
   ]
  },
  {
   "cell_type": "code",
   "execution_count": 64,
   "metadata": {
    "collapsed": false
   },
   "outputs": [
    {
     "data": {
      "text/plain": [
       "Index([u'Station', u'Date', u'Tmax', u'Tmin', u'Tavg', u'Depart', u'DewPoint',\n",
       "       u'WetBulb', u'Heat', u'Cool', u'Sunrise', u'Sunset', u'CodeSum',\n",
       "       u'Depth', u'Water1', u'SnowFall', u'PrecipTotal', u'StnPressure',\n",
       "       u'SeaLevel', u'ResultSpeed', u'ResultDir', u'AvgSpeed'],\n",
       "      dtype='object')"
      ]
     },
     "execution_count": 64,
     "metadata": {},
     "output_type": "execute_result"
    }
   ],
   "source": [
    "df_weather = pd.read_csv(\"/Users/dikien/Downloads/West Nile Virus Prediction/weather.csv\")\n",
    "df_weather.columns"
   ]
  },
  {
   "cell_type": "code",
   "execution_count": 66,
   "metadata": {
    "collapsed": false
   },
   "outputs": [
    {
     "data": {
      "text/html": [
       "<div style=\"max-height:1000px;max-width:1500px;overflow:auto;\">\n",
       "<table border=\"1\" class=\"dataframe\">\n",
       "  <thead>\n",
       "    <tr style=\"text-align: right;\">\n",
       "      <th></th>\n",
       "      <th>Date</th>\n",
       "      <th>Station</th>\n",
       "      <th>Tmax</th>\n",
       "      <th>Tmin</th>\n",
       "      <th>Tavg</th>\n",
       "      <th>DewPoint</th>\n",
       "      <th>WetBulb</th>\n",
       "      <th>StnPressure</th>\n",
       "    </tr>\n",
       "  </thead>\n",
       "  <tbody>\n",
       "    <tr>\n",
       "      <th>0</th>\n",
       "      <td>2007-05-01</td>\n",
       "      <td>1</td>\n",
       "      <td>83</td>\n",
       "      <td>50</td>\n",
       "      <td>67</td>\n",
       "      <td>51</td>\n",
       "      <td>56</td>\n",
       "      <td>29.10</td>\n",
       "    </tr>\n",
       "    <tr>\n",
       "      <th>1</th>\n",
       "      <td>2007-05-01</td>\n",
       "      <td>2</td>\n",
       "      <td>84</td>\n",
       "      <td>52</td>\n",
       "      <td>68</td>\n",
       "      <td>51</td>\n",
       "      <td>57</td>\n",
       "      <td>29.18</td>\n",
       "    </tr>\n",
       "  </tbody>\n",
       "</table>\n",
       "</div>"
      ],
      "text/plain": [
       "         Date  Station  Tmax  Tmin Tavg  DewPoint WetBulb StnPressure\n",
       "0  2007-05-01        1    83    50   67        51      56       29.10\n",
       "1  2007-05-01        2    84    52   68        51      57       29.18"
      ]
     },
     "execution_count": 66,
     "metadata": {},
     "output_type": "execute_result"
    }
   ],
   "source": [
    "df_weather = df_weather[['Date', 'Station', 'Tmax', 'Tmin', 'Tavg', 'DewPoint', 'WetBulb', 'StnPressure']]\n",
    "df_weather.head(2)"
   ]
  },
  {
   "cell_type": "code",
   "execution_count": 56,
   "metadata": {
    "collapsed": true
   },
   "outputs": [],
   "source": [
    "# Station 1: CHICAGO O'HARE INTERNATIONAL AIRPORT Lat: 41.995 Lon: -87.933 Elev: 662 ft. above sea level\n",
    "# Station 2: CHICAGO MIDWAY INTL ARPT Lat: 41.786 Lon: -87.752 Elev: 612 ft. above sea level"
   ]
  },
  {
   "cell_type": "code",
   "execution_count": 80,
   "metadata": {
    "collapsed": true
   },
   "outputs": [],
   "source": [
    "def closest_station(x):\n",
    "    lat, longi = x[0], x[1]\n",
    "    # Chicago is small enough that we can treat coordinates as rectangular.\n",
    "    stations = np.array([[41.995, -87.933],\n",
    "                         [41.786, -87.752]])\n",
    "    loc = np.array([lat, longi])\n",
    "    deltas = stations - loc[None, :]\n",
    "    dist2 = (deltas**2).sum(1)\n",
    "    return np.argmin(dist2) + 1"
   ]
  },
  {
   "cell_type": "code",
   "execution_count": 61,
   "metadata": {
    "collapsed": false
   },
   "outputs": [
    {
     "data": {
      "text/plain": [
       "Index([u'Date', u'Address', u'Species', u'Block', u'Street', u'Trap',\n",
       "       u'AddressNumberAndStreet', u'Latitude', u'Longitude',\n",
       "       u'AddressAccuracy', u'NumMosquitos', u'WnvPresent'],\n",
       "      dtype='object')"
      ]
     },
     "execution_count": 61,
     "metadata": {},
     "output_type": "execute_result"
    }
   ],
   "source": [
    "df_train = pd.read_csv(\"/Users/dikien/Downloads/West Nile Virus Prediction/train.csv\")\n",
    "df_train.columns"
   ]
  },
  {
   "cell_type": "code",
   "execution_count": 62,
   "metadata": {
    "collapsed": true
   },
   "outputs": [],
   "source": [
    "df_train = df_train[['Date', 'Species', 'Latitude', 'Longitude', 'NumMosquitos', 'WnvPresent']]\n",
    "df_train['month'] = pd.DatetimeIndex(df_train['Date']).month\n",
    "df_train['week'] = pd.DatetimeIndex(df_train['Date']).week"
   ]
  },
  {
   "cell_type": "code",
   "execution_count": 67,
   "metadata": {
    "collapsed": false
   },
   "outputs": [
    {
     "data": {
      "text/html": [
       "<div style=\"max-height:1000px;max-width:1500px;overflow:auto;\">\n",
       "<table border=\"1\" class=\"dataframe\">\n",
       "  <thead>\n",
       "    <tr style=\"text-align: right;\">\n",
       "      <th></th>\n",
       "      <th>Date</th>\n",
       "      <th>Species</th>\n",
       "      <th>Latitude</th>\n",
       "      <th>Longitude</th>\n",
       "      <th>NumMosquitos</th>\n",
       "      <th>WnvPresent</th>\n",
       "      <th>month</th>\n",
       "      <th>week</th>\n",
       "    </tr>\n",
       "  </thead>\n",
       "  <tbody>\n",
       "    <tr>\n",
       "      <th>0</th>\n",
       "      <td>2007-05-29</td>\n",
       "      <td>CULEX PIPIENS/RESTUANS</td>\n",
       "      <td>41.95469</td>\n",
       "      <td>-87.800991</td>\n",
       "      <td>1</td>\n",
       "      <td>0</td>\n",
       "      <td>5</td>\n",
       "      <td>22</td>\n",
       "    </tr>\n",
       "    <tr>\n",
       "      <th>1</th>\n",
       "      <td>2007-05-29</td>\n",
       "      <td>CULEX RESTUANS</td>\n",
       "      <td>41.95469</td>\n",
       "      <td>-87.800991</td>\n",
       "      <td>1</td>\n",
       "      <td>0</td>\n",
       "      <td>5</td>\n",
       "      <td>22</td>\n",
       "    </tr>\n",
       "  </tbody>\n",
       "</table>\n",
       "</div>"
      ],
      "text/plain": [
       "         Date                 Species  Latitude  Longitude  NumMosquitos  \\\n",
       "0  2007-05-29  CULEX PIPIENS/RESTUANS  41.95469 -87.800991             1   \n",
       "1  2007-05-29          CULEX RESTUANS  41.95469 -87.800991             1   \n",
       "\n",
       "   WnvPresent  month  week  \n",
       "0           0      5    22  \n",
       "1           0      5    22  "
      ]
     },
     "execution_count": 67,
     "metadata": {},
     "output_type": "execute_result"
    }
   ],
   "source": [
    "df_train.head(2)"
   ]
  },
  {
   "cell_type": "code",
   "execution_count": 123,
   "metadata": {
    "collapsed": false
   },
   "outputs": [
    {
     "data": {
      "text/html": [
       "<div style=\"max-height:1000px;max-width:1500px;overflow:auto;\">\n",
       "<table border=\"1\" class=\"dataframe\">\n",
       "  <thead>\n",
       "    <tr style=\"text-align: right;\">\n",
       "      <th></th>\n",
       "      <th>Latitude</th>\n",
       "      <th>Longitude</th>\n",
       "      <th>NumMosquitos</th>\n",
       "      <th>WnvPresent</th>\n",
       "      <th>month</th>\n",
       "      <th>week</th>\n",
       "      <th>Station</th>\n",
       "    </tr>\n",
       "  </thead>\n",
       "  <tbody>\n",
       "    <tr>\n",
       "      <th>count</th>\n",
       "      <td>10506.000000</td>\n",
       "      <td>10506.000000</td>\n",
       "      <td>10506.000000</td>\n",
       "      <td>10506.000000</td>\n",
       "      <td>10506.000000</td>\n",
       "      <td>10506.000000</td>\n",
       "      <td>10506.000000</td>\n",
       "    </tr>\n",
       "    <tr>\n",
       "      <th>mean</th>\n",
       "      <td>41.841139</td>\n",
       "      <td>-87.699908</td>\n",
       "      <td>12.853512</td>\n",
       "      <td>0.052446</td>\n",
       "      <td>7.692557</td>\n",
       "      <td>31.687131</td>\n",
       "      <td>1.784790</td>\n",
       "    </tr>\n",
       "    <tr>\n",
       "      <th>std</th>\n",
       "      <td>0.112742</td>\n",
       "      <td>0.096514</td>\n",
       "      <td>16.133816</td>\n",
       "      <td>0.222936</td>\n",
       "      <td>1.067675</td>\n",
       "      <td>4.526874</td>\n",
       "      <td>0.410988</td>\n",
       "    </tr>\n",
       "    <tr>\n",
       "      <th>min</th>\n",
       "      <td>41.644612</td>\n",
       "      <td>-87.930995</td>\n",
       "      <td>1.000000</td>\n",
       "      <td>0.000000</td>\n",
       "      <td>5.000000</td>\n",
       "      <td>22.000000</td>\n",
       "      <td>1.000000</td>\n",
       "    </tr>\n",
       "    <tr>\n",
       "      <th>25%</th>\n",
       "      <td>41.732984</td>\n",
       "      <td>-87.760070</td>\n",
       "      <td>2.000000</td>\n",
       "      <td>0.000000</td>\n",
       "      <td>7.000000</td>\n",
       "      <td>28.000000</td>\n",
       "      <td>2.000000</td>\n",
       "    </tr>\n",
       "    <tr>\n",
       "      <th>50%</th>\n",
       "      <td>41.846283</td>\n",
       "      <td>-87.694991</td>\n",
       "      <td>5.000000</td>\n",
       "      <td>0.000000</td>\n",
       "      <td>8.000000</td>\n",
       "      <td>31.000000</td>\n",
       "      <td>2.000000</td>\n",
       "    </tr>\n",
       "    <tr>\n",
       "      <th>75%</th>\n",
       "      <td>41.954690</td>\n",
       "      <td>-87.627796</td>\n",
       "      <td>17.000000</td>\n",
       "      <td>0.000000</td>\n",
       "      <td>8.000000</td>\n",
       "      <td>35.000000</td>\n",
       "      <td>2.000000</td>\n",
       "    </tr>\n",
       "    <tr>\n",
       "      <th>max</th>\n",
       "      <td>42.017430</td>\n",
       "      <td>-87.531635</td>\n",
       "      <td>50.000000</td>\n",
       "      <td>1.000000</td>\n",
       "      <td>10.000000</td>\n",
       "      <td>41.000000</td>\n",
       "      <td>2.000000</td>\n",
       "    </tr>\n",
       "  </tbody>\n",
       "</table>\n",
       "</div>"
      ],
      "text/plain": [
       "           Latitude     Longitude  NumMosquitos    WnvPresent         month  \\\n",
       "count  10506.000000  10506.000000  10506.000000  10506.000000  10506.000000   \n",
       "mean      41.841139    -87.699908     12.853512      0.052446      7.692557   \n",
       "std        0.112742      0.096514     16.133816      0.222936      1.067675   \n",
       "min       41.644612    -87.930995      1.000000      0.000000      5.000000   \n",
       "25%       41.732984    -87.760070      2.000000      0.000000      7.000000   \n",
       "50%       41.846283    -87.694991      5.000000      0.000000      8.000000   \n",
       "75%       41.954690    -87.627796     17.000000      0.000000      8.000000   \n",
       "max       42.017430    -87.531635     50.000000      1.000000     10.000000   \n",
       "\n",
       "               week       Station  \n",
       "count  10506.000000  10506.000000  \n",
       "mean      31.687131      1.784790  \n",
       "std        4.526874      0.410988  \n",
       "min       22.000000      1.000000  \n",
       "25%       28.000000      2.000000  \n",
       "50%       31.000000      2.000000  \n",
       "75%       35.000000      2.000000  \n",
       "max       41.000000      2.000000  "
      ]
     },
     "execution_count": 123,
     "metadata": {},
     "output_type": "execute_result"
    }
   ],
   "source": [
    "df_train.describe()"
   ]
  },
  {
   "cell_type": "code",
   "execution_count": 69,
   "metadata": {
    "collapsed": true
   },
   "outputs": [],
   "source": [
    "species_map = {'CULEX RESTUANS' : \"100000\",\n",
    "              'CULEX TERRITANS' : \"010000\", \n",
    "              'CULEX PIPIENS'   : \"001000\", \n",
    "              'CULEX PIPIENS/RESTUANS' : \"101000\", \n",
    "              'CULEX ERRATICUS' : \"000100\", \n",
    "              'CULEX SALINARIUS': \"000010\", \n",
    "              'CULEX TARSALIS' :  \"000001\",\n",
    "              'UNSPECIFIED CULEX': \"001000\"}"
   ]
  },
  {
   "cell_type": "code",
   "execution_count": 71,
   "metadata": {
    "collapsed": false
   },
   "outputs": [
    {
     "data": {
      "text/html": [
       "<div style=\"max-height:1000px;max-width:1500px;overflow:auto;\">\n",
       "<table border=\"1\" class=\"dataframe\">\n",
       "  <thead>\n",
       "    <tr style=\"text-align: right;\">\n",
       "      <th></th>\n",
       "      <th>Date</th>\n",
       "      <th>Species</th>\n",
       "      <th>Latitude</th>\n",
       "      <th>Longitude</th>\n",
       "      <th>NumMosquitos</th>\n",
       "      <th>WnvPresent</th>\n",
       "      <th>month</th>\n",
       "      <th>week</th>\n",
       "    </tr>\n",
       "  </thead>\n",
       "  <tbody>\n",
       "    <tr>\n",
       "      <th>0</th>\n",
       "      <td>2007-05-29</td>\n",
       "      <td>101000</td>\n",
       "      <td>41.95469</td>\n",
       "      <td>-87.800991</td>\n",
       "      <td>1</td>\n",
       "      <td>0</td>\n",
       "      <td>5</td>\n",
       "      <td>22</td>\n",
       "    </tr>\n",
       "    <tr>\n",
       "      <th>1</th>\n",
       "      <td>2007-05-29</td>\n",
       "      <td>100000</td>\n",
       "      <td>41.95469</td>\n",
       "      <td>-87.800991</td>\n",
       "      <td>1</td>\n",
       "      <td>0</td>\n",
       "      <td>5</td>\n",
       "      <td>22</td>\n",
       "    </tr>\n",
       "  </tbody>\n",
       "</table>\n",
       "</div>"
      ],
      "text/plain": [
       "         Date Species  Latitude  Longitude  NumMosquitos  WnvPresent  month  \\\n",
       "0  2007-05-29  101000  41.95469 -87.800991             1           0      5   \n",
       "1  2007-05-29  100000  41.95469 -87.800991             1           0      5   \n",
       "\n",
       "   week  \n",
       "0    22  \n",
       "1    22  "
      ]
     },
     "execution_count": 71,
     "metadata": {},
     "output_type": "execute_result"
    }
   ],
   "source": [
    "df_train['Species'] = df_train['Species'].map(lambda x : species_map[x])\n",
    "df_train.head(2)"
   ]
  },
  {
   "cell_type": "code",
   "execution_count": 82,
   "metadata": {
    "collapsed": false
   },
   "outputs": [
    {
     "data": {
      "text/html": [
       "<div style=\"max-height:1000px;max-width:1500px;overflow:auto;\">\n",
       "<table border=\"1\" class=\"dataframe\">\n",
       "  <thead>\n",
       "    <tr style=\"text-align: right;\">\n",
       "      <th></th>\n",
       "      <th>Date</th>\n",
       "      <th>Species</th>\n",
       "      <th>Latitude</th>\n",
       "      <th>Longitude</th>\n",
       "      <th>NumMosquitos</th>\n",
       "      <th>WnvPresent</th>\n",
       "      <th>month</th>\n",
       "      <th>week</th>\n",
       "      <th>Station</th>\n",
       "    </tr>\n",
       "  </thead>\n",
       "  <tbody>\n",
       "    <tr>\n",
       "      <th>0</th>\n",
       "      <td>2007-05-29</td>\n",
       "      <td>101000</td>\n",
       "      <td>41.95469</td>\n",
       "      <td>-87.800991</td>\n",
       "      <td>1</td>\n",
       "      <td>0</td>\n",
       "      <td>5</td>\n",
       "      <td>22</td>\n",
       "      <td>1</td>\n",
       "    </tr>\n",
       "    <tr>\n",
       "      <th>1</th>\n",
       "      <td>2007-05-29</td>\n",
       "      <td>100000</td>\n",
       "      <td>41.95469</td>\n",
       "      <td>-87.800991</td>\n",
       "      <td>1</td>\n",
       "      <td>0</td>\n",
       "      <td>5</td>\n",
       "      <td>22</td>\n",
       "      <td>1</td>\n",
       "    </tr>\n",
       "  </tbody>\n",
       "</table>\n",
       "</div>"
      ],
      "text/plain": [
       "         Date Species  Latitude  Longitude  NumMosquitos  WnvPresent  month  \\\n",
       "0  2007-05-29  101000  41.95469 -87.800991             1           0      5   \n",
       "1  2007-05-29  100000  41.95469 -87.800991             1           0      5   \n",
       "\n",
       "   week  Station  \n",
       "0    22        1  \n",
       "1    22        1  "
      ]
     },
     "execution_count": 82,
     "metadata": {},
     "output_type": "execute_result"
    }
   ],
   "source": [
    "df_train['Station'] = df_train[['Latitude', 'Longitude']].apply(func=closest_station, axis=1)\n",
    "# 0 : apply function to each column\n",
    "# 1 : apply function to each row\n",
    "df_train.head(2)"
   ]
  },
  {
   "cell_type": "code",
   "execution_count": 74,
   "metadata": {
    "collapsed": false
   },
   "outputs": [
    {
     "data": {
      "text/html": [
       "<div style=\"max-height:1000px;max-width:1500px;overflow:auto;\">\n",
       "<table border=\"1\" class=\"dataframe\">\n",
       "  <thead>\n",
       "    <tr style=\"text-align: right;\">\n",
       "      <th></th>\n",
       "      <th>Date</th>\n",
       "      <th>Station</th>\n",
       "      <th>Tmax</th>\n",
       "      <th>Tmin</th>\n",
       "      <th>Tavg</th>\n",
       "      <th>DewPoint</th>\n",
       "      <th>WetBulb</th>\n",
       "      <th>StnPressure</th>\n",
       "    </tr>\n",
       "  </thead>\n",
       "  <tbody>\n",
       "    <tr>\n",
       "      <th>60</th>\n",
       "      <td>2007-05-31</td>\n",
       "      <td>1</td>\n",
       "      <td>78</td>\n",
       "      <td>65</td>\n",
       "      <td>72</td>\n",
       "      <td>61</td>\n",
       "      <td>65</td>\n",
       "      <td>29.28</td>\n",
       "    </tr>\n",
       "    <tr>\n",
       "      <th>61</th>\n",
       "      <td>2007-05-31</td>\n",
       "      <td>2</td>\n",
       "      <td>80</td>\n",
       "      <td>68</td>\n",
       "      <td>74</td>\n",
       "      <td>61</td>\n",
       "      <td>66</td>\n",
       "      <td>29.34</td>\n",
       "    </tr>\n",
       "  </tbody>\n",
       "</table>\n",
       "</div>"
      ],
      "text/plain": [
       "          Date  Station  Tmax  Tmin Tavg  DewPoint WetBulb StnPressure\n",
       "60  2007-05-31        1    78    65   72        61      65       29.28\n",
       "61  2007-05-31        2    80    68   74        61      66       29.34"
      ]
     },
     "execution_count": 74,
     "metadata": {},
     "output_type": "execute_result"
    }
   ],
   "source": [
    "df_weather[df_weather['Date'] == '2007-05-31']"
   ]
  },
  {
   "cell_type": "code",
   "execution_count": 72,
   "metadata": {
    "collapsed": false
   },
   "outputs": [
    {
     "data": {
      "text/html": [
       "<div style=\"max-height:1000px;max-width:1500px;overflow:auto;\">\n",
       "<table border=\"1\" class=\"dataframe\">\n",
       "  <thead>\n",
       "    <tr style=\"text-align: right;\">\n",
       "      <th></th>\n",
       "      <th>Date</th>\n",
       "      <th>Species</th>\n",
       "      <th>Latitude</th>\n",
       "      <th>Longitude</th>\n",
       "      <th>NumMosquitos</th>\n",
       "      <th>WnvPresent</th>\n",
       "      <th>month</th>\n",
       "      <th>week</th>\n",
       "    </tr>\n",
       "  </thead>\n",
       "  <tbody>\n",
       "    <tr>\n",
       "      <th>0</th>\n",
       "      <td>2007-05-29</td>\n",
       "      <td>101000</td>\n",
       "      <td>41.95469</td>\n",
       "      <td>-87.800991</td>\n",
       "      <td>1</td>\n",
       "      <td>0</td>\n",
       "      <td>5</td>\n",
       "      <td>22</td>\n",
       "    </tr>\n",
       "    <tr>\n",
       "      <th>1</th>\n",
       "      <td>2007-05-29</td>\n",
       "      <td>100000</td>\n",
       "      <td>41.95469</td>\n",
       "      <td>-87.800991</td>\n",
       "      <td>1</td>\n",
       "      <td>0</td>\n",
       "      <td>5</td>\n",
       "      <td>22</td>\n",
       "    </tr>\n",
       "  </tbody>\n",
       "</table>\n",
       "</div>"
      ],
      "text/plain": [
       "         Date Species  Latitude  Longitude  NumMosquitos  WnvPresent  month  \\\n",
       "0  2007-05-29  101000  41.95469 -87.800991             1           0      5   \n",
       "1  2007-05-29  100000  41.95469 -87.800991             1           0      5   \n",
       "\n",
       "   week  \n",
       "0    22  \n",
       "1    22  "
      ]
     },
     "execution_count": 72,
     "metadata": {},
     "output_type": "execute_result"
    }
   ],
   "source": [
    "df_train[df_train['Date'] == '2007-05-29'].head(2)"
   ]
  },
  {
   "cell_type": "code",
   "execution_count": 105,
   "metadata": {
    "collapsed": false
   },
   "outputs": [],
   "source": [
    "# df_train[:50]\n",
    "# df_weather[55:90]\n",
    "# merge전에 위에 데이터로 테스트해봄"
   ]
  },
  {
   "cell_type": "code",
   "execution_count": 106,
   "metadata": {
    "collapsed": false
   },
   "outputs": [
    {
     "data": {
      "text/html": [
       "<div style=\"max-height:1000px;max-width:1500px;overflow:auto;\">\n",
       "<table border=\"1\" class=\"dataframe\">\n",
       "  <thead>\n",
       "    <tr style=\"text-align: right;\">\n",
       "      <th></th>\n",
       "      <th>Date</th>\n",
       "      <th>Species</th>\n",
       "      <th>Latitude</th>\n",
       "      <th>Longitude</th>\n",
       "      <th>NumMosquitos</th>\n",
       "      <th>WnvPresent</th>\n",
       "      <th>month</th>\n",
       "      <th>week</th>\n",
       "      <th>Station</th>\n",
       "      <th>Tmax</th>\n",
       "      <th>Tmin</th>\n",
       "      <th>Tavg</th>\n",
       "      <th>DewPoint</th>\n",
       "      <th>WetBulb</th>\n",
       "      <th>StnPressure</th>\n",
       "    </tr>\n",
       "  </thead>\n",
       "  <tbody>\n",
       "    <tr>\n",
       "      <th>0</th>\n",
       "      <td>2007-05-29</td>\n",
       "      <td>101000</td>\n",
       "      <td>41.954690</td>\n",
       "      <td>-87.800991</td>\n",
       "      <td>1</td>\n",
       "      <td>0</td>\n",
       "      <td>5</td>\n",
       "      <td>22</td>\n",
       "      <td>1</td>\n",
       "      <td>88</td>\n",
       "      <td>60</td>\n",
       "      <td>74</td>\n",
       "      <td>58</td>\n",
       "      <td>65</td>\n",
       "      <td>29.39</td>\n",
       "    </tr>\n",
       "    <tr>\n",
       "      <th>1</th>\n",
       "      <td>2007-05-29</td>\n",
       "      <td>100000</td>\n",
       "      <td>41.954690</td>\n",
       "      <td>-87.800991</td>\n",
       "      <td>1</td>\n",
       "      <td>0</td>\n",
       "      <td>5</td>\n",
       "      <td>22</td>\n",
       "      <td>1</td>\n",
       "      <td>88</td>\n",
       "      <td>60</td>\n",
       "      <td>74</td>\n",
       "      <td>58</td>\n",
       "      <td>65</td>\n",
       "      <td>29.39</td>\n",
       "    </tr>\n",
       "    <tr>\n",
       "      <th>2</th>\n",
       "      <td>2007-05-29</td>\n",
       "      <td>100000</td>\n",
       "      <td>41.994991</td>\n",
       "      <td>-87.769279</td>\n",
       "      <td>1</td>\n",
       "      <td>0</td>\n",
       "      <td>5</td>\n",
       "      <td>22</td>\n",
       "      <td>1</td>\n",
       "      <td>88</td>\n",
       "      <td>60</td>\n",
       "      <td>74</td>\n",
       "      <td>58</td>\n",
       "      <td>65</td>\n",
       "      <td>29.39</td>\n",
       "    </tr>\n",
       "  </tbody>\n",
       "</table>\n",
       "</div>"
      ],
      "text/plain": [
       "         Date Species   Latitude  Longitude  NumMosquitos  WnvPresent  month  \\\n",
       "0  2007-05-29  101000  41.954690 -87.800991             1           0      5   \n",
       "1  2007-05-29  100000  41.954690 -87.800991             1           0      5   \n",
       "2  2007-05-29  100000  41.994991 -87.769279             1           0      5   \n",
       "\n",
       "   week  Station  Tmax  Tmin Tavg  DewPoint WetBulb StnPressure  \n",
       "0    22        1    88    60   74        58      65       29.39  \n",
       "1    22        1    88    60   74        58      65       29.39  \n",
       "2    22        1    88    60   74        58      65       29.39  "
      ]
     },
     "execution_count": 106,
     "metadata": {},
     "output_type": "execute_result"
    }
   ],
   "source": [
    "df = df_train.merge(df_weather, how='inner', on=['Date', 'Station'])\n",
    "df.head(3)"
   ]
  },
  {
   "cell_type": "code",
   "execution_count": 110,
   "metadata": {
    "collapsed": false
   },
   "outputs": [
    {
     "data": {
      "text/plain": [
       "array([['2007-05-29', '101000', 41.95469, -87.800991, 1, 0, 5, 22, 1, 88,\n",
       "        60, '74', 58, '65', '29.39'],\n",
       "       ['2007-05-29', '100000', 41.95469, -87.800991, 1, 0, 5, 22, 1, 88,\n",
       "        60, '74', 58, '65', '29.39'],\n",
       "       ['2007-05-29', '100000', 41.994991, -87.769279, 1, 0, 5, 22, 1, 88,\n",
       "        60, '74', 58, '65', '29.39'],\n",
       "       ['2007-05-29', '101000', 41.974089, -87.824812, 1, 0, 5, 22, 1, 88,\n",
       "        60, '74', 58, '65', '29.39'],\n",
       "       ['2007-05-29', '100000', 41.974089, -87.824812, 4, 0, 5, 22, 1, 88,\n",
       "        60, '74', 58, '65', '29.39']], dtype=object)"
      ]
     },
     "execution_count": 110,
     "metadata": {},
     "output_type": "execute_result"
    }
   ],
   "source": [
    "df[['Species', 'Latitude', 'Longitude', 'NumMosquitos', 'month', 'week',\n",
    "   'Tmax', 'Tmin', 'Tavg', 'Tavg', 'DewPoint', 'WetBulb', 'StnPressure']]\n",
    "# df[:5].as_matrix()"
   ]
  },
  {
   "cell_type": "code",
   "execution_count": 219,
   "metadata": {
    "collapsed": false
   },
   "outputs": [],
   "source": [
    "features = df[['Species', 'Latitude', 'Longitude', 'NumMosquitos', 'month', 'week',\n",
    "           'Tmax', 'Tmin', 'Tavg', 'Tavg', 'DewPoint', 'WetBulb', 'StnPressure']].convert_objects(convert_numeric=True)"
   ]
  },
  {
   "cell_type": "code",
   "execution_count": 220,
   "metadata": {
    "collapsed": false
   },
   "outputs": [
    {
     "data": {
      "text/plain": [
       "Species         False\n",
       "Latitude        False\n",
       "Longitude       False\n",
       "NumMosquitos    False\n",
       "month           False\n",
       "week            False\n",
       "Tmax            False\n",
       "Tmin            False\n",
       "Tavg            False\n",
       "Tavg            False\n",
       "DewPoint        False\n",
       "WetBulb          True\n",
       "StnPressure      True\n",
       "dtype: bool"
      ]
     },
     "execution_count": 220,
     "metadata": {},
     "output_type": "execute_result"
    }
   ],
   "source": [
    "# null값이 있는 field는 WetBulb, StnPressure \n",
    "features.isnull().any(0)"
   ]
  },
  {
   "cell_type": "code",
   "execution_count": 221,
   "metadata": {
    "collapsed": false
   },
   "outputs": [
    {
     "name": "stdout",
     "output_type": "stream",
     "text": [
      "26\n",
      "26\n"
     ]
    }
   ],
   "source": [
    "# null 값은 총 26개가 있다, 뺄까? 중간값할까? 평균값으로 할까? 중간값으로 하자\n",
    "print features['WetBulb'].isnull().sum()\n",
    "print features['StnPressure'].isnull().sum()"
   ]
  },
  {
   "cell_type": "code",
   "execution_count": 210,
   "metadata": {
    "collapsed": false
   },
   "outputs": [
    {
     "data": {
      "text/plain": [
       "4324   NaN\n",
       "4325   NaN\n",
       "4326   NaN\n",
       "4327   NaN\n",
       "4328   NaN\n",
       "4329   NaN\n",
       "4330   NaN\n",
       "4331   NaN\n",
       "4332   NaN\n",
       "4333   NaN\n",
       "4334   NaN\n",
       "4335   NaN\n",
       "4336   NaN\n",
       "4337   NaN\n",
       "4338   NaN\n",
       "4339   NaN\n",
       "4340   NaN\n",
       "4341   NaN\n",
       "4342   NaN\n",
       "4343   NaN\n",
       "4344   NaN\n",
       "4345   NaN\n",
       "4346   NaN\n",
       "4347   NaN\n",
       "4348   NaN\n",
       "4349   NaN\n",
       "Name: WetBulb, dtype: float64"
      ]
     },
     "execution_count": 210,
     "metadata": {},
     "output_type": "execute_result"
    }
   ],
   "source": [
    "features['WetBulb'][features['WetBulb'].isnull()]"
   ]
  },
  {
   "cell_type": "code",
   "execution_count": 222,
   "metadata": {
    "collapsed": false
   },
   "outputs": [
    {
     "data": {
      "text/plain": [
       "Species         False\n",
       "Latitude        False\n",
       "Longitude       False\n",
       "NumMosquitos    False\n",
       "month           False\n",
       "week            False\n",
       "Tmax            False\n",
       "Tmin            False\n",
       "Tavg            False\n",
       "Tavg            False\n",
       "DewPoint        False\n",
       "WetBulb         False\n",
       "StnPressure      True\n",
       "dtype: bool"
      ]
     },
     "execution_count": 222,
     "metadata": {},
     "output_type": "execute_result"
    }
   ],
   "source": [
    "m = features['WetBulb'].median()\n",
    "features['WetBulb'] = features['WetBulb'].fillna(m)\n",
    "features.isnull().any(0)"
   ]
  },
  {
   "cell_type": "code",
   "execution_count": 223,
   "metadata": {
    "collapsed": false
   },
   "outputs": [
    {
     "data": {
      "text/plain": [
       "Species         False\n",
       "Latitude        False\n",
       "Longitude       False\n",
       "NumMosquitos    False\n",
       "month           False\n",
       "week            False\n",
       "Tmax            False\n",
       "Tmin            False\n",
       "Tavg            False\n",
       "Tavg            False\n",
       "DewPoint        False\n",
       "WetBulb         False\n",
       "StnPressure     False\n",
       "dtype: bool"
      ]
     },
     "execution_count": 223,
     "metadata": {},
     "output_type": "execute_result"
    }
   ],
   "source": [
    "m = features['StnPressure'].median()\n",
    "features['StnPressure'] = features['StnPressure'].fillna(m)\n",
    "features.isnull().any(0)"
   ]
  },
  {
   "cell_type": "code",
   "execution_count": 224,
   "metadata": {
    "collapsed": false
   },
   "outputs": [
    {
     "data": {
      "text/plain": [
       "Species           int64\n",
       "Latitude        float64\n",
       "Longitude       float64\n",
       "NumMosquitos      int64\n",
       "month             int32\n",
       "week              int32\n",
       "Tmax              int64\n",
       "Tmin              int64\n",
       "Tavg              int64\n",
       "Tavg              int64\n",
       "DewPoint          int64\n",
       "WetBulb         float64\n",
       "StnPressure     float64\n",
       "dtype: object"
      ]
     },
     "execution_count": 224,
     "metadata": {},
     "output_type": "execute_result"
    }
   ],
   "source": [
    "features.dtypes"
   ]
  },
  {
   "cell_type": "code",
   "execution_count": 227,
   "metadata": {
    "collapsed": false
   },
   "outputs": [
    {
     "data": {
      "text/plain": [
       "dtype('float32')"
      ]
     },
     "execution_count": 227,
     "metadata": {},
     "output_type": "execute_result"
    }
   ],
   "source": [
    "features = features.values.astype(\"float32\")\n",
    "features.dtype"
   ]
  },
  {
   "cell_type": "code",
   "execution_count": 228,
   "metadata": {
    "collapsed": true
   },
   "outputs": [],
   "source": [
    "def scale(X, eps = 0.001):\n",
    "    # scale the data points s.t the columns of the feature space\n",
    "    # (i.e the predictors) are within the range [0, 1]\n",
    "    return (X - np.min(X, axis = 0)) / (np.max(X, axis = 0) + eps)"
   ]
  },
  {
   "cell_type": "code",
   "execution_count": 229,
   "metadata": {
    "collapsed": true
   },
   "outputs": [],
   "source": [
    "features = scale(features)"
   ]
  },
  {
   "cell_type": "code",
   "execution_count": 230,
   "metadata": {
    "collapsed": false
   },
   "outputs": [
    {
     "data": {
      "text/plain": [
       "(10506, 13)"
      ]
     },
     "execution_count": 230,
     "metadata": {},
     "output_type": "execute_result"
    }
   ],
   "source": [
    "features.shape"
   ]
  },
  {
   "cell_type": "code",
   "execution_count": 233,
   "metadata": {
    "collapsed": true
   },
   "outputs": [],
   "source": [
    "labels = df['WnvPresent'].astype(np.int).values.reshape(features.shape[0], 1)"
   ]
  },
  {
   "cell_type": "code",
   "execution_count": 234,
   "metadata": {
    "collapsed": false
   },
   "outputs": [
    {
     "name": "stdout",
     "output_type": "stream",
     "text": [
      "(10506, 13)\n",
      "(10506, 1)\n"
     ]
    }
   ],
   "source": [
    "print features.shape\n",
    "print labels.shape"
   ]
  },
  {
   "cell_type": "code",
   "execution_count": 236,
   "metadata": {
    "collapsed": false
   },
   "outputs": [
    {
     "data": {
      "text/plain": [
       "[array([[  9.89108905e-03,   6.85345731e-04,  -3.78302974e-03, ...,\n",
       "           6.84922114e-02,   5.26308864e-02,   1.92236248e-02],\n",
       "        [  9.90089118e-01,   8.87272600e-03,  -2.77874270e-03, ...,\n",
       "           4.38350171e-01,   3.68416220e-01,   9.78047680e-03],\n",
       "        [  9.99990106e-01,   7.37956353e-03,  -1.48525008e-03, ...,\n",
       "           2.73968846e-01,   2.36838996e-01,   1.65255740e-02],\n",
       "        ..., \n",
       "        [  9.90089118e-01,   7.14587979e-03,  -1.12221809e-03, ...,\n",
       "           3.97254825e-01,   3.02627593e-01,   2.69805151e-03],\n",
       "        [  9.89108905e-03,   5.06424066e-03,  -2.69619958e-03, ...,\n",
       "           1.91778198e-01,   1.44734934e-01,   1.07922060e-02],\n",
       "        [  9.99990106e-01,   5.86660998e-03,  -3.15894582e-03, ...,\n",
       "           2.73968846e-01,   2.36838996e-01,   1.51765803e-02]], dtype=float32),\n",
       " array([[0],\n",
       "        [0],\n",
       "        [0],\n",
       "        ..., \n",
       "        [0],\n",
       "        [0],\n",
       "        [0]])]"
      ]
     },
     "execution_count": 236,
     "metadata": {},
     "output_type": "execute_result"
    }
   ],
   "source": [
    "shuffle(features, labels, random_state=111)"
   ]
  },
  {
   "cell_type": "code",
   "execution_count": 239,
   "metadata": {
    "collapsed": false
   },
   "outputs": [],
   "source": [
    "scaler = StandardScaler()\n",
    "scaler.fit(features)\n",
    "features = scaler.transform(features)\n",
    "\n",
    "labels = np_utils.to_categorical(labels)"
   ]
  },
  {
   "cell_type": "code",
   "execution_count": 243,
   "metadata": {
    "collapsed": false
   },
   "outputs": [
    {
     "name": "stdout",
     "output_type": "stream",
     "text": [
      "[ 0.64218324  1.00721312  1.04734027 -0.73472261 -2.5219357  -2.14002585\n",
      "  0.73019904 -0.55330187  0.0956296   0.0956296  -0.20868506  0.01431369\n",
      "  0.79072708]\n",
      "[ 1.  0.]\n"
     ]
    }
   ],
   "source": [
    "print features[0]\n",
    "print labels[0]"
   ]
  },
  {
   "cell_type": "code",
   "execution_count": 242,
   "metadata": {
    "collapsed": false
   },
   "outputs": [
    {
     "name": "stderr",
     "output_type": "stream",
     "text": [
      "/Users/dikien/anaconda/lib/python2.7/site-packages/sklearn/utils/validation.py:332: UserWarning: StandardScaler assumes floating point values as input, got int64\n",
      "  \"got %s\" % (estimator, X.dtype))\n"
     ]
    },
    {
     "data": {
      "text/plain": [
       "array([-0.51439363, -0.49695656, -0.47951948, -0.46208241, -0.44464534,\n",
       "       -0.42720827, -0.4097712 , -0.34002291, -0.32258584, -0.27027462,\n",
       "        1.21187652,  2.95558373])"
      ]
     },
     "execution_count": 242,
     "metadata": {},
     "output_type": "execute_result"
    }
   ],
   "source": [
    "a = StandardScaler()\n",
    "a.fit(np.array([1,2,3,4,5,6,7,11,12,15,100,200]))\n",
    "a.transform([1,2,3,4,5,6,7,11,12,15,100,200])"
   ]
  },
  {
   "cell_type": "code",
   "execution_count": 2,
   "metadata": {
    "collapsed": false
   },
   "outputs": [
    {
     "data": {
      "text/plain": [
       "Index([u'Id', u'Date', u'Address', u'Species', u'Block', u'Street', u'Trap',\n",
       "       u'AddressNumberAndStreet', u'Latitude', u'Longitude',\n",
       "       u'AddressAccuracy'],\n",
       "      dtype='object')"
      ]
     },
     "execution_count": 2,
     "metadata": {},
     "output_type": "execute_result"
    }
   ],
   "source": [
    "df_test = pd.read_csv(\"/Users/dikien/Downloads/West Nile Virus Prediction/test.csv\")\n",
    "df_test.columns"
   ]
  }
 ],
 "metadata": {
  "kernelspec": {
   "display_name": "Python 2",
   "language": "python",
   "name": "python2"
  },
  "language_info": {
   "codemirror_mode": {
    "name": "ipython",
    "version": 2
   },
   "file_extension": ".py",
   "mimetype": "text/x-python",
   "name": "python",
   "nbconvert_exporter": "python",
   "pygments_lexer": "ipython2",
   "version": "2.7.10"
  }
 },
 "nbformat": 4,
 "nbformat_minor": 0
}
