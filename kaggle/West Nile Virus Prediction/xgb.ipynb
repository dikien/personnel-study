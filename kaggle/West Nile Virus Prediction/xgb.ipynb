{
 "cells": [
  {
   "cell_type": "code",
   "execution_count": 3,
   "metadata": {
    "collapsed": false
   },
   "outputs": [],
   "source": [
    "import csv\n",
    "import sys\n",
    "import math\n",
    "import xgboost as xgb\n",
    "import numpy as np"
   ]
  },
  {
   "cell_type": "code",
   "execution_count": 2,
   "metadata": {
    "collapsed": true
   },
   "outputs": [],
   "source": [
    "# Feature: Month, Week, Latitude, Longitude, NumMosq in Nearest Area, Near Dis, TMax, Tmin, Tavg, WaterBub, Dry, StnPressure\n",
    "\n",
    "Ntrain = 10506\n",
    "Ntest = 116293\n",
    "Nfea = 13\n",
    "MISSING = 999.0"
   ]
  },
  {
   "cell_type": "code",
   "execution_count": 4,
   "metadata": {
    "collapsed": true
   },
   "outputs": [],
   "source": [
    "Xtrain = np.zeros((Ntrain, Nfea), dtype=np.float32)\n",
    "Ytrain = []\n",
    "Xtest = np.zeros((Ntest, Nfea), dtype=np.float32)"
   ]
  },
  {
   "cell_type": "code",
   "execution_count": 9,
   "metadata": {
    "collapsed": false
   },
   "outputs": [
    {
     "name": "stdout",
     "output_type": "stream",
     "text": [
      "mapdata_copyright_openstreetmap_contributors.rds spray.csv                                        weather.csv\r\n",
      "mapdata_copyright_openstreetmap_contributors.txt test.csv                                         \u001b[1m\u001b[34mwest_nile\u001b[m\u001b[m\r\n",
      "sampleSubmission.csv                             train.csv\r\n"
     ]
    }
   ],
   "source": [
    "!ls /Users/dikien/Downloads/West\\ Nile\\ Virus\\ Prediction"
   ]
  },
  {
   "cell_type": "code",
   "execution_count": 10,
   "metadata": {
    "collapsed": true
   },
   "outputs": [],
   "source": [
    "train_head = \"\"\n",
    "spray_head = \"\"\n",
    "weather_head = \"\"\n",
    "weather_dic = {}\n",
    "train_dic = {}"
   ]
  },
  {
   "cell_type": "code",
   "execution_count": 12,
   "metadata": {
    "collapsed": true
   },
   "outputs": [],
   "source": [
    "def sigmoid(x):\n",
    "    return 1.0 / (1.0 + math.exp(-x))"
   ]
  },
  {
   "cell_type": "code",
   "execution_count": 16,
   "metadata": {
    "collapsed": false
   },
   "outputs": [],
   "source": [
    "# build weather dic\n",
    "fi = csv.reader(open(\"/Users/dikien/Downloads/West Nile Virus Prediction/weather.csv\"))\n",
    "weather_head = fi.next\n",
    "for line in fi:\n",
    "    # simply discard station 1\n",
    "    if line[0] == '1':\n",
    "        continue\n",
    "    weather_dic[line[1]] = line"
   ]
  },
  {
   "cell_type": "code",
   "execution_count": 22,
   "metadata": {
    "collapsed": false
   },
   "outputs": [
    {
     "name": "stdout",
     "output_type": "stream",
     "text": [
      "['2010-05-08', '2010-05-09', '2010-05-06']\n",
      "['2', '2014-09-06', '76', '62', '69', 'M', '54', '60', '0', ' 4', '-', '-', ' ', 'M', 'M', 'M', '0.00', '29.48', '30.11', '4.7', '36', '8.1']\n"
     ]
    }
   ],
   "source": [
    "print weather_dic.keys()[:3]\n",
    "print weather_dic['2014-09-06']"
   ]
  },
  {
   "cell_type": "code",
   "execution_count": 23,
   "metadata": {
    "collapsed": false
   },
   "outputs": [
    {
     "ename": "AttributeError",
     "evalue": "'method-wrapper' object has no attribute 'index'",
     "output_type": "error",
     "traceback": [
      "\u001b[0;31m---------------------------------------------------------------------------\u001b[0m",
      "\u001b[0;31mAttributeError\u001b[0m                            Traceback (most recent call last)",
      "\u001b[0;32m<ipython-input-23-fbc88cc21163>\u001b[0m in \u001b[0;36m<module>\u001b[0;34m()\u001b[0m\n\u001b[1;32m      3\u001b[0m \u001b[0mtrain_head\u001b[0m \u001b[0;34m=\u001b[0m \u001b[0mfi\u001b[0m\u001b[0;34m.\u001b[0m\u001b[0mnext\u001b[0m\u001b[0;34m\u001b[0m\u001b[0m\n\u001b[1;32m      4\u001b[0m \u001b[0;32mfor\u001b[0m \u001b[0mline\u001b[0m \u001b[0;32min\u001b[0m \u001b[0mfi\u001b[0m\u001b[0;34m:\u001b[0m\u001b[0;34m\u001b[0m\u001b[0m\n\u001b[0;32m----> 5\u001b[0;31m     \u001b[0midx\u001b[0m \u001b[0;34m=\u001b[0m \u001b[0mtrain_head\u001b[0m\u001b[0;34m.\u001b[0m\u001b[0mindex\u001b[0m\u001b[0;34m(\u001b[0m\u001b[0;34m\"Date\"\u001b[0m\u001b[0;34m)\u001b[0m\u001b[0;34m\u001b[0m\u001b[0m\n\u001b[0m\u001b[1;32m      6\u001b[0m     \u001b[0mdate\u001b[0m \u001b[0;34m=\u001b[0m \u001b[0mline\u001b[0m\u001b[0;34m[\u001b[0m\u001b[0midx\u001b[0m\u001b[0;34m]\u001b[0m\u001b[0;34m.\u001b[0m\u001b[0msplit\u001b[0m\u001b[0;34m(\u001b[0m\u001b[0;34m'-'\u001b[0m\u001b[0;34m)\u001b[0m\u001b[0;34m\u001b[0m\u001b[0m\n\u001b[1;32m      7\u001b[0m     \u001b[0mkey\u001b[0m \u001b[0;34m=\u001b[0m \u001b[0;34m\"%s-%d\"\u001b[0m \u001b[0;34m%\u001b[0m \u001b[0;34m(\u001b[0m\u001b[0mdate\u001b[0m\u001b[0;34m[\u001b[0m\u001b[0;36m1\u001b[0m\u001b[0;34m]\u001b[0m\u001b[0;34m,\u001b[0m \u001b[0mint\u001b[0m\u001b[0;34m(\u001b[0m\u001b[0mdate\u001b[0m\u001b[0;34m[\u001b[0m\u001b[0;36m2\u001b[0m\u001b[0;34m]\u001b[0m\u001b[0;34m)\u001b[0m \u001b[0;34m/\u001b[0m \u001b[0;36m7\u001b[0m\u001b[0;34m)\u001b[0m\u001b[0;34m\u001b[0m\u001b[0m\n",
      "\u001b[0;31mAttributeError\u001b[0m: 'method-wrapper' object has no attribute 'index'"
     ]
    }
   ],
   "source": [
    "# build train dic\n",
    "fi = csv.reader(open(\"/Users/dikien/Downloads/West Nile Virus Prediction/train.csv\"))\n",
    "train_head = fi.next\n",
    "for line in fi:\n",
    "    idx = train_head.index(\"Date\")\n",
    "    date = line[idx].split('-')\n",
    "    key = \"%s-%d\" % (date[1], int(date[2]) / 7)\n",
    "    if key not in train_dic:\n",
    "        train_dic[key] = []\n",
    "    train_dic[key].append(line)"
   ]
  },
  {
   "cell_type": "code",
   "execution_count": 25,
   "metadata": {
    "collapsed": false
   },
   "outputs": [],
   "source": [
    "train_head = fi.next"
   ]
  },
  {
   "cell_type": "code",
   "execution_count": 26,
   "metadata": {
    "collapsed": false
   },
   "outputs": [
    {
     "name": "stdout",
     "output_type": "stream",
     "text": [
      "Help on method-wrapper object:\n",
      "\n",
      "next = class method-wrapper(object)\n",
      " |  Methods defined here:\n",
      " |  \n",
      " |  __call__(...)\n",
      " |      x.__call__(...) <==> x(...)\n",
      " |  \n",
      " |  __cmp__(...)\n",
      " |      x.__cmp__(y) <==> cmp(x,y)\n",
      " |  \n",
      " |  __getattribute__(...)\n",
      " |      x.__getattribute__('name') <==> x.name\n",
      " |  \n",
      " |  __hash__(...)\n",
      " |      x.__hash__() <==> hash(x)\n",
      " |  \n",
      " |  __repr__(...)\n",
      " |      x.__repr__() <==> repr(x)\n",
      " |  \n",
      " |  ----------------------------------------------------------------------\n",
      " |  Data descriptors defined here:\n",
      " |  \n",
      " |  __objclass__\n",
      " |  \n",
      " |  __self__\n",
      "\n"
     ]
    }
   ],
   "source": [
    "help(train_head)"
   ]
  },
  {
   "cell_type": "code",
   "execution_count": null,
   "metadata": {
    "collapsed": true
   },
   "outputs": [],
   "source": [
    "def gen_month(line, head=train_head):\n",
    "    idx = head.index(\"Date\")\n",
    "    date = line[idx].split('-')\n",
    "    return float(date[1])\n",
    "\n",
    "def gen_week(line, head=train_head):\n",
    "    idx = head.index(\"Date\")\n",
    "    date = line[idx].split('-')\n",
    "    return int(date[1]) * 4 + int(date[2]) / 7\n",
    "\n",
    "def gen_latitude(line, head=train_head):\n",
    "    idx = head.index(\"Latitude\")\n",
    "    return float(line[idx])\n",
    "\n",
    "def gen_longitude(line, head=train_head):\n",
    "    idx = head.index(\"Longitude\")\n",
    "    return float(line[idx])\n",
    "\n",
    "def gen_tmax(line, head=train_head):\n",
    "    idx1 = weather_head.index(\"Tmax\")\n",
    "    idx2 = head.index(\"Date\")\n",
    "    return float(weather_dic[line[idx2]][idx1])\n",
    "\n",
    "def gen_tmin(line, head=train_head):\n",
    "    idx1 = weather_head.index(\"Tmin\")\n",
    "    idx2 = head.index(\"Date\")\n",
    "    return float(weather_dic[line[idx2]][idx1])\n",
    "\n",
    "def gen_tavg(line, head=train_head):\n",
    "    idx1 = weather_head.index(\"Tavg\")\n",
    "    idx2 = head.index(\"Date\")\n",
    "    return float(weather_dic[line[idx2]][idx1])\n",
    "\n",
    "def gen_water(line, head=train_head):\n",
    "    idx1 = weather_head.index(\"DewPoint\")\n",
    "    idx2 = head.index(\"Date\")\n",
    "    return float(weather_dic[line[idx2]][idx1])\n",
    "\n",
    "def gen_snow(line, head=train_head):\n",
    "    idx1 = weather_head.index(\"WetBulb\")\n",
    "    idx2 = head.index(\"Date\")\n",
    "    return float(weather_dic[line[idx2]][idx1])\n",
    "\n",
    "def gen_pressure(line, head=train_head):\n",
    "    idx1 = weather_head.index(\"StnPressure\")\n",
    "    idx2 = head.index(\"Date\")\n",
    "    return float(weather_dic[line[idx2]][idx1])\n",
    "\n",
    "def gen_moisq(line, head=train_head):\n",
    "    idx = train_head.index(\"NumMosquitos\")\n",
    "    idx1 = head.index(\"Date\")\n",
    "    #idx2 = train_head.index(\"NumMosquitos\")\n",
    "    idx3 = head.index(\"Latitude\")\n",
    "    idx4 = head.index(\"Longitude\")\n",
    "    train_idx3 = train_head.index(\"Latitude\")\n",
    "    train_idx4 = train_head.index(\"Longitude\")\n",
    "    lati = float(line[idx3])\n",
    "    logi = float(line[idx4])\n",
    "    date = line[idx1].split('-')\n",
    "    key = \"%s-%d\" % (date[1], int(date[2]) / 7)\n",
    "    min_dis = MISSING\n",
    "    sol = MISSING\n",
    "    second_dis = MISSING\n",
    "    sol2 = MISSING\n",
    "    temp = []\n",
    "    tmp = {}\n",
    "    for line in train_dic[key]:\n",
    "        dis = (float(line[train_idx3]) - lati) ** 2 + (float(line[train_idx4]) - logi) ** 2\n",
    "        res = int(line[idx])\n",
    "        temp.append((dis, res))\n",
    "        if int(dis) not in tmp:\n",
    "            tmp[int(dis)] = []\n",
    "        tmp[int(dis)].append(res)\n",
    "    temp = sorted(temp, key=lambda s:s[0])\n",
    "    try:\n",
    "        min_dis = temp[0][0]\n",
    "        sol = sum(tmp[int(min_dis)])\n",
    "        sol /= len(tmp[int(min_dis)]) * 1.0\n",
    "        second_dis = min_dis\n",
    "        for item in temp:\n",
    "            if item[0] != second_dis:\n",
    "                second_dis = item[0]\n",
    "                break\n",
    "        sol2 = sum(tmp[int(second_dis)])\n",
    "        sol2 /= len(tmp[int(second_dis)]) * 1.0\n",
    "    except:\n",
    "        pass\n",
    "    return (min_dis, sol, second_dis, sol2)\n",
    "\n",
    "# build train\n",
    "fi = csv.reader(open(\"/Users/dikien/Downloads/West Nile Virus Prediction/train.csv\"))\n",
    "fi.__next__()\n",
    "i = 0\n",
    "\n",
    "sum_wneg = 0.0\n",
    "sum_wpos = 0.0\n",
    "#print \"make training data\"\n",
    "for line in fi:\n",
    "    Xtrain[i][0] = gen_snow(line)\n",
    "    Xtrain[i][1] = gen_tavg(line)\n",
    "    Xtrain[i][2] = gen_tmax(line)\n",
    "    Xtrain[i][3] = gen_tmin(line)\n",
    "    Xtrain[i][4] = gen_week(line)\n",
    "    #Xtrain[i][5] = gen_moisq(line)\n",
    "    Xtrain[i][6] = gen_month(line)\n",
    "    Xtrain[i][7] = gen_water(line)\n",
    "    Xtrain[i][8] = gen_latitude(line)\n",
    "    Xtrain[i][9] = gen_longitude(line)\n",
    "    mos = gen_moisq(line)\n",
    "    Xtrain[i][5] = mos[0]\n",
    "    Xtrain[i][10] = mos[1]\n",
    "    Xtrain[i][11] = mos[2]\n",
    "    Xtrain[i][12] = mos[3]\n",
    "    label = int(line[train_head.index(\"WnvPresent\")])\n",
    "    Ytrain.append(label)\n",
    "    if label == 0:\n",
    "        sum_wneg += 1.0\n",
    "    else:\n",
    "        sum_wpos += 1.0\n",
    "    i += 1\n",
    "\n",
    "#print \"make test data\"\n",
    "ids = []\n",
    "fi = csv.reader(open(\"/Users/dikien/Downloads/West Nile Virus Prediction/test.csv\"))\n",
    "test_head = fi.__next__()\n",
    "\n",
    "i = 0\n",
    "\n",
    "for line in fi:\n",
    "    ids.append(line[0])\n",
    "    Xtest[i][0] = gen_snow(line, test_head)\n",
    "    Xtest[i][1] = gen_tavg(line, test_head)\n",
    "    Xtest[i][2] = gen_tmax(line, test_head)\n",
    "    Xtest[i][3] = gen_tmin(line, test_head)\n",
    "    Xtest[i][4] = gen_week(line, test_head)\n",
    "    #Xtrain[i][5] = gen_moisq(line)\n",
    "    Xtest[i][6] = gen_month(line, test_head)\n",
    "    Xtest[i][7] = gen_water(line, test_head)\n",
    "    Xtest[i][8] = gen_latitude(line, test_head)\n",
    "    Xtest[i][9] = gen_longitude(line, test_head)\n",
    "    mos = gen_moisq(line, test_head)\n",
    "    Xtest[i][5] = mos[0]\n",
    "    Xtest[i][10] = mos[1]\n",
    "    Xtest[i][11] = mos[2]\n",
    "    Xtest[i][12] = mos[3]\n",
    "    i += 1\n",
    "\n",
    "#print \"training\"\n",
    "dtrain = xgb.DMatrix(Xtrain, label=Ytrain, missing = MISSING)\n",
    "dtest = xgb.DMatrix(Xtest, missing = MISSING)\n",
    "param = {}\n",
    "# use logistic regression loss, use raw prediction before logistic transformation\n",
    "# since we only need the rank\n",
    "param['objective'] = 'binary:logitraw'\n",
    "# scale weight of positive examples\n",
    "param['scale_pos_weight'] = sum_wneg/sum_wpos\n",
    "param['eta'] = 0.1\n",
    "param['max_depth'] = 7\n",
    "param['eval_metric'] = 'auc'\n",
    "param['silent'] = 1\n",
    "param['min_child_weight'] = 100\n",
    "param['subsample'] = 0.7\n",
    "param['colsample_bytree'] = 0.7\n",
    "param['nthread'] = 4\n",
    "\n",
    "num_round = 50\n",
    "\n",
    "#xgb.cv(param, dtrain, num_round, nfold=5)\n",
    "bst = xgb.train(param, dtrain, num_round)\n",
    "\n",
    "#print \"testing\"\n",
    "ypred = bst.predict(dtest)\n",
    "\n",
    "fo = csv.writer(open(\"submission.csv\", \"w\"), lineterminator=\"\\n\")\n",
    "fo.writerow([\"Id\",\"WnvPresent\"])\n",
    "i = 0\n",
    "for item in ids:\n",
    "    fo.writerow([ids[i], sigmoid(ypred[i])])\n",
    "    i += "
   ]
  }
 ],
 "metadata": {
  "kernelspec": {
   "display_name": "Python 2",
   "language": "python",
   "name": "python2"
  },
  "language_info": {
   "codemirror_mode": {
    "name": "ipython",
    "version": 2
   },
   "file_extension": ".py",
   "mimetype": "text/x-python",
   "name": "python",
   "nbconvert_exporter": "python",
   "pygments_lexer": "ipython2",
   "version": "2.7.10"
  }
 },
 "nbformat": 4,
 "nbformat_minor": 0
}
