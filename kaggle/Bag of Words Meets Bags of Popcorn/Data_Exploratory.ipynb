{
 "cells": [
  {
   "cell_type": "code",
   "execution_count": 3,
   "metadata": {
    "collapsed": true
   },
   "outputs": [],
   "source": [
    "import sys"
   ]
  },
  {
   "cell_type": "code",
   "execution_count": 2,
   "metadata": {
    "collapsed": true
   },
   "outputs": [],
   "source": [
    "sys.path.append(\"/Users/dikien/Downloads/Passage/\")"
   ]
  },
  {
   "cell_type": "code",
   "execution_count": 1,
   "metadata": {
    "collapsed": true
   },
   "outputs": [],
   "source": [
    "import numpy as np\n",
    "import pandas as pd\n",
    "from lxml import html\n",
    "from passage.models import RNN\n",
    "from passage.updates import Adadelta\n",
    "from passage.layers import Embedding, GatedRecurrent, Dense\n",
    "from passage.preprocessing import Tokenizer"
   ]
  },
  {
   "cell_type": "code",
   "execution_count": 2,
   "metadata": {
    "collapsed": true
   },
   "outputs": [],
   "source": [
    "def clean(texts):\n",
    "\treturn [html.fromstring(text).text_content().lower().strip() for text in texts]"
   ]
  },
  {
   "cell_type": "code",
   "execution_count": 3,
   "metadata": {
    "collapsed": false
   },
   "outputs": [
    {
     "name": "stdout",
     "output_type": "stream",
     "text": [
      "Training data loaded and cleaned.\n"
     ]
    }
   ],
   "source": [
    "tr_data = pd.read_csv('/Users/dikien/Downloads/Bag of Words Meets Bags of Popcorn/labeledTrainData.tsv', delimiter='\\t') \n",
    "trX = clean(tr_data['review'].values)\n",
    "trY = tr_data['sentiment'].values\n",
    "print(\"Training data loaded and cleaned.\")"
   ]
  },
  {
   "cell_type": "code",
   "execution_count": 5,
   "metadata": {
    "collapsed": false
   },
   "outputs": [
    {
     "name": "stdout",
     "output_type": "stream",
     "text": [
      "(5,)\n"
     ]
    }
   ],
   "source": [
    "print trY[:5].shape"
   ]
  },
  {
   "cell_type": "code",
   "execution_count": 11,
   "metadata": {
    "collapsed": false
   },
   "outputs": [
    {
     "name": "stdout",
     "output_type": "stream",
     "text": [
      "25000\n",
      "1\n"
     ]
    }
   ],
   "source": [
    "print len(trX)\n",
    "print trY[0]"
   ]
  },
  {
   "cell_type": "code",
   "execution_count": 12,
   "metadata": {
    "collapsed": false
   },
   "outputs": [
    {
     "name": "stdout",
     "output_type": "stream",
     "text": [
      "Training data tokenized.\n"
     ]
    }
   ],
   "source": [
    "tokenizer = Tokenizer(min_df=10, max_features=100000)\n",
    "trX = tokenizer.fit_transform(trX)\n",
    "\n",
    "print(\"Training data tokenized.\")"
   ]
  },
  {
   "cell_type": "code",
   "execution_count": 13,
   "metadata": {
    "collapsed": false
   },
   "outputs": [
    {
     "data": {
      "text/plain": [
       "18592"
      ]
     },
     "execution_count": 13,
     "metadata": {},
     "output_type": "execute_result"
    }
   ],
   "source": [
    "tokenizer.n_features"
   ]
  },
  {
   "cell_type": "code",
   "execution_count": null,
   "metadata": {
    "collapsed": true
   },
   "outputs": [],
   "source": [
    "layers = [\n",
    "    Embedding(size=256, n_features=tokenizer.n_features),\n",
    "    GatedRecurrent(size=512, activation='tanh', gate_activation='steeper_sigmoid', init='orthogonal', seq_output=False, p_drop=0.75),\n",
    "    Dense(size=1, activation='sigmoid', init='orthogonal')\n",
    "]\n",
    "\n",
    "model = RNN(layers=layers, cost='bce', updater=Adadelta(lr=0.5))\n",
    "model.fit(trX, trY, n_epochs=10)"
   ]
  },
  {
   "cell_type": "code",
   "execution_count": null,
   "metadata": {
    "collapsed": true
   },
   "outputs": [],
   "source": [
    "te_data = pd.read_csv('testData.tsv', delimiter='\\t')\n",
    "ids = te_data['id'].values\n",
    "teX = clean(te_data['review'].values)\n",
    "teX = tokenizer.transform(teX)\n",
    "pr_teX = model.predict(teX).flatten()\n",
    " \n",
    "pd.DataFrame(np.asarray([ids, pr_teX]).T).to_csv('submission.csv', index=False, header=[\"id\", \"sentiment\"])"
   ]
  }
 ],
 "metadata": {
  "kernelspec": {
   "display_name": "Python 2",
   "language": "python",
   "name": "python2"
  },
  "language_info": {
   "codemirror_mode": {
    "name": "ipython",
    "version": 2
   },
   "file_extension": ".py",
   "mimetype": "text/x-python",
   "name": "python",
   "nbconvert_exporter": "python",
   "pygments_lexer": "ipython2",
   "version": "2.7.10"
  }
 },
 "nbformat": 4,
 "nbformat_minor": 0
}
