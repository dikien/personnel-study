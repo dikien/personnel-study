{
 "cells": [
  {
   "cell_type": "code",
   "execution_count": 1,
   "metadata": {
    "collapsed": true
   },
   "outputs": [],
   "source": [
    "import numpy as np\n",
    "from sklearn.metrics import accuracy_score, mean_absolute_error\n",
    "\n",
    "# The following 3 functions have been taken from Ben Hamner's github repository\n",
    "# https://github.com/benhamner/Metrics\n",
    "def confusion_matrix(rater_a, rater_b, min_rating=None, max_rating=None):\n",
    "    \"\"\"\n",
    "    Returns the confusion matrix between rater's ratings\n",
    "    \"\"\"\n",
    "    assert(len(rater_a) == len(rater_b))\n",
    "    if min_rating is None:\n",
    "        min_rating = min(rater_a + rater_b)\n",
    "    if max_rating is None:\n",
    "        max_rating = max(rater_a + rater_b)\n",
    "    num_ratings = int(max_rating - min_rating + 1)\n",
    "    conf_mat = [[0 for i in range(num_ratings)]\n",
    "                for j in range(num_ratings)]\n",
    "    for a, b in zip(rater_a, rater_b):\n",
    "        conf_mat[a - min_rating][b - min_rating] += 1\n",
    "    return conf_mat\n",
    "\n",
    "\n",
    "def histogram(ratings, min_rating=None, max_rating=None):\n",
    "    \"\"\"\n",
    "    Returns the counts of each type of rating that a rater made\n",
    "    \"\"\"\n",
    "    if min_rating is None:\n",
    "        min_rating = min(ratings)\n",
    "    if max_rating is None:\n",
    "        max_rating = max(ratings)\n",
    "    num_ratings = int(max_rating - min_rating + 1)\n",
    "    hist_ratings = [0 for x in range(num_ratings)]\n",
    "    for r in ratings:\n",
    "        hist_ratings[r - min_rating] += 1\n",
    "    return hist_ratings\n",
    "\n",
    "\n",
    "def quadratic_weighted_kappa(y, y_pred):\n",
    "    \"\"\"\n",
    "    Calculates the quadratic weighted kappa\n",
    "    axquadratic_weighted_kappa calculates the quadratic weighted kappa\n",
    "    value, which is a measure of inter-rater agreement between two raters\n",
    "    that provide discrete numeric ratings.  Potential values range from -1\n",
    "    (representing complete disagreement) to 1 (representing complete\n",
    "    agreement).  A kappa value of 0 is expected if all agreement is due to\n",
    "    chance.\n",
    "    quadratic_weighted_kappa(rater_a, rater_b), where rater_a and rater_b\n",
    "    each correspond to a list of integer ratings.  These lists must have the\n",
    "    same length.\n",
    "    The ratings should be integers, and it is assumed that they contain\n",
    "    the complete range of possible ratings.\n",
    "    quadratic_weighted_kappa(X, min_rating, max_rating), where min_rating\n",
    "    is the minimum possible rating, and max_rating is the maximum possible\n",
    "    rating\n",
    "    \"\"\"\n",
    "    rater_a = y\n",
    "    rater_b = y_pred\n",
    "    min_rating=None\n",
    "    max_rating=None\n",
    "    rater_a = np.array(rater_a, dtype=int)\n",
    "    rater_b = np.array(rater_b, dtype=int)\n",
    "    assert(len(rater_a) == len(rater_b))\n",
    "    if min_rating is None:\n",
    "        min_rating = min(min(rater_a), min(rater_b))\n",
    "    if max_rating is None:\n",
    "        max_rating = max(max(rater_a), max(rater_b))\n",
    "    conf_mat = confusion_matrix(rater_a, rater_b,\n",
    "                                min_rating, max_rating)\n",
    "    num_ratings = len(conf_mat)\n",
    "    num_scored_items = float(len(rater_a))\n",
    "\n",
    "    hist_rater_a = histogram(rater_a, min_rating, max_rating)\n",
    "    hist_rater_b = histogram(rater_b, min_rating, max_rating)\n",
    "\n",
    "    numerator = 0.0\n",
    "    denominator = 0.0\n",
    "\n",
    "    for i in range(num_ratings):\n",
    "        for j in range(num_ratings):\n",
    "            expected_count = (hist_rater_a[i] * hist_rater_b[j]\n",
    "                              / num_scored_items)\n",
    "            d = pow(i - j, 2.0) / pow(num_ratings - 1, 2.0)\n",
    "            numerator += d * conf_mat[i][j] / num_scored_items\n",
    "            denominator += d * expected_count / num_scored_items\n",
    "\n",
    "    return (1.0 - numerator / denominator)"
   ]
  },
  {
   "cell_type": "code",
   "execution_count": 6,
   "metadata": {
    "collapsed": false
   },
   "outputs": [
    {
     "name": "stdout",
     "output_type": "stream",
     "text": [
      "ONE EXTREME ERROR\n",
      "Ground truth:\t[1 2 3 1 4 4 4 4 4 4]\n",
      "Predicted   :\t[4 2 3 1 4 4 4 4 4 4]\n",
      "MAE         :\t0.3\n",
      "Accuracy    :\t0.9\n",
      "Kappa       :\t0.656488549618\n",
      "()\n"
     ]
    }
   ],
   "source": [
    "Y_real = np.array([1,2,3,1,4,4,4,4,4,4])  \n",
    "Y_pred = np.array([4,2,3,1,4,4,4,4,4,4])\n",
    "\n",
    "print(\"ONE EXTREME ERROR\")\n",
    "print(\"Ground truth:\\t%s\"%Y_real)\n",
    "print(\"Predicted   :\\t%s\"%Y_pred)\n",
    "print(\"MAE         :\\t%s\"%mean_absolute_error(Y_real,Y_pred))\n",
    "print(\"Accuracy    :\\t%s\"%accuracy_score(Y_real,Y_pred))\n",
    "print(\"Kappa       :\\t%s\"%quadratic_weighted_kappa(Y_real,Y_pred))\n",
    "print()"
   ]
  },
  {
   "cell_type": "code",
   "execution_count": 3,
   "metadata": {
    "collapsed": false
   },
   "outputs": [
    {
     "name": "stdout",
     "output_type": "stream",
     "text": [
      "FIVE SMALL ERRORS\n",
      "Ground truth:\t[1 2 3 1 4 4 4 4 4 4]\n",
      "Predicted   :\t[1 2 3 1 4 3 3 3 3 2]\n",
      "MAE         :\t0.6\n",
      "Accuracy    :\t0.5\n",
      "Kappa       :\t0.703703703704\n",
      "()\n"
     ]
    }
   ],
   "source": [
    "Y_real = np.array([1,2,3,1,4,4,4,4,4,4])\n",
    "Y_pred = np.array([1,2,3,1,4,3,3,3,3,2])\n",
    "\n",
    "print(\"FIVE SMALL ERRORS\")\n",
    "print(\"Ground truth:\\t%s\"%Y_real)\n",
    "print(\"Predicted   :\\t%s\"%Y_pred)\n",
    "print(\"MAE         :\\t%s\"%mean_absolute_error(Y_real,Y_pred))\n",
    "print(\"Accuracy    :\\t%s\"%accuracy_score(Y_real,Y_pred))\n",
    "print(\"Kappa       :\\t%s\"%quadratic_weighted_kappa(Y_real,Y_pred))\n",
    "print()"
   ]
  },
  {
   "cell_type": "code",
   "execution_count": 4,
   "metadata": {
    "collapsed": false
   },
   "outputs": [
    {
     "name": "stdout",
     "output_type": "stream",
     "text": [
      "KAPPA CHANGES WHEN DISTRIBUTION CHANGES\n",
      "Ground truth:\t[1 1 3 1 4 4 4 4 4 4]\n",
      "Predicted   :\t[1 1 3 1 4 3 3 3 3 2]\n",
      "MAE         :\t0.6\n",
      "Accuracy    :\t0.5\n",
      "Kappa       :\t0.75\n"
     ]
    }
   ],
   "source": [
    "Y_real = np.array([1,1,3,1,4,4,4,4,4,4])\n",
    "Y_pred = np.array([1,1,3,1,4,3,3,3,3,2])\n",
    "\n",
    "print(\"KAPPA CHANGES WHEN DISTRIBUTION CHANGES\")\n",
    "print(\"Ground truth:\\t%s\"%Y_real)\n",
    "print(\"Predicted   :\\t%s\"%Y_pred)\n",
    "print(\"MAE         :\\t%s\"%mean_absolute_error(Y_real,Y_pred))\n",
    "print(\"Accuracy    :\\t%s\"%accuracy_score(Y_real,Y_pred))\n",
    "print(\"Kappa       :\\t%s\"%quadratic_weighted_kappa(Y_real,Y_pred))"
   ]
  }
 ],
 "metadata": {
  "kernelspec": {
   "display_name": "Python 2",
   "language": "python",
   "name": "python2"
  },
  "language_info": {
   "codemirror_mode": {
    "name": "ipython",
    "version": 2
   },
   "file_extension": ".py",
   "mimetype": "text/x-python",
   "name": "python",
   "nbconvert_exporter": "python",
   "pygments_lexer": "ipython2",
   "version": "2.7.10"
  }
 },
 "nbformat": 4,
 "nbformat_minor": 0
}
