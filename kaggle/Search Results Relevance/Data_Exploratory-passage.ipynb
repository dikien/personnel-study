{
 "cells": [
  {
   "cell_type": "code",
   "execution_count": 1,
   "metadata": {
    "collapsed": true
   },
   "outputs": [],
   "source": [
    "import sys"
   ]
  },
  {
   "cell_type": "code",
   "execution_count": 2,
   "metadata": {
    "collapsed": true
   },
   "outputs": [],
   "source": [
    "sys.path.append(\"/Users/dikien/Downloads/Passage/\")"
   ]
  },
  {
   "cell_type": "code",
   "execution_count": 3,
   "metadata": {
    "collapsed": true
   },
   "outputs": [],
   "source": [
    "import numpy as np\n",
    "import pandas as pd\n",
    "from bs4 import BeautifulSoup\n",
    "import re\n",
    "from passage.models import RNN\n",
    "from passage.updates import Adadelta\n",
    "from passage.layers import Embedding, GatedRecurrent, Dense\n",
    "from passage.preprocessing import Tokenizer\n",
    "from nltk.stem.porter import *"
   ]
  },
  {
   "cell_type": "code",
   "execution_count": 4,
   "metadata": {
    "collapsed": false
   },
   "outputs": [],
   "source": [
    "# Load the training file\n",
    "train = pd.read_csv('/Users/dikien/Downloads/Search Results Relevance/train.csv')\n",
    "test = pd.read_csv('/Users/dikien/Downloads/Search Results Relevance/test.csv')"
   ]
  },
  {
   "cell_type": "code",
   "execution_count": 5,
   "metadata": {
    "collapsed": true
   },
   "outputs": [],
   "source": [
    "# we dont need ID columns\n",
    "idx = test.id.values.astype(int)\n",
    "train = train.drop('id', axis=1)\n",
    "test = test.drop('id', axis=1)"
   ]
  },
  {
   "cell_type": "code",
   "execution_count": 6,
   "metadata": {
    "collapsed": false
   },
   "outputs": [
    {
     "data": {
      "text/html": [
       "<div style=\"max-height:1000px;max-width:1500px;overflow:auto;\">\n",
       "<table border=\"1\" class=\"dataframe\">\n",
       "  <thead>\n",
       "    <tr style=\"text-align: right;\">\n",
       "      <th></th>\n",
       "      <th>query</th>\n",
       "      <th>product_title</th>\n",
       "      <th>product_description</th>\n",
       "      <th>median_relevance</th>\n",
       "      <th>relevance_variance</th>\n",
       "    </tr>\n",
       "  </thead>\n",
       "  <tbody>\n",
       "    <tr>\n",
       "      <th>0</th>\n",
       "      <td>bridal shower decorations</td>\n",
       "      <td>Accent Pillow with Heart Design - Red/Black</td>\n",
       "      <td>Red satin accent pillow embroidered with a hea...</td>\n",
       "      <td>1</td>\n",
       "      <td>0.000</td>\n",
       "    </tr>\n",
       "    <tr>\n",
       "      <th>1</th>\n",
       "      <td>led christmas lights</td>\n",
       "      <td>Set of 10 Battery Operated Multi LED Train Chr...</td>\n",
       "      <td>Set of 10 Battery Operated Train Christmas Lig...</td>\n",
       "      <td>4</td>\n",
       "      <td>0.000</td>\n",
       "    </tr>\n",
       "    <tr>\n",
       "      <th>2</th>\n",
       "      <td>projector</td>\n",
       "      <td>ViewSonic Pro8200 DLP Multimedia Projector</td>\n",
       "      <td>NaN</td>\n",
       "      <td>4</td>\n",
       "      <td>0.471</td>\n",
       "    </tr>\n",
       "  </tbody>\n",
       "</table>\n",
       "</div>"
      ],
      "text/plain": [
       "                       query  \\\n",
       "0  bridal shower decorations   \n",
       "1       led christmas lights   \n",
       "2                  projector   \n",
       "\n",
       "                                       product_title  \\\n",
       "0        Accent Pillow with Heart Design - Red/Black   \n",
       "1  Set of 10 Battery Operated Multi LED Train Chr...   \n",
       "2         ViewSonic Pro8200 DLP Multimedia Projector   \n",
       "\n",
       "                                 product_description  median_relevance  \\\n",
       "0  Red satin accent pillow embroidered with a hea...                 1   \n",
       "1  Set of 10 Battery Operated Train Christmas Lig...                 4   \n",
       "2                                                NaN                 4   \n",
       "\n",
       "   relevance_variance  \n",
       "0               0.000  \n",
       "1               0.000  \n",
       "2               0.471  "
      ]
     },
     "execution_count": 6,
     "metadata": {},
     "output_type": "execute_result"
    }
   ],
   "source": [
    "train.head(3)"
   ]
  },
  {
   "cell_type": "code",
   "execution_count": 7,
   "metadata": {
    "collapsed": false
   },
   "outputs": [
    {
     "data": {
      "text/html": [
       "<div style=\"max-height:1000px;max-width:1500px;overflow:auto;\">\n",
       "<table border=\"1\" class=\"dataframe\">\n",
       "  <thead>\n",
       "    <tr style=\"text-align: right;\">\n",
       "      <th></th>\n",
       "      <th>query</th>\n",
       "      <th>product_title</th>\n",
       "      <th>product_description</th>\n",
       "    </tr>\n",
       "  </thead>\n",
       "  <tbody>\n",
       "    <tr>\n",
       "      <th>0</th>\n",
       "      <td>electric griddle</td>\n",
       "      <td>Star-Max 48 in Electric Griddle</td>\n",
       "      <td>NaN</td>\n",
       "    </tr>\n",
       "    <tr>\n",
       "      <th>1</th>\n",
       "      <td>phillips coffee maker</td>\n",
       "      <td>Philips SENSEO HD7810 WHITE Single Serve Pod C...</td>\n",
       "      <td>NaN</td>\n",
       "    </tr>\n",
       "    <tr>\n",
       "      <th>2</th>\n",
       "      <td>san francisco 49ers</td>\n",
       "      <td>2013 San Francisco 49ers Clock</td>\n",
       "      <td>A 2013 San Francisco 49ers clock is the ultima...</td>\n",
       "    </tr>\n",
       "  </tbody>\n",
       "</table>\n",
       "</div>"
      ],
      "text/plain": [
       "                   query                                      product_title  \\\n",
       "0       electric griddle                    Star-Max 48 in Electric Griddle   \n",
       "1  phillips coffee maker  Philips SENSEO HD7810 WHITE Single Serve Pod C...   \n",
       "2    san francisco 49ers                     2013 San Francisco 49ers Clock   \n",
       "\n",
       "                                 product_description  \n",
       "0                                                NaN  \n",
       "1                                                NaN  \n",
       "2  A 2013 San Francisco 49ers clock is the ultima...  "
      ]
     },
     "execution_count": 7,
     "metadata": {},
     "output_type": "execute_result"
    }
   ],
   "source": [
    "test.head(3)"
   ]
  },
  {
   "cell_type": "code",
   "execution_count": 8,
   "metadata": {
    "collapsed": false
   },
   "outputs": [
    {
     "name": "stdout",
     "output_type": "stream",
     "text": [
      "query                  False\n",
      "product_title          False\n",
      "product_description     True\n",
      "median_relevance       False\n",
      "relevance_variance     False\n",
      "dtype: bool\n",
      "====================================================================================================\n",
      "query                  False\n",
      "product_title          False\n",
      "product_description     True\n",
      "dtype: bool\n"
     ]
    }
   ],
   "source": [
    "# product_description은 없는 것이 있음\n",
    "print train.isnull().any(0)\n",
    "print \"=\" * 100\n",
    "print test.isnull().any(0)"
   ]
  },
  {
   "cell_type": "code",
   "execution_count": 9,
   "metadata": {
    "collapsed": true
   },
   "outputs": [],
   "source": [
    "# non values를 \" \"으로 채우기\n",
    "train = train.fillna(\" \")\n",
    "test  = test.fillna(\" \")"
   ]
  },
  {
   "cell_type": "code",
   "execution_count": 10,
   "metadata": {
    "collapsed": false
   },
   "outputs": [
    {
     "name": "stdout",
     "output_type": "stream",
     "text": [
      "query                  False\n",
      "product_title          False\n",
      "product_description    False\n",
      "median_relevance       False\n",
      "relevance_variance     False\n",
      "dtype: bool\n",
      "====================================================================================================\n",
      "query                  False\n",
      "product_title          False\n",
      "product_description    False\n",
      "dtype: bool\n"
     ]
    }
   ],
   "source": [
    "# product_description은 없는 것이 있음\n",
    "print train.isnull().any(0)\n",
    "print \"=\" * 100\n",
    "print test.isnull().any(0)"
   ]
  },
  {
   "cell_type": "code",
   "execution_count": 11,
   "metadata": {
    "collapsed": false
   },
   "outputs": [],
   "source": [
    "#remove html, remove non text or numeric, make query and title unique features for counts using prefix (accounted for in stopwords tweak)\n",
    "stemmer = PorterStemmer()\n",
    "\n",
    "## Stemming functionality\n",
    "class stemmerUtility(object):\n",
    "    \"\"\"Stemming functionality\"\"\"\n",
    "    @staticmethod\n",
    "    def stemPorter(review_text):\n",
    "        porter = PorterStemmer()\n",
    "        preprocessed_docs = []\n",
    "        for doc in review_text:\n",
    "            final_doc = []\n",
    "            for word in doc:\n",
    "                final_doc.append(porter.stem(word))\n",
    "                #final_doc.append(wordnet.lemmatize(word)) #note that lemmatize() can also takes part of speech as an argument!\n",
    "            preprocessed_docs.append(final_doc)\n",
    "        return preprocessed_docs\n",
    "\n",
    "def clean(text):\n",
    "#     text = html.fromstring(text).text_content().lower().strip()\n",
    "    text = BeautifulSoup(text).get_text(\" \")\n",
    "    text = re.sub(\"[^a-zA-Z0-9]\",\" \", text)\n",
    "    text = (\" \").join([stemmer.stem(z) for z in text.split()])\n",
    "    return text"
   ]
  },
  {
   "cell_type": "code",
   "execution_count": 12,
   "metadata": {
    "collapsed": false
   },
   "outputs": [
    {
     "name": "stdout",
     "output_type": "stream",
     "text": [
      "jongwon kim\n"
     ]
    }
   ],
   "source": [
    "print clean(\"jongwon . , kim \")"
   ]
  },
  {
   "cell_type": "code",
   "execution_count": 13,
   "metadata": {
    "collapsed": false
   },
   "outputs": [
    {
     "name": "stderr",
     "output_type": "stream",
     "text": [
      "/Users/dikien/anaconda/lib/python2.7/site-packages/bs4/__init__.py:189: UserWarning: \"http://i104.photobucket.com/albums/m175/champions_on_display/wincraft2013/januaryb/65497012.jpg\" looks like a URL. Beautiful Soup is not an HTTP client. You should probably use an HTTP client to get the document behind the URL, and feed that document to Beautiful Soup.\n",
      "  '\"%s\" looks like a URL. Beautiful Soup is not an HTTP client. You should probably use an HTTP client to get the document behind the URL, and feed that document to Beautiful Soup.' % markup)\n",
      "/Users/dikien/anaconda/lib/python2.7/site-packages/bs4/__init__.py:189: UserWarning: \"http://i104.photobucket.com/albums/m175/champions_on_display/wincraft2013/januaryb/65516012.jpg\" looks like a URL. Beautiful Soup is not an HTTP client. You should probably use an HTTP client to get the document behind the URL, and feed that document to Beautiful Soup.\n",
      "  '\"%s\" looks like a URL. Beautiful Soup is not an HTTP client. You should probably use an HTTP client to get the document behind the URL, and feed that document to Beautiful Soup.' % markup)\n",
      "/Users/dikien/anaconda/lib/python2.7/site-packages/bs4/__init__.py:189: UserWarning: \"http://i104.photobucket.com/albums/m175/champions_on_display/wincraft2013/januaryb/6552101\" looks like a URL. Beautiful Soup is not an HTTP client. You should probably use an HTTP client to get the document behind the URL, and feed that document to Beautiful Soup.\n",
      "  '\"%s\" looks like a URL. Beautiful Soup is not an HTTP client. You should probably use an HTTP client to get the document behind the URL, and feed that document to Beautiful Soup.' % markup)\n",
      "/Users/dikien/anaconda/lib/python2.7/site-packages/bs4/__init__.py:189: UserWarning: \"http://i104.photobucket.com/albums/m175/champions_on_display/wincraft2013/januaryb/65527\" looks like a URL. Beautiful Soup is not an HTTP client. You should probably use an HTTP client to get the document behind the URL, and feed that document to Beautiful Soup.\n",
      "  '\"%s\" looks like a URL. Beautiful Soup is not an HTTP client. You should probably use an HTTP client to get the document behind the URL, and feed that document to Beautiful Soup.' % markup)\n",
      "/Users/dikien/anaconda/lib/python2.7/site-packages/bs4/__init__.py:189: UserWarning: \"http://i104.photobucket.com/albums/m175/champions_on_display/wincraft2013/januarya/14146012.jpg\" looks like a URL. Beautiful Soup is not an HTTP client. You should probably use an HTTP client to get the document behind the URL, and feed that document to Beautiful Soup.\n",
      "  '\"%s\" looks like a URL. Beautiful Soup is not an HTTP client. You should probably use an HTTP client to get the document behind the URL, and feed that document to Beautiful Soup.' % markup)\n"
     ]
    }
   ],
   "source": [
    "# clean data\n",
    "train['query'] = train['query'].apply(func=clean)\n",
    "train['product_title'] = train['product_title'].apply(func=clean)\n",
    "train['product_description'] = train['product_description'].apply(func=clean)\n",
    "\n",
    "test['query'] = test['query'].apply(func=clean)\n",
    "test['product_title'] = test['product_title'].apply(func=clean)\n",
    "test['product_description'] = test['product_description'].apply(func=clean)"
   ]
  },
  {
   "cell_type": "code",
   "execution_count": 14,
   "metadata": {
    "collapsed": true
   },
   "outputs": [],
   "source": [
    "def merge_rows(x):\n",
    "    query = x[0]\n",
    "    product_title = x[1]\n",
    "    product_description  = x[2]\n",
    "    return query + ' ' + product_title + ' ' + product_description"
   ]
  },
  {
   "cell_type": "code",
   "execution_count": 15,
   "metadata": {
    "collapsed": false
   },
   "outputs": [],
   "source": [
    "trainX = train[['query', 'product_title', 'product_description']].apply(func=merge_rows, axis=1)\n",
    "testX = test[['query', 'product_title', 'product_description']].apply(func=merge_rows, axis=1)"
   ]
  },
  {
   "cell_type": "code",
   "execution_count": 16,
   "metadata": {
    "collapsed": true
   },
   "outputs": [],
   "source": [
    "trainY = train[\"median_relevance\"]"
   ]
  },
  {
   "cell_type": "code",
   "execution_count": 17,
   "metadata": {
    "collapsed": false
   },
   "outputs": [
    {
     "name": "stdout",
     "output_type": "stream",
     "text": [
      "Training data tokenized.\n"
     ]
    }
   ],
   "source": [
    "tokenizer = Tokenizer(min_df=10, max_features=100000)\n",
    "trainX = tokenizer.fit_transform(trainX)\n",
    "\n",
    "print(\"Training data tokenized.\")"
   ]
  },
  {
   "cell_type": "code",
   "execution_count": 18,
   "metadata": {
    "collapsed": false
   },
   "outputs": [
    {
     "data": {
      "text/plain": [
       "4354"
      ]
     },
     "execution_count": 18,
     "metadata": {},
     "output_type": "execute_result"
    }
   ],
   "source": [
    "tokenizer.n_features"
   ]
  },
  {
   "cell_type": "code",
   "execution_count": 19,
   "metadata": {
    "collapsed": false
   },
   "outputs": [
    {
     "name": "stdout",
     "output_type": "stream",
     "text": [
      "Epoch 0 Seen 10058 samples Avg cost -842.1429 Time elapsed 410 seconds\n"
     ]
    },
    {
     "name": "stderr",
     "output_type": "stream",
     "text": [
      "/Users/dikien/anaconda/lib/python2.7/site-packages/theano/scan_module/scan_perform_ext.py:133: RuntimeWarning: numpy.ndarray size changed, may indicate binary incompatibility\n",
      "  from scan_perform.scan_perform import *\n"
     ]
    },
    {
     "data": {
      "text/plain": [
       "[array(0.7019436132583434),\n",
       " array(0.5191049687834116),\n",
       " array(0.29999605990878175),\n",
       " array(-0.04111086707732512),\n",
       " array(-1.0811351469475654),\n",
       " array(-20.40324655473114),\n",
       " array(-39.811147414137515),\n",
       " array(-60.45484734692913),\n",
       " array(-73.62591611849797),\n",
       " array(-82.85591777530604),\n",
       " array(-96.85875457925671),\n",
       " array(-103.88725965248537),\n",
       " array(-112.82843714719404),\n",
       " array(-107.05845253427695),\n",
       " array(-126.97924800622309),\n",
       " array(-139.61813563132978),\n",
       " array(-161.1675951836773),\n",
       " array(-171.79844654248967),\n",
       " array(-190.4508372990546),\n",
       " array(-187.95761881580418),\n",
       " array(-184.3901830466014),\n",
       " array(-202.17437268631667),\n",
       " array(-222.62368797243573),\n",
       " array(-216.37605081942294),\n",
       " array(-239.14372925180808),\n",
       " array(-246.33164539030076),\n",
       " array(-258.456589615913),\n",
       " array(-257.84030395989174),\n",
       " array(-265.5873604341535),\n",
       " array(-307.0250508323931),\n",
       " array(-312.59875878435895),\n",
       " array(-326.0943530150654),\n",
       " array(-350.9150553183064),\n",
       " array(-349.50489736275216),\n",
       " array(-394.25019074602704),\n",
       " array(-395.59523703966175),\n",
       " array(-372.9449799812586),\n",
       " array(-391.6042066923075),\n",
       " array(-386.7837677235303),\n",
       " array(-449.57913816298606),\n",
       " array(-445.74983823802063),\n",
       " array(-423.02496997401045),\n",
       " array(-442.52514561721415),\n",
       " array(-422.8428549128814),\n",
       " array(-470.0081719573781),\n",
       " array(-452.38266774384),\n",
       " array(-462.3578382878781),\n",
       " array(-492.43353334526375),\n",
       " array(-551.1819638230415),\n",
       " array(-515.0327412728755),\n",
       " array(-490.08661656919134),\n",
       " array(-550.5655522551784),\n",
       " array(-561.9678920155902),\n",
       " array(-573.3709893606693),\n",
       " array(-584.7745565723277),\n",
       " array(-544.8528599854922),\n",
       " array(-606.6518243805464),\n",
       " array(-618.0584692387246),\n",
       " array(-546.0929372640926),\n",
       " array(-652.1359905621199),\n",
       " array(-603.6267255672523),\n",
       " array(-692.348076598509),\n",
       " array(-673.5825436510574),\n",
       " array(-657.7753522529819),\n",
       " array(-640.66662325713),\n",
       " array(-673.7752158705628),\n",
       " array(-703.1944519167421),\n",
       " array(-752.7836857360646),\n",
       " array(-725.7266614066551),\n",
       " array(-706.8495371601231),\n",
       " array(-706.8882739285411),\n",
       " array(-747.4670171962605),\n",
       " array(-711.4335506857149),\n",
       " array(-736.6732837395127),\n",
       " array(-837.1876215062525),\n",
       " array(-881.9829437107819),\n",
       " array(-818.3519601187327),\n",
       " array(-790.5212723755815),\n",
       " array(-845.7709749770961),\n",
       " array(-828.4887026867088),\n",
       " array(-937.4262637475692),\n",
       " array(-909.4619999283681),\n",
       " array(-879.8792140748319),\n",
       " array(-908.9352556857299),\n",
       " array(-981.3242587208478),\n",
       " array(-926.3488061762941),\n",
       " array(-943.8911344165812),\n",
       " array(-974.3105006052916),\n",
       " array(-877.3314070495243),\n",
       " array(-854.4279059522335),\n",
       " array(-954.7794340661408),\n",
       " array(-998.5591413174944),\n",
       " array(-1083.5780259335625),\n",
       " array(-1042.539633498421),\n",
       " array(-1006.5016463830912),\n",
       " array(-955.0750885171528),\n",
       " array(-999.6276696019424),\n",
       " array(-1144.1060126449747),\n",
       " array(-1078.6522224496848),\n",
       " array(-1104.5377918485651),\n",
       " array(-1021.4355176359201),\n",
       " array(-1134.4440142582105),\n",
       " array(-1086.790428665959),\n",
       " array(-1135.099129776492),\n",
       " array(-1131.364030224608),\n",
       " array(-1226.8695093996805),\n",
       " array(-1076.9786658472062),\n",
       " array(-1055.449467357713),\n",
       " array(-1167.1744592579341),\n",
       " array(-1257.796754404289),\n",
       " array(-1189.9086169124362),\n",
       " array(-1038.6378433272969),\n",
       " array(-1243.2300414671322),\n",
       " array(-1238.3237416389545),\n",
       " array(-1241.3023216371882),\n",
       " array(-1235.6555002055186),\n",
       " array(-1119.3332959003249),\n",
       " array(-1273.4362622923559),\n",
       " array(-1207.0090985245192),\n",
       " array(-1347.27934753888),\n",
       " array(-1350.568917824928),\n",
       " array(-1504.035400929077),\n",
       " array(-1277.2967019698538),\n",
       " array(-1314.6170974087554),\n",
       " array(-1289.0410898861855),\n",
       " array(-1317.5087419497906),\n",
       " array(-1291.0723393695343),\n",
       " array(-1412.4759308633534),\n",
       " array(-1349.1386723946198),\n",
       " array(-1397.358716233288),\n",
       " array(-1455.9676802366898),\n",
       " array(-1333.4319260714942),\n",
       " array(-1430.1591624992957),\n",
       " array(-1528.8296877907753),\n",
       " array(-1668.8202622812614),\n",
       " array(-1554.5410235654213),\n",
       " array(-1317.4078180237448),\n",
       " array(-1607.5489574719084),\n",
       " array(-1407.7132822281985),\n",
       " array(-1529.6475799801617),\n",
       " array(-1571.7932024131026),\n",
       " array(-1676.7164948676623),\n",
       " array(-1585.5606766712458),\n",
       " array(-1471.091518881165),\n",
       " array(-1301.1575196046542),\n",
       " array(-1574.8631194979262),\n",
       " array(-1425.1666855085525),\n",
       " array(-1595.8662058723946),\n",
       " array(-1541.7589333544051),\n",
       " array(-1617.5157206869662),\n",
       " array(-1584.5397335300383),\n",
       " array(-1701.3386897012613),\n",
       " array(-1695.3616561477488),\n",
       " array(-1819.2940293366692),\n",
       " array(-1662.7866486385967),\n",
       " array(-1741.9976798336397),\n",
       " array(-1662.0787354129543),\n",
       " array(-1557.3322405541194)]"
      ]
     },
     "execution_count": 19,
     "metadata": {},
     "output_type": "execute_result"
    }
   ],
   "source": [
    "layers = [\n",
    "    Embedding(size=256, n_features=tokenizer.n_features),\n",
    "    GatedRecurrent(size=512, activation='tanh', gate_activation='steeper_sigmoid', init='orthogonal', seq_output=False, p_drop=0.75),\n",
    "    Dense(size=1, activation='sigmoid', init='orthogonal')\n",
    "]\n",
    "\n",
    "model = RNN(layers=layers, cost='bce', updater=Adadelta(lr=0.5))\n",
    "model.fit(trainX, trainY, n_epochs=1)"
   ]
  },
  {
   "cell_type": "code",
   "execution_count": 32,
   "metadata": {
    "collapsed": false
   },
   "outputs": [
    {
     "name": "stdout",
     "output_type": "stream",
     "text": [
      "{'settings': {'init': 'uniform', 'weights': None, 'n_features': 4354, 'size': 256}, 'wv': <TensorType(float64, matrix)>, 'init': <function uniform at 0x109a86a28>, 'params': [<TensorType(float64, matrix)>], 'input': <TensorType(int32, matrix)>, 'n_features': 4354, 'size': 256}\n"
     ]
    }
   ],
   "source": [
    "print model.layers[0].__dict__"
   ]
  },
  {
   "cell_type": "code",
   "execution_count": 33,
   "metadata": {
    "collapsed": true
   },
   "outputs": [],
   "source": [
    "testX = tokenizer.transform(testX)\n",
    "prediction = model.predict(testX)"
   ]
  },
  {
   "cell_type": "code",
   "execution_count": 43,
   "metadata": {
    "collapsed": true
   },
   "outputs": [],
   "source": [
    "prediction = prediction.astype('int32')"
   ]
  },
  {
   "cell_type": "code",
   "execution_count": 44,
   "metadata": {
    "collapsed": true
   },
   "outputs": [],
   "source": [
    "# Create your first submission file\n",
    "submission = pd.DataFrame({\"id\": idx, \"prediction\": prediction.ravel()})\n",
    "submission.to_csv(\"submission.csv\", index=False)"
   ]
  }
 ],
 "metadata": {
  "kernelspec": {
   "display_name": "Python 2",
   "language": "python",
   "name": "python2"
  },
  "language_info": {
   "codemirror_mode": {
    "name": "ipython",
    "version": 2
   },
   "file_extension": ".py",
   "mimetype": "text/x-python",
   "name": "python",
   "nbconvert_exporter": "python",
   "pygments_lexer": "ipython2",
   "version": "2.7.10"
  }
 },
 "nbformat": 4,
 "nbformat_minor": 0
}
